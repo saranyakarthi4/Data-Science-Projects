{
 "cells": [
  {
   "cell_type": "markdown",
   "metadata": {
    "colab_type": "text",
    "id": "EvpyI0E7SpNT"
   },
   "source": [
    "## Random Forest\n",
    "\n",
    "Random Forest is an ensemble of Decision Trees. With a few exceptions, a `RandomForestClassifier` has all the hyperparameters of a `DecisionTreeClassifier` (to control how trees are grown), plus all the hyperparameters of a `BaggingClassifier` to control the ensemble itself.\n",
    "\n",
    "The Random Forest algorithm introduces extra randomness when growing trees; instead of searching for the very best feature when splitting a node, it searches for the best feature among a random subset of features. This results in a greater tree diversity, which (once again) trades a higher bias for a lower variance, generally yielding an overall better model. The following `BaggingClassifier` is roughly equivalent to the previous `RandomForestClassifier`. Run the cell below to visualize a single estimator from a random forest model, using the Iris dataset to classify the data into the appropriate species."
   ]
  },
  {
   "cell_type": "code",
   "execution_count": 1,
   "metadata": {
    "colab": {
     "base_uri": "https://localhost:8080/",
     "height": 1000,
     "output_embedded_package_id": "1NIbktS4yyfVlE2Y4bXMargRbQgbdWTFh"
    },
    "colab_type": "code",
    "executionInfo": {
     "elapsed": 7579,
     "status": "ok",
     "timestamp": 1592213046926,
     "user": {
      "displayName": "Andrew Maguire",
      "photoUrl": "https://lh3.googleusercontent.com/a-/AOh14GjaIpd1sqQPWOc9NJXtyl5fYSonikxEZgshlvloAYk=s64",
      "userId": "13447906511017779027"
     },
     "user_tz": -60
    },
    "id": "z_-6xEUFSpNU",
    "outputId": "75184be3-e99c-4c44-a638-824a9ba0b1e9"
   },
   "outputs": [
    {
     "ename": "FileNotFoundError",
     "evalue": "[Errno 2] No such file or directory: 'dot'",
     "output_type": "error",
     "traceback": [
      "\u001b[0;31m---------------------------------------------------------------------------\u001b[0m",
      "\u001b[0;31mFileNotFoundError\u001b[0m                         Traceback (most recent call last)",
      "\u001b[0;32m<ipython-input-1-6d9aafea91ef>\u001b[0m in \u001b[0;36m<module>\u001b[0;34m\u001b[0m\n\u001b[1;32m     21\u001b[0m \u001b[0;31m# Convert to png using system command (requires Graphviz)\u001b[0m\u001b[0;34m\u001b[0m\u001b[0;34m\u001b[0m\u001b[0;34m\u001b[0m\u001b[0m\n\u001b[1;32m     22\u001b[0m \u001b[0;32mfrom\u001b[0m \u001b[0msubprocess\u001b[0m \u001b[0;32mimport\u001b[0m \u001b[0mcall\u001b[0m\u001b[0;34m\u001b[0m\u001b[0;34m\u001b[0m\u001b[0m\n\u001b[0;32m---> 23\u001b[0;31m \u001b[0mcall\u001b[0m\u001b[0;34m(\u001b[0m\u001b[0;34m[\u001b[0m\u001b[0;34m'dot'\u001b[0m\u001b[0;34m,\u001b[0m \u001b[0;34m'-Tpng'\u001b[0m\u001b[0;34m,\u001b[0m \u001b[0;34m'tree.dot'\u001b[0m\u001b[0;34m,\u001b[0m \u001b[0;34m'-o'\u001b[0m\u001b[0;34m,\u001b[0m \u001b[0;34m'tree.png'\u001b[0m\u001b[0;34m,\u001b[0m \u001b[0;34m'-Gdpi=600'\u001b[0m\u001b[0;34m]\u001b[0m\u001b[0;34m)\u001b[0m\u001b[0;34m\u001b[0m\u001b[0;34m\u001b[0m\u001b[0m\n\u001b[0m\u001b[1;32m     24\u001b[0m \u001b[0;34m\u001b[0m\u001b[0m\n\u001b[1;32m     25\u001b[0m \u001b[0;31m# Display in jupyter notebook\u001b[0m\u001b[0;34m\u001b[0m\u001b[0;34m\u001b[0m\u001b[0;34m\u001b[0m\u001b[0m\n",
      "\u001b[0;32m~/opt/anaconda3/lib/python3.8/subprocess.py\u001b[0m in \u001b[0;36mcall\u001b[0;34m(timeout, *popenargs, **kwargs)\u001b[0m\n\u001b[1;32m    338\u001b[0m     \u001b[0mretcode\u001b[0m \u001b[0;34m=\u001b[0m \u001b[0mcall\u001b[0m\u001b[0;34m(\u001b[0m\u001b[0;34m[\u001b[0m\u001b[0;34m\"ls\"\u001b[0m\u001b[0;34m,\u001b[0m \u001b[0;34m\"-l\"\u001b[0m\u001b[0;34m]\u001b[0m\u001b[0;34m)\u001b[0m\u001b[0;34m\u001b[0m\u001b[0;34m\u001b[0m\u001b[0m\n\u001b[1;32m    339\u001b[0m     \"\"\"\n\u001b[0;32m--> 340\u001b[0;31m     \u001b[0;32mwith\u001b[0m \u001b[0mPopen\u001b[0m\u001b[0;34m(\u001b[0m\u001b[0;34m*\u001b[0m\u001b[0mpopenargs\u001b[0m\u001b[0;34m,\u001b[0m \u001b[0;34m**\u001b[0m\u001b[0mkwargs\u001b[0m\u001b[0;34m)\u001b[0m \u001b[0;32mas\u001b[0m \u001b[0mp\u001b[0m\u001b[0;34m:\u001b[0m\u001b[0;34m\u001b[0m\u001b[0;34m\u001b[0m\u001b[0m\n\u001b[0m\u001b[1;32m    341\u001b[0m         \u001b[0;32mtry\u001b[0m\u001b[0;34m:\u001b[0m\u001b[0;34m\u001b[0m\u001b[0;34m\u001b[0m\u001b[0m\n\u001b[1;32m    342\u001b[0m             \u001b[0;32mreturn\u001b[0m \u001b[0mp\u001b[0m\u001b[0;34m.\u001b[0m\u001b[0mwait\u001b[0m\u001b[0;34m(\u001b[0m\u001b[0mtimeout\u001b[0m\u001b[0;34m=\u001b[0m\u001b[0mtimeout\u001b[0m\u001b[0;34m)\u001b[0m\u001b[0;34m\u001b[0m\u001b[0;34m\u001b[0m\u001b[0m\n",
      "\u001b[0;32m~/opt/anaconda3/lib/python3.8/subprocess.py\u001b[0m in \u001b[0;36m__init__\u001b[0;34m(self, args, bufsize, executable, stdin, stdout, stderr, preexec_fn, close_fds, shell, cwd, env, universal_newlines, startupinfo, creationflags, restore_signals, start_new_session, pass_fds, encoding, errors, text)\u001b[0m\n\u001b[1;32m    852\u001b[0m                             encoding=encoding, errors=errors)\n\u001b[1;32m    853\u001b[0m \u001b[0;34m\u001b[0m\u001b[0m\n\u001b[0;32m--> 854\u001b[0;31m             self._execute_child(args, executable, preexec_fn, close_fds,\n\u001b[0m\u001b[1;32m    855\u001b[0m                                 \u001b[0mpass_fds\u001b[0m\u001b[0;34m,\u001b[0m \u001b[0mcwd\u001b[0m\u001b[0;34m,\u001b[0m \u001b[0menv\u001b[0m\u001b[0;34m,\u001b[0m\u001b[0;34m\u001b[0m\u001b[0;34m\u001b[0m\u001b[0m\n\u001b[1;32m    856\u001b[0m                                 \u001b[0mstartupinfo\u001b[0m\u001b[0;34m,\u001b[0m \u001b[0mcreationflags\u001b[0m\u001b[0;34m,\u001b[0m \u001b[0mshell\u001b[0m\u001b[0;34m,\u001b[0m\u001b[0;34m\u001b[0m\u001b[0;34m\u001b[0m\u001b[0m\n",
      "\u001b[0;32m~/opt/anaconda3/lib/python3.8/subprocess.py\u001b[0m in \u001b[0;36m_execute_child\u001b[0;34m(self, args, executable, preexec_fn, close_fds, pass_fds, cwd, env, startupinfo, creationflags, shell, p2cread, p2cwrite, c2pread, c2pwrite, errread, errwrite, restore_signals, start_new_session)\u001b[0m\n\u001b[1;32m   1700\u001b[0m                     \u001b[0;32mif\u001b[0m \u001b[0merrno_num\u001b[0m \u001b[0;34m!=\u001b[0m \u001b[0;36m0\u001b[0m\u001b[0;34m:\u001b[0m\u001b[0;34m\u001b[0m\u001b[0;34m\u001b[0m\u001b[0m\n\u001b[1;32m   1701\u001b[0m                         \u001b[0merr_msg\u001b[0m \u001b[0;34m=\u001b[0m \u001b[0mos\u001b[0m\u001b[0;34m.\u001b[0m\u001b[0mstrerror\u001b[0m\u001b[0;34m(\u001b[0m\u001b[0merrno_num\u001b[0m\u001b[0;34m)\u001b[0m\u001b[0;34m\u001b[0m\u001b[0;34m\u001b[0m\u001b[0m\n\u001b[0;32m-> 1702\u001b[0;31m                     \u001b[0;32mraise\u001b[0m \u001b[0mchild_exception_type\u001b[0m\u001b[0;34m(\u001b[0m\u001b[0merrno_num\u001b[0m\u001b[0;34m,\u001b[0m \u001b[0merr_msg\u001b[0m\u001b[0;34m,\u001b[0m \u001b[0merr_filename\u001b[0m\u001b[0;34m)\u001b[0m\u001b[0;34m\u001b[0m\u001b[0;34m\u001b[0m\u001b[0m\n\u001b[0m\u001b[1;32m   1703\u001b[0m                 \u001b[0;32mraise\u001b[0m \u001b[0mchild_exception_type\u001b[0m\u001b[0;34m(\u001b[0m\u001b[0merr_msg\u001b[0m\u001b[0;34m)\u001b[0m\u001b[0;34m\u001b[0m\u001b[0;34m\u001b[0m\u001b[0m\n\u001b[1;32m   1704\u001b[0m \u001b[0;34m\u001b[0m\u001b[0m\n",
      "\u001b[0;31mFileNotFoundError\u001b[0m: [Errno 2] No such file or directory: 'dot'"
     ]
    }
   ],
   "source": [
    "from sklearn.datasets import load_iris\n",
    "iris = load_iris()\n",
    "\n",
    "# Model (can also use single decision tree)\n",
    "from sklearn.ensemble import RandomForestClassifier\n",
    "model = RandomForestClassifier(n_estimators=10)\n",
    "\n",
    "# Train\n",
    "model.fit(iris.data, iris.target)\n",
    "# Extract single tree\n",
    "estimator = model.estimators_[5]\n",
    "\n",
    "from sklearn.tree import export_graphviz\n",
    "# Export as dot file\n",
    "export_graphviz(estimator, out_file='tree.dot', \n",
    "                feature_names = iris.feature_names,\n",
    "                class_names = iris.target_names,\n",
    "                rounded = True, proportion = False, \n",
    "                precision = 2, filled = True)\n",
    "\n",
    "# Convert to png using system command (requires Graphviz)\n",
    "from subprocess import call\n",
    "call(['dot', '-Tpng', 'tree.dot', '-o', 'tree.png', '-Gdpi=600'])\n",
    "\n",
    "# Display in jupyter notebook\n",
    "from IPython.display import Image\n",
    "Image(filename = 'tree.png')"
   ]
  },
  {
   "cell_type": "markdown",
   "metadata": {
    "colab_type": "text",
    "id": "VSnWoCRUSpNY"
   },
   "source": [
    "Notice how each split seperates the data into buckets of similar observations. This is a single tree and a relatively simple classification dataset, but the same method is used in a more complex dataset with greater depth to the trees."
   ]
  },
  {
   "cell_type": "markdown",
   "metadata": {
    "colab_type": "text",
    "id": "tJ2aGPMZB5X8"
   },
   "source": [
    "## Coronavirus\n",
    "Coronavirus disease (COVID-19) is an infectious disease caused by a new virus.\n",
    "The disease causes respiratory illness (like the flu) with symptoms such as a cough, fever, and in more severe cases, difficulty breathing. You can protect yourself by washing your hands frequently, avoiding touching your face, and avoiding close contact (1 meter or 3 feet) with people who are unwell. An outbreak of COVID-19 started in December 2019 and at the time of the creation of this project was continuing to spread throughout the world. Many governments recommended only essential outings to public places and closed most business that do not serve food or sell essential items. An excellent [spatial dashboard](https://www.arcgis.com/apps/opsdashboard/index.html#/bda7594740fd40299423467b48e9ecf6) built by Johns Hopkins shows the daily confirmed cases by country. \n",
    "\n",
    "This case study was designed to drive home the important role that data science plays in real-world situations like this pandemic. This case study uses the Random Forest Classifier and a dataset from the South Korean cases of COVID-19 provided on [Kaggle](https://www.kaggle.com/kimjihoo/coronavirusdataset) to encourage research on this important topic. The goal of the case study is to build a Random Forest Classifier to predict the 'state' of the patient."
   ]
  },
  {
   "cell_type": "markdown",
   "metadata": {
    "colab_type": "text",
    "id": "7PrMkSjBQEMZ"
   },
   "source": [
    "First, please load the needed packages and modules into Python. Next, load the data into a pandas dataframe for ease of use."
   ]
  },
  {
   "cell_type": "code",
   "execution_count": 1,
   "metadata": {
    "colab": {},
    "colab_type": "code",
    "id": "X3EhD-LSB5YI"
   },
   "outputs": [],
   "source": [
    "import os\n",
    "import pandas as pd\n",
    "from datetime import datetime,timedelta\n",
    "import seaborn as sns\n",
    "import matplotlib.pyplot as plt\n",
    "import numpy as np\n",
    "%matplotlib inline\n",
    "#import plotly.graph_objects as go\n",
    "from sklearn.experimental import enable_iterative_imputer\n",
    "from sklearn.impute import IterativeImputer\n",
    "from sklearn.ensemble import ExtraTreesRegressor"
   ]
  },
  {
   "cell_type": "code",
   "execution_count": 41,
   "metadata": {
    "colab": {},
    "colab_type": "code",
    "id": "CiJQlTK1SpNd"
   },
   "outputs": [
    {
     "data": {
      "text/html": [
       "<div>\n",
       "<style scoped>\n",
       "    .dataframe tbody tr th:only-of-type {\n",
       "        vertical-align: middle;\n",
       "    }\n",
       "\n",
       "    .dataframe tbody tr th {\n",
       "        vertical-align: top;\n",
       "    }\n",
       "\n",
       "    .dataframe thead th {\n",
       "        text-align: right;\n",
       "    }\n",
       "</style>\n",
       "<table border=\"1\" class=\"dataframe\">\n",
       "  <thead>\n",
       "    <tr style=\"text-align: right;\">\n",
       "      <th></th>\n",
       "      <th>patient_id</th>\n",
       "      <th>global_num</th>\n",
       "      <th>sex</th>\n",
       "      <th>birth_year</th>\n",
       "      <th>age</th>\n",
       "      <th>country</th>\n",
       "      <th>province</th>\n",
       "      <th>city</th>\n",
       "      <th>disease</th>\n",
       "      <th>infection_case</th>\n",
       "      <th>infection_order</th>\n",
       "      <th>infected_by</th>\n",
       "      <th>contact_number</th>\n",
       "      <th>symptom_onset_date</th>\n",
       "      <th>confirmed_date</th>\n",
       "      <th>released_date</th>\n",
       "      <th>deceased_date</th>\n",
       "      <th>state</th>\n",
       "    </tr>\n",
       "  </thead>\n",
       "  <tbody>\n",
       "    <tr>\n",
       "      <th>0</th>\n",
       "      <td>1000000001</td>\n",
       "      <td>2.0</td>\n",
       "      <td>male</td>\n",
       "      <td>1964.0</td>\n",
       "      <td>50s</td>\n",
       "      <td>Korea</td>\n",
       "      <td>Seoul</td>\n",
       "      <td>Gangseo-gu</td>\n",
       "      <td>NaN</td>\n",
       "      <td>overseas inflow</td>\n",
       "      <td>1.0</td>\n",
       "      <td>NaN</td>\n",
       "      <td>75.0</td>\n",
       "      <td>2020-01-22</td>\n",
       "      <td>2020-01-23</td>\n",
       "      <td>2020-02-05</td>\n",
       "      <td>NaN</td>\n",
       "      <td>released</td>\n",
       "    </tr>\n",
       "    <tr>\n",
       "      <th>1</th>\n",
       "      <td>1000000002</td>\n",
       "      <td>5.0</td>\n",
       "      <td>male</td>\n",
       "      <td>1987.0</td>\n",
       "      <td>30s</td>\n",
       "      <td>Korea</td>\n",
       "      <td>Seoul</td>\n",
       "      <td>Jungnang-gu</td>\n",
       "      <td>NaN</td>\n",
       "      <td>overseas inflow</td>\n",
       "      <td>1.0</td>\n",
       "      <td>NaN</td>\n",
       "      <td>31.0</td>\n",
       "      <td>NaN</td>\n",
       "      <td>2020-01-30</td>\n",
       "      <td>2020-03-02</td>\n",
       "      <td>NaN</td>\n",
       "      <td>released</td>\n",
       "    </tr>\n",
       "    <tr>\n",
       "      <th>2</th>\n",
       "      <td>1000000003</td>\n",
       "      <td>6.0</td>\n",
       "      <td>male</td>\n",
       "      <td>1964.0</td>\n",
       "      <td>50s</td>\n",
       "      <td>Korea</td>\n",
       "      <td>Seoul</td>\n",
       "      <td>Jongno-gu</td>\n",
       "      <td>NaN</td>\n",
       "      <td>contact with patient</td>\n",
       "      <td>2.0</td>\n",
       "      <td>2.002000e+09</td>\n",
       "      <td>17.0</td>\n",
       "      <td>NaN</td>\n",
       "      <td>2020-01-30</td>\n",
       "      <td>2020-02-19</td>\n",
       "      <td>NaN</td>\n",
       "      <td>released</td>\n",
       "    </tr>\n",
       "    <tr>\n",
       "      <th>3</th>\n",
       "      <td>1000000004</td>\n",
       "      <td>7.0</td>\n",
       "      <td>male</td>\n",
       "      <td>1991.0</td>\n",
       "      <td>20s</td>\n",
       "      <td>Korea</td>\n",
       "      <td>Seoul</td>\n",
       "      <td>Mapo-gu</td>\n",
       "      <td>NaN</td>\n",
       "      <td>overseas inflow</td>\n",
       "      <td>1.0</td>\n",
       "      <td>NaN</td>\n",
       "      <td>9.0</td>\n",
       "      <td>2020-01-26</td>\n",
       "      <td>2020-01-30</td>\n",
       "      <td>2020-02-15</td>\n",
       "      <td>NaN</td>\n",
       "      <td>released</td>\n",
       "    </tr>\n",
       "    <tr>\n",
       "      <th>4</th>\n",
       "      <td>1000000005</td>\n",
       "      <td>9.0</td>\n",
       "      <td>female</td>\n",
       "      <td>1992.0</td>\n",
       "      <td>20s</td>\n",
       "      <td>Korea</td>\n",
       "      <td>Seoul</td>\n",
       "      <td>Seongbuk-gu</td>\n",
       "      <td>NaN</td>\n",
       "      <td>contact with patient</td>\n",
       "      <td>2.0</td>\n",
       "      <td>1.000000e+09</td>\n",
       "      <td>2.0</td>\n",
       "      <td>NaN</td>\n",
       "      <td>2020-01-31</td>\n",
       "      <td>2020-02-24</td>\n",
       "      <td>NaN</td>\n",
       "      <td>released</td>\n",
       "    </tr>\n",
       "  </tbody>\n",
       "</table>\n",
       "</div>"
      ],
      "text/plain": [
       "   patient_id  global_num     sex  birth_year  age country province  \\\n",
       "0  1000000001         2.0    male      1964.0  50s   Korea    Seoul   \n",
       "1  1000000002         5.0    male      1987.0  30s   Korea    Seoul   \n",
       "2  1000000003         6.0    male      1964.0  50s   Korea    Seoul   \n",
       "3  1000000004         7.0    male      1991.0  20s   Korea    Seoul   \n",
       "4  1000000005         9.0  female      1992.0  20s   Korea    Seoul   \n",
       "\n",
       "          city disease        infection_case  infection_order   infected_by  \\\n",
       "0   Gangseo-gu     NaN       overseas inflow              1.0           NaN   \n",
       "1  Jungnang-gu     NaN       overseas inflow              1.0           NaN   \n",
       "2    Jongno-gu     NaN  contact with patient              2.0  2.002000e+09   \n",
       "3      Mapo-gu     NaN       overseas inflow              1.0           NaN   \n",
       "4  Seongbuk-gu     NaN  contact with patient              2.0  1.000000e+09   \n",
       "\n",
       "   contact_number symptom_onset_date confirmed_date released_date  \\\n",
       "0            75.0         2020-01-22     2020-01-23    2020-02-05   \n",
       "1            31.0                NaN     2020-01-30    2020-03-02   \n",
       "2            17.0                NaN     2020-01-30    2020-02-19   \n",
       "3             9.0         2020-01-26     2020-01-30    2020-02-15   \n",
       "4             2.0                NaN     2020-01-31    2020-02-24   \n",
       "\n",
       "  deceased_date     state  \n",
       "0           NaN  released  \n",
       "1           NaN  released  \n",
       "2           NaN  released  \n",
       "3           NaN  released  \n",
       "4           NaN  released  "
      ]
     },
     "execution_count": 41,
     "metadata": {},
     "output_type": "execute_result"
    }
   ],
   "source": [
    "url ='SouthKoreacoronavirusdataset/PatientInfo.csv'\n",
    "df = pd.read_csv(url)\n",
    "df.head()"
   ]
  },
  {
   "cell_type": "code",
   "execution_count": 142,
   "metadata": {
    "colab": {},
    "colab_type": "code",
    "id": "GUY5Cp2cSpNg"
   },
   "outputs": [
    {
     "data": {
      "text/plain": [
       "(2218, 18)"
      ]
     },
     "execution_count": 142,
     "metadata": {},
     "output_type": "execute_result"
    }
   ],
   "source": [
    "df.shape"
   ]
  },
  {
   "cell_type": "code",
   "execution_count": 42,
   "metadata": {
    "colab": {},
    "colab_type": "code",
    "id": "oxKUKR_pSpNi"
   },
   "outputs": [
    {
     "data": {
      "text/html": [
       "<div>\n",
       "<style scoped>\n",
       "    .dataframe tbody tr th:only-of-type {\n",
       "        vertical-align: middle;\n",
       "    }\n",
       "\n",
       "    .dataframe tbody tr th {\n",
       "        vertical-align: top;\n",
       "    }\n",
       "\n",
       "    .dataframe thead th {\n",
       "        text-align: right;\n",
       "    }\n",
       "</style>\n",
       "<table border=\"1\" class=\"dataframe\">\n",
       "  <thead>\n",
       "    <tr style=\"text-align: right;\">\n",
       "      <th></th>\n",
       "      <th>VarName</th>\n",
       "      <th>NullCount</th>\n",
       "    </tr>\n",
       "  </thead>\n",
       "  <tbody>\n",
       "    <tr>\n",
       "      <th>0</th>\n",
       "      <td>disease</td>\n",
       "      <td>2199</td>\n",
       "    </tr>\n",
       "    <tr>\n",
       "      <th>1</th>\n",
       "      <td>deceased_date</td>\n",
       "      <td>2186</td>\n",
       "    </tr>\n",
       "    <tr>\n",
       "      <th>2</th>\n",
       "      <td>infection_order</td>\n",
       "      <td>2176</td>\n",
       "    </tr>\n",
       "    <tr>\n",
       "      <th>3</th>\n",
       "      <td>symptom_onset_date</td>\n",
       "      <td>2025</td>\n",
       "    </tr>\n",
       "    <tr>\n",
       "      <th>4</th>\n",
       "      <td>released_date</td>\n",
       "      <td>1995</td>\n",
       "    </tr>\n",
       "    <tr>\n",
       "      <th>5</th>\n",
       "      <td>contact_number</td>\n",
       "      <td>1807</td>\n",
       "    </tr>\n",
       "    <tr>\n",
       "      <th>6</th>\n",
       "      <td>infected_by</td>\n",
       "      <td>1749</td>\n",
       "    </tr>\n",
       "    <tr>\n",
       "      <th>7</th>\n",
       "      <td>infection_case</td>\n",
       "      <td>1055</td>\n",
       "    </tr>\n",
       "    <tr>\n",
       "      <th>8</th>\n",
       "      <td>global_num</td>\n",
       "      <td>904</td>\n",
       "    </tr>\n",
       "    <tr>\n",
       "      <th>9</th>\n",
       "      <td>birth_year</td>\n",
       "      <td>454</td>\n",
       "    </tr>\n",
       "    <tr>\n",
       "      <th>10</th>\n",
       "      <td>age</td>\n",
       "      <td>261</td>\n",
       "    </tr>\n",
       "    <tr>\n",
       "      <th>11</th>\n",
       "      <td>sex</td>\n",
       "      <td>145</td>\n",
       "    </tr>\n",
       "    <tr>\n",
       "      <th>12</th>\n",
       "      <td>confirmed_date</td>\n",
       "      <td>141</td>\n",
       "    </tr>\n",
       "    <tr>\n",
       "      <th>13</th>\n",
       "      <td>state</td>\n",
       "      <td>88</td>\n",
       "    </tr>\n",
       "    <tr>\n",
       "      <th>14</th>\n",
       "      <td>city</td>\n",
       "      <td>65</td>\n",
       "    </tr>\n",
       "  </tbody>\n",
       "</table>\n",
       "</div>"
      ],
      "text/plain": [
       "               VarName  NullCount\n",
       "0              disease       2199\n",
       "1        deceased_date       2186\n",
       "2      infection_order       2176\n",
       "3   symptom_onset_date       2025\n",
       "4        released_date       1995\n",
       "5       contact_number       1807\n",
       "6          infected_by       1749\n",
       "7       infection_case       1055\n",
       "8           global_num        904\n",
       "9           birth_year        454\n",
       "10                 age        261\n",
       "11                 sex        145\n",
       "12      confirmed_date        141\n",
       "13               state         88\n",
       "14                city         65"
      ]
     },
     "execution_count": 42,
     "metadata": {},
     "output_type": "execute_result"
    }
   ],
   "source": [
    "#Counts of null values \n",
    "na_df=pd.DataFrame(df.isnull().sum().sort_values(ascending=False)).reset_index()\n",
    "na_df.columns = ['VarName', 'NullCount']\n",
    "na_df[(na_df['NullCount']>0)]"
   ]
  },
  {
   "cell_type": "code",
   "execution_count": 4,
   "metadata": {
    "colab": {},
    "colab_type": "code",
    "id": "NhPtmRWdSpNl"
   },
   "outputs": [
    {
     "data": {
      "text/plain": [
       "isolated    1791\n",
       "released     307\n",
       "deceased      32\n",
       "Name: state, dtype: int64"
      ]
     },
     "execution_count": 4,
     "metadata": {},
     "output_type": "execute_result"
    }
   ],
   "source": [
    "#counts of response variable values\n",
    "df.state.value_counts()"
   ]
  },
  {
   "cell_type": "code",
   "execution_count": 5,
   "metadata": {},
   "outputs": [],
   "source": [
    "from datetime import datetime"
   ]
  },
  {
   "cell_type": "markdown",
   "metadata": {
    "colab_type": "text",
    "id": "06e0gqMzSpNp"
   },
   "source": [
    " **<font color='teal'> Create a new column named 'n_age' which is the calculated age based on the birth year column.</font>**"
   ]
  },
  {
   "cell_type": "code",
   "execution_count": 43,
   "metadata": {
    "colab": {},
    "colab_type": "code",
    "id": "DVCW7LBRSpNp"
   },
   "outputs": [],
   "source": [
    "cur_year = datetime.now().year\n",
    "df['n_age'] =  cur_year - df['birth_year']"
   ]
  },
  {
   "cell_type": "markdown",
   "metadata": {
    "colab_type": "text",
    "id": "w9t91IzDSpNr"
   },
   "source": [
    "### Handle Missing Values"
   ]
  },
  {
   "cell_type": "markdown",
   "metadata": {
    "colab_type": "text",
    "id": "Fm1TjGDhSpNs"
   },
   "source": [
    " **<font color='teal'> Print the number of missing values by column.</font>**"
   ]
  },
  {
   "cell_type": "code",
   "execution_count": 7,
   "metadata": {
    "colab": {},
    "colab_type": "code",
    "id": "PAtr2t3rSpNs"
   },
   "outputs": [
    {
     "data": {
      "text/plain": [
       "patient_id               0\n",
       "global_num             904\n",
       "sex                    145\n",
       "birth_year             454\n",
       "age                    261\n",
       "country                  0\n",
       "province                 0\n",
       "city                    65\n",
       "disease               2199\n",
       "infection_case        1055\n",
       "infection_order       2176\n",
       "infected_by           1749\n",
       "contact_number        1807\n",
       "symptom_onset_date    2025\n",
       "confirmed_date         141\n",
       "released_date         1995\n",
       "deceased_date         2186\n",
       "state                   88\n",
       "n_age                  454\n",
       "dtype: int64"
      ]
     },
     "execution_count": 7,
     "metadata": {},
     "output_type": "execute_result"
    }
   ],
   "source": [
    "df.isnull().sum()"
   ]
  },
  {
   "cell_type": "code",
   "execution_count": 8,
   "metadata": {
    "colab": {},
    "colab_type": "code",
    "id": "I8B5cY19SpNu"
   },
   "outputs": [
    {
     "name": "stdout",
     "output_type": "stream",
     "text": [
      "<class 'pandas.core.frame.DataFrame'>\n",
      "RangeIndex: 2218 entries, 0 to 2217\n",
      "Data columns (total 19 columns):\n",
      " #   Column              Non-Null Count  Dtype  \n",
      "---  ------              --------------  -----  \n",
      " 0   patient_id          2218 non-null   int64  \n",
      " 1   global_num          1314 non-null   float64\n",
      " 2   sex                 2073 non-null   object \n",
      " 3   birth_year          1764 non-null   float64\n",
      " 4   age                 1957 non-null   object \n",
      " 5   country             2218 non-null   object \n",
      " 6   province            2218 non-null   object \n",
      " 7   city                2153 non-null   object \n",
      " 8   disease             19 non-null     object \n",
      " 9   infection_case      1163 non-null   object \n",
      " 10  infection_order     42 non-null     float64\n",
      " 11  infected_by         469 non-null    float64\n",
      " 12  contact_number      411 non-null    float64\n",
      " 13  symptom_onset_date  193 non-null    object \n",
      " 14  confirmed_date      2077 non-null   object \n",
      " 15  released_date       223 non-null    object \n",
      " 16  deceased_date       32 non-null     object \n",
      " 17  state               2130 non-null   object \n",
      " 18  n_age               1764 non-null   float64\n",
      "dtypes: float64(6), int64(1), object(12)\n",
      "memory usage: 329.4+ KB\n"
     ]
    }
   ],
   "source": [
    "df.info()"
   ]
  },
  {
   "cell_type": "code",
   "execution_count": 9,
   "metadata": {},
   "outputs": [
    {
     "data": {
      "text/plain": [
       "True    19\n",
       "Name: disease, dtype: int64"
      ]
     },
     "execution_count": 9,
     "metadata": {},
     "output_type": "execute_result"
    }
   ],
   "source": [
    "df['disease'].value_counts()"
   ]
  },
  {
   "cell_type": "markdown",
   "metadata": {
    "colab_type": "text",
    "id": "zjLpYG_ASpNw"
   },
   "source": [
    " **<font color='teal'> Fill the 'disease' missing values with 0 and remap the True values to 1.</font>**"
   ]
  },
  {
   "cell_type": "code",
   "execution_count": 44,
   "metadata": {
    "colab": {},
    "colab_type": "code",
    "id": "NHBtVW1ESpNx"
   },
   "outputs": [],
   "source": [
    "df['disease'] = np.where(df['disease'].isnull(),0,1)"
   ]
  },
  {
   "cell_type": "markdown",
   "metadata": {
    "colab_type": "text",
    "id": "fZArBBUhSpNz"
   },
   "source": [
    " **<font color='teal'> Fill null values in the following columns with their mean: 'global_number','birth_year','infection_order','infected_by'and 'contact_number'</font>**"
   ]
  },
  {
   "cell_type": "code",
   "execution_count": 45,
   "metadata": {
    "colab": {},
    "colab_type": "code",
    "id": "zQdarDx_SpNz"
   },
   "outputs": [],
   "source": [
    "def fill_null(col_name):\n",
    "    df[col_name] = np.where(df[col_name].isnull(),df[col_name].mean(),df[col_name])\n",
    "\n",
    "for col in ['global_num','birth_year','infection_order','infected_by','contact_number']:\n",
    "    fill_null(col)"
   ]
  },
  {
   "cell_type": "code",
   "execution_count": 12,
   "metadata": {},
   "outputs": [
    {
     "data": {
      "text/plain": [
       "patient_id               0\n",
       "global_num               0\n",
       "sex                    145\n",
       "birth_year               0\n",
       "age                    261\n",
       "country                  0\n",
       "province                 0\n",
       "city                    65\n",
       "disease                  0\n",
       "infection_case        1055\n",
       "infection_order          0\n",
       "infected_by              0\n",
       "contact_number           0\n",
       "symptom_onset_date    2025\n",
       "confirmed_date         141\n",
       "released_date         1995\n",
       "deceased_date         2186\n",
       "state                   88\n",
       "n_age                  454\n",
       "dtype: int64"
      ]
     },
     "execution_count": 12,
     "metadata": {},
     "output_type": "execute_result"
    }
   ],
   "source": [
    "df.isnull().sum()"
   ]
  },
  {
   "cell_type": "markdown",
   "metadata": {
    "colab_type": "text",
    "id": "Coy_jYEbSpN2"
   },
   "source": [
    " **<font color='teal'> Fill the rest of the missing values with any method.</font>**"
   ]
  },
  {
   "cell_type": "code",
   "execution_count": 46,
   "metadata": {},
   "outputs": [],
   "source": [
    "df['sex'] = np.where(df['sex'].isnull(),'Unknown',df['sex'])"
   ]
  },
  {
   "cell_type": "code",
   "execution_count": 47,
   "metadata": {
    "colab": {},
    "colab_type": "code",
    "id": "ATJ84cdDSpN2"
   },
   "outputs": [],
   "source": [
    "df.age = df['age'].str.replace('s','')\n",
    "df.age = pd.to_numeric(df['age'], errors = 'coerce')\n",
    "df['age'] = np.where(df['age'].isnull(),df['age'].mean(),df['age'])"
   ]
  },
  {
   "cell_type": "code",
   "execution_count": 48,
   "metadata": {},
   "outputs": [],
   "source": [
    "df['n_age'] = np.where(df['n_age'].isnull(),df['n_age'].mean(),df['n_age'])"
   ]
  },
  {
   "cell_type": "code",
   "execution_count": 49,
   "metadata": {},
   "outputs": [],
   "source": [
    "df['city'] =  np.where(df['city'].isnull(),'Unknown',df['city'])"
   ]
  },
  {
   "cell_type": "code",
   "execution_count": 50,
   "metadata": {},
   "outputs": [
    {
     "data": {
      "text/plain": [
       "female     1171\n",
       "male        902\n",
       "Unknown     145\n",
       "Name: sex, dtype: int64"
      ]
     },
     "execution_count": 50,
     "metadata": {},
     "output_type": "execute_result"
    }
   ],
   "source": [
    "df['sex'].value_counts()"
   ]
  },
  {
   "cell_type": "code",
   "execution_count": 51,
   "metadata": {},
   "outputs": [],
   "source": [
    "df['infection_case'] = np.where(((df['infection_case'] =='etc') | (df['infection_case'].isnull())),'Unknown',df['infection_case'] )"
   ]
  },
  {
   "cell_type": "code",
   "execution_count": 52,
   "metadata": {},
   "outputs": [],
   "source": [
    "# disease column always has True \n",
    "# Dropping 3 columns (symptom_onset_date,released_date,deceased_date ) as they have more than ~90% of data as NULL\n",
    "df = df.drop(['disease','symptom_onset_date','released_date','deceased_date','confirmed_date'],axis=1)"
   ]
  },
  {
   "cell_type": "code",
   "execution_count": 30,
   "metadata": {},
   "outputs": [],
   "source": [
    "#df.confirmed_date = pd.to_datetime(df.confirmed_date)\n",
    "#df.confirmed_date.max()\n",
    "#df.confirmed_date = np.where(df.confirmed_date.isnull(), df.confirmed_date.max(), df.confirmed_date)"
   ]
  },
  {
   "cell_type": "code",
   "execution_count": 21,
   "metadata": {},
   "outputs": [
    {
     "data": {
      "text/plain": [
       "patient_id          0\n",
       "global_num          0\n",
       "sex                 0\n",
       "birth_year          0\n",
       "age                 0\n",
       "country             0\n",
       "province            0\n",
       "city                0\n",
       "infection_case      0\n",
       "infection_order     0\n",
       "infected_by         0\n",
       "contact_number      0\n",
       "state              88\n",
       "n_age               0\n",
       "dtype: int64"
      ]
     },
     "execution_count": 21,
     "metadata": {},
     "output_type": "execute_result"
    }
   ],
   "source": [
    "df.isnull().sum()"
   ]
  },
  {
   "cell_type": "markdown",
   "metadata": {
    "colab_type": "text",
    "id": "kGi4NkcbSpN4"
   },
   "source": [
    " **<font color='teal'> Check for any remaining null values.</font>**"
   ]
  },
  {
   "cell_type": "markdown",
   "metadata": {
    "colab_type": "text",
    "id": "PK9Jk8KgSpN9"
   },
   "source": [
    "Remove date columns from the data.\n"
   ]
  },
  {
   "cell_type": "code",
   "execution_count": 22,
   "metadata": {
    "colab": {},
    "colab_type": "code",
    "id": "PIdCkZ4AB5Zf"
   },
   "outputs": [
    {
     "name": "stdout",
     "output_type": "stream",
     "text": [
      "patient_id         2218\n",
      "global_num         1304\n",
      "sex                   3\n",
      "birth_year           97\n",
      "age                  12\n",
      "country               4\n",
      "province             17\n",
      "city                135\n",
      "infection_case       16\n",
      "infection_order       7\n",
      "infected_by         207\n",
      "contact_number       73\n",
      "state                 3\n",
      "n_age                97\n",
      "dtype: int64\n"
     ]
    }
   ],
   "source": [
    "print(df.nunique())"
   ]
  },
  {
   "cell_type": "markdown",
   "metadata": {
    "colab_type": "text",
    "id": "9oENi5DRB5Zq"
   },
   "source": [
    "Review the percent of unique values by column."
   ]
  },
  {
   "cell_type": "code",
   "execution_count": 23,
   "metadata": {
    "colab": {},
    "colab_type": "code",
    "id": "_IcO33VsB5Zt"
   },
   "outputs": [
    {
     "name": "stdout",
     "output_type": "stream",
     "text": [
      "patient_id         1.000000\n",
      "global_num         0.587917\n",
      "sex                0.001353\n",
      "birth_year         0.043733\n",
      "age                0.005410\n",
      "country            0.001803\n",
      "province           0.007665\n",
      "city               0.060866\n",
      "infection_case     0.007214\n",
      "infection_order    0.003156\n",
      "infected_by        0.093327\n",
      "contact_number     0.032913\n",
      "state              0.001353\n",
      "n_age              0.043733\n",
      "dtype: float64\n"
     ]
    }
   ],
   "source": [
    "print(df.nunique()/df.shape[0])"
   ]
  },
  {
   "cell_type": "markdown",
   "metadata": {
    "colab_type": "text",
    "id": "rCZHVugqB5Z4"
   },
   "source": [
    "Review the range of values per column."
   ]
  },
  {
   "cell_type": "code",
   "execution_count": 24,
   "metadata": {
    "colab": {},
    "colab_type": "code",
    "id": "Y3zLsGxMB5Z5"
   },
   "outputs": [
    {
     "data": {
      "text/html": [
       "<div>\n",
       "<style scoped>\n",
       "    .dataframe tbody tr th:only-of-type {\n",
       "        vertical-align: middle;\n",
       "    }\n",
       "\n",
       "    .dataframe tbody tr th {\n",
       "        vertical-align: top;\n",
       "    }\n",
       "\n",
       "    .dataframe thead th {\n",
       "        text-align: right;\n",
       "    }\n",
       "</style>\n",
       "<table border=\"1\" class=\"dataframe\">\n",
       "  <thead>\n",
       "    <tr style=\"text-align: right;\">\n",
       "      <th></th>\n",
       "      <th>count</th>\n",
       "      <th>mean</th>\n",
       "      <th>std</th>\n",
       "      <th>min</th>\n",
       "      <th>25%</th>\n",
       "      <th>50%</th>\n",
       "      <th>75%</th>\n",
       "      <th>max</th>\n",
       "    </tr>\n",
       "  </thead>\n",
       "  <tbody>\n",
       "    <tr>\n",
       "      <th>patient_id</th>\n",
       "      <td>2218.0</td>\n",
       "      <td>4.014678e+09</td>\n",
       "      <td>2.192419e+09</td>\n",
       "      <td>1.000000e+09</td>\n",
       "      <td>1.700000e+09</td>\n",
       "      <td>6.001000e+09</td>\n",
       "      <td>6.004000e+09</td>\n",
       "      <td>7.000000e+09</td>\n",
       "    </tr>\n",
       "    <tr>\n",
       "      <th>global_num</th>\n",
       "      <td>2218.0</td>\n",
       "      <td>4.664817e+03</td>\n",
       "      <td>2.211785e+03</td>\n",
       "      <td>1.000000e+00</td>\n",
       "      <td>4.205250e+03</td>\n",
       "      <td>4.664817e+03</td>\n",
       "      <td>5.900250e+03</td>\n",
       "      <td>8.717000e+03</td>\n",
       "    </tr>\n",
       "    <tr>\n",
       "      <th>birth_year</th>\n",
       "      <td>2218.0</td>\n",
       "      <td>1.974989e+03</td>\n",
       "      <td>1.731123e+01</td>\n",
       "      <td>1.916000e+03</td>\n",
       "      <td>1.965000e+03</td>\n",
       "      <td>1.974989e+03</td>\n",
       "      <td>1.988000e+03</td>\n",
       "      <td>2.020000e+03</td>\n",
       "    </tr>\n",
       "    <tr>\n",
       "      <th>age</th>\n",
       "      <td>2218.0</td>\n",
       "      <td>4.050077e+01</td>\n",
       "      <td>1.827358e+01</td>\n",
       "      <td>0.000000e+00</td>\n",
       "      <td>2.000000e+01</td>\n",
       "      <td>4.000000e+01</td>\n",
       "      <td>5.000000e+01</td>\n",
       "      <td>1.000000e+02</td>\n",
       "    </tr>\n",
       "    <tr>\n",
       "      <th>infection_order</th>\n",
       "      <td>2218.0</td>\n",
       "      <td>2.285714e+00</td>\n",
       "      <td>1.706622e-01</td>\n",
       "      <td>1.000000e+00</td>\n",
       "      <td>2.285714e+00</td>\n",
       "      <td>2.285714e+00</td>\n",
       "      <td>2.285714e+00</td>\n",
       "      <td>6.000000e+00</td>\n",
       "    </tr>\n",
       "    <tr>\n",
       "      <th>infected_by</th>\n",
       "      <td>2218.0</td>\n",
       "      <td>2.600789e+09</td>\n",
       "      <td>7.216328e+08</td>\n",
       "      <td>1.000000e+09</td>\n",
       "      <td>2.600789e+09</td>\n",
       "      <td>2.600789e+09</td>\n",
       "      <td>2.600789e+09</td>\n",
       "      <td>6.113000e+09</td>\n",
       "    </tr>\n",
       "    <tr>\n",
       "      <th>contact_number</th>\n",
       "      <td>2218.0</td>\n",
       "      <td>2.412895e+01</td>\n",
       "      <td>3.917141e+01</td>\n",
       "      <td>0.000000e+00</td>\n",
       "      <td>2.412895e+01</td>\n",
       "      <td>2.412895e+01</td>\n",
       "      <td>2.412895e+01</td>\n",
       "      <td>1.160000e+03</td>\n",
       "    </tr>\n",
       "    <tr>\n",
       "      <th>n_age</th>\n",
       "      <td>2218.0</td>\n",
       "      <td>4.601134e+01</td>\n",
       "      <td>1.731123e+01</td>\n",
       "      <td>1.000000e+00</td>\n",
       "      <td>3.300000e+01</td>\n",
       "      <td>4.601134e+01</td>\n",
       "      <td>5.600000e+01</td>\n",
       "      <td>1.050000e+02</td>\n",
       "    </tr>\n",
       "  </tbody>\n",
       "</table>\n",
       "</div>"
      ],
      "text/plain": [
       "                  count          mean           std           min  \\\n",
       "patient_id       2218.0  4.014678e+09  2.192419e+09  1.000000e+09   \n",
       "global_num       2218.0  4.664817e+03  2.211785e+03  1.000000e+00   \n",
       "birth_year       2218.0  1.974989e+03  1.731123e+01  1.916000e+03   \n",
       "age              2218.0  4.050077e+01  1.827358e+01  0.000000e+00   \n",
       "infection_order  2218.0  2.285714e+00  1.706622e-01  1.000000e+00   \n",
       "infected_by      2218.0  2.600789e+09  7.216328e+08  1.000000e+09   \n",
       "contact_number   2218.0  2.412895e+01  3.917141e+01  0.000000e+00   \n",
       "n_age            2218.0  4.601134e+01  1.731123e+01  1.000000e+00   \n",
       "\n",
       "                          25%           50%           75%           max  \n",
       "patient_id       1.700000e+09  6.001000e+09  6.004000e+09  7.000000e+09  \n",
       "global_num       4.205250e+03  4.664817e+03  5.900250e+03  8.717000e+03  \n",
       "birth_year       1.965000e+03  1.974989e+03  1.988000e+03  2.020000e+03  \n",
       "age              2.000000e+01  4.000000e+01  5.000000e+01  1.000000e+02  \n",
       "infection_order  2.285714e+00  2.285714e+00  2.285714e+00  6.000000e+00  \n",
       "infected_by      2.600789e+09  2.600789e+09  2.600789e+09  6.113000e+09  \n",
       "contact_number   2.412895e+01  2.412895e+01  2.412895e+01  1.160000e+03  \n",
       "n_age            3.300000e+01  4.601134e+01  5.600000e+01  1.050000e+02  "
      ]
     },
     "execution_count": 24,
     "metadata": {},
     "output_type": "execute_result"
    }
   ],
   "source": [
    "df.describe().T"
   ]
  },
  {
   "cell_type": "markdown",
   "metadata": {
    "colab_type": "text",
    "id": "AEBFq3hmB5aN"
   },
   "source": [
    "### Check for duplicated rows"
   ]
  },
  {
   "cell_type": "code",
   "execution_count": 53,
   "metadata": {
    "colab": {},
    "colab_type": "code",
    "id": "s9KGFCpkB5aP"
   },
   "outputs": [
    {
     "data": {
      "text/html": [
       "<div>\n",
       "<style scoped>\n",
       "    .dataframe tbody tr th:only-of-type {\n",
       "        vertical-align: middle;\n",
       "    }\n",
       "\n",
       "    .dataframe tbody tr th {\n",
       "        vertical-align: top;\n",
       "    }\n",
       "\n",
       "    .dataframe thead th {\n",
       "        text-align: right;\n",
       "    }\n",
       "</style>\n",
       "<table border=\"1\" class=\"dataframe\">\n",
       "  <thead>\n",
       "    <tr style=\"text-align: right;\">\n",
       "      <th></th>\n",
       "      <th>patient_id</th>\n",
       "      <th>global_num</th>\n",
       "      <th>sex</th>\n",
       "      <th>birth_year</th>\n",
       "      <th>age</th>\n",
       "      <th>country</th>\n",
       "      <th>province</th>\n",
       "      <th>city</th>\n",
       "      <th>infection_case</th>\n",
       "      <th>infection_order</th>\n",
       "      <th>infected_by</th>\n",
       "      <th>contact_number</th>\n",
       "      <th>state</th>\n",
       "      <th>n_age</th>\n",
       "    </tr>\n",
       "  </thead>\n",
       "  <tbody>\n",
       "  </tbody>\n",
       "</table>\n",
       "</div>"
      ],
      "text/plain": [
       "Empty DataFrame\n",
       "Columns: [patient_id, global_num, sex, birth_year, age, country, province, city, infection_case, infection_order, infected_by, contact_number, state, n_age]\n",
       "Index: []"
      ]
     },
     "execution_count": 53,
     "metadata": {},
     "output_type": "execute_result"
    }
   ],
   "source": [
    "duplicateRowsDF = df[df.duplicated()]\n",
    "duplicateRowsDF"
   ]
  },
  {
   "cell_type": "code",
   "execution_count": 54,
   "metadata": {},
   "outputs": [],
   "source": [
    "df= df.drop_duplicates()"
   ]
  },
  {
   "cell_type": "markdown",
   "metadata": {
    "colab_type": "text",
    "id": "8WOrbEk1SpOH"
   },
   "source": [
    "Print the categorical columns and their associated levels."
   ]
  },
  {
   "cell_type": "code",
   "execution_count": 27,
   "metadata": {
    "colab": {},
    "colab_type": "code",
    "id": "8QTm6RuRSpOH"
   },
   "outputs": [
    {
     "data": {
      "text/html": [
       "<div>\n",
       "<style scoped>\n",
       "    .dataframe tbody tr th:only-of-type {\n",
       "        vertical-align: middle;\n",
       "    }\n",
       "\n",
       "    .dataframe tbody tr th {\n",
       "        vertical-align: top;\n",
       "    }\n",
       "\n",
       "    .dataframe thead th {\n",
       "        text-align: right;\n",
       "    }\n",
       "</style>\n",
       "<table border=\"1\" class=\"dataframe\">\n",
       "  <thead>\n",
       "    <tr style=\"text-align: right;\">\n",
       "      <th></th>\n",
       "      <th>VarName</th>\n",
       "      <th>LevelsCount</th>\n",
       "    </tr>\n",
       "  </thead>\n",
       "  <tbody>\n",
       "    <tr>\n",
       "      <th>0</th>\n",
       "      <td>sex</td>\n",
       "      <td>3</td>\n",
       "    </tr>\n",
       "    <tr>\n",
       "      <th>1</th>\n",
       "      <td>country</td>\n",
       "      <td>4</td>\n",
       "    </tr>\n",
       "    <tr>\n",
       "      <th>2</th>\n",
       "      <td>province</td>\n",
       "      <td>17</td>\n",
       "    </tr>\n",
       "    <tr>\n",
       "      <th>3</th>\n",
       "      <td>city</td>\n",
       "      <td>135</td>\n",
       "    </tr>\n",
       "    <tr>\n",
       "      <th>4</th>\n",
       "      <td>infection_case</td>\n",
       "      <td>16</td>\n",
       "    </tr>\n",
       "    <tr>\n",
       "      <th>5</th>\n",
       "      <td>state</td>\n",
       "      <td>3</td>\n",
       "    </tr>\n",
       "  </tbody>\n",
       "</table>\n",
       "</div>"
      ],
      "text/plain": [
       "          VarName  LevelsCount\n",
       "0             sex            3\n",
       "1         country            4\n",
       "2        province           17\n",
       "3            city          135\n",
       "4  infection_case           16\n",
       "5           state            3"
      ]
     },
     "execution_count": 27,
     "metadata": {},
     "output_type": "execute_result"
    }
   ],
   "source": [
    "dfo = df.select_dtypes(include=['object'], exclude=['datetime'])\n",
    "dfo.shape\n",
    "#get levels for all variables\n",
    "vn = pd.DataFrame(dfo.nunique()).reset_index()\n",
    "vn.columns = ['VarName', 'LevelsCount']\n",
    "vn.sort_values(by='LevelsCount', ascending =False)\n",
    "vn"
   ]
  },
  {
   "cell_type": "markdown",
   "metadata": {
    "colab_type": "text",
    "id": "a43l6w_uSpOJ"
   },
   "source": [
    "**<font color='teal'> Plot the correlation heat map for the features.</font>**"
   ]
  },
  {
   "cell_type": "code",
   "execution_count": 29,
   "metadata": {},
   "outputs": [
    {
     "data": {
      "image/png": "[encoded data removed]",
      "text/plain": [
       "<Figure size 720x720 with 2 Axes>"
      ]
     },
     "metadata": {
      "needs_background": "light"
     },
     "output_type": "display_data"
    }
   ],
   "source": [
    "plt.figure(figsize=(10,10))\n",
    "_=sns.heatmap(df.corr(),annot=True)"
   ]
  },
  {
   "cell_type": "code",
   "execution_count": 112,
   "metadata": {},
   "outputs": [],
   "source": [
    "dfx= df.corr() \n"
   ]
  },
  {
   "cell_type": "code",
   "execution_count": 114,
   "metadata": {},
   "outputs": [
    {
     "data": {
      "text/plain": [
       "pandas.core.frame.DataFrame"
      ]
     },
     "execution_count": 114,
     "metadata": {},
     "output_type": "execute_result"
    }
   ],
   "source": [
    "type(dfx)"
   ]
  },
  {
   "cell_type": "code",
   "execution_count": null,
   "metadata": {},
   "outputs": [],
   "source": []
  },
  {
   "cell_type": "code",
   "execution_count": 111,
   "metadata": {},
   "outputs": [
    {
     "data": {
      "text/html": [
       "<div>\n",
       "<style scoped>\n",
       "    .dataframe tbody tr th:only-of-type {\n",
       "        vertical-align: middle;\n",
       "    }\n",
       "\n",
       "    .dataframe tbody tr th {\n",
       "        vertical-align: top;\n",
       "    }\n",
       "\n",
       "    .dataframe thead th {\n",
       "        text-align: right;\n",
       "    }\n",
       "</style>\n",
       "<table border=\"1\" class=\"dataframe\">\n",
       "  <thead>\n",
       "    <tr style=\"text-align: right;\">\n",
       "      <th></th>\n",
       "      <th>patient_id</th>\n",
       "      <th>global_num</th>\n",
       "      <th>birth_year</th>\n",
       "      <th>age</th>\n",
       "      <th>infection_order</th>\n",
       "      <th>infected_by</th>\n",
       "      <th>contact_number</th>\n",
       "      <th>n_age</th>\n",
       "    </tr>\n",
       "  </thead>\n",
       "  <tbody>\n",
       "    <tr>\n",
       "      <th>patient_id</th>\n",
       "      <td>1.000000</td>\n",
       "      <td>-0.115774</td>\n",
       "      <td>-0.052142</td>\n",
       "      <td>0.060115</td>\n",
       "      <td>-0.027281</td>\n",
       "      <td>0.296321</td>\n",
       "      <td>-0.046090</td>\n",
       "      <td>0.052142</td>\n",
       "    </tr>\n",
       "    <tr>\n",
       "      <th>global_num</th>\n",
       "      <td>-0.115774</td>\n",
       "      <td>1.000000</td>\n",
       "      <td>0.014039</td>\n",
       "      <td>0.000606</td>\n",
       "      <td>-0.014964</td>\n",
       "      <td>-0.052654</td>\n",
       "      <td>-0.042895</td>\n",
       "      <td>-0.014039</td>\n",
       "    </tr>\n",
       "    <tr>\n",
       "      <th>birth_year</th>\n",
       "      <td>-0.052142</td>\n",
       "      <td>0.014039</td>\n",
       "      <td>1.000000</td>\n",
       "      <td>-0.888650</td>\n",
       "      <td>-0.068835</td>\n",
       "      <td>0.027017</td>\n",
       "      <td>0.001434</td>\n",
       "      <td>-1.000000</td>\n",
       "    </tr>\n",
       "    <tr>\n",
       "      <th>age</th>\n",
       "      <td>0.060115</td>\n",
       "      <td>0.000606</td>\n",
       "      <td>-0.888650</td>\n",
       "      <td>1.000000</td>\n",
       "      <td>0.066945</td>\n",
       "      <td>-0.026566</td>\n",
       "      <td>-0.005302</td>\n",
       "      <td>0.888650</td>\n",
       "    </tr>\n",
       "    <tr>\n",
       "      <th>infection_order</th>\n",
       "      <td>-0.027281</td>\n",
       "      <td>-0.014964</td>\n",
       "      <td>-0.068835</td>\n",
       "      <td>0.066945</td>\n",
       "      <td>1.000000</td>\n",
       "      <td>-0.137447</td>\n",
       "      <td>-0.016014</td>\n",
       "      <td>0.068835</td>\n",
       "    </tr>\n",
       "    <tr>\n",
       "      <th>infected_by</th>\n",
       "      <td>0.296321</td>\n",
       "      <td>-0.052654</td>\n",
       "      <td>0.027017</td>\n",
       "      <td>-0.026566</td>\n",
       "      <td>-0.137447</td>\n",
       "      <td>1.000000</td>\n",
       "      <td>-0.021799</td>\n",
       "      <td>-0.027017</td>\n",
       "    </tr>\n",
       "    <tr>\n",
       "      <th>contact_number</th>\n",
       "      <td>-0.046090</td>\n",
       "      <td>-0.042895</td>\n",
       "      <td>0.001434</td>\n",
       "      <td>-0.005302</td>\n",
       "      <td>-0.016014</td>\n",
       "      <td>-0.021799</td>\n",
       "      <td>1.000000</td>\n",
       "      <td>-0.001434</td>\n",
       "    </tr>\n",
       "    <tr>\n",
       "      <th>n_age</th>\n",
       "      <td>0.052142</td>\n",
       "      <td>-0.014039</td>\n",
       "      <td>-1.000000</td>\n",
       "      <td>0.888650</td>\n",
       "      <td>0.068835</td>\n",
       "      <td>-0.027017</td>\n",
       "      <td>-0.001434</td>\n",
       "      <td>1.000000</td>\n",
       "    </tr>\n",
       "  </tbody>\n",
       "</table>\n",
       "</div>"
      ],
      "text/plain": [
       "                 patient_id  global_num  birth_year       age  \\\n",
       "patient_id         1.000000   -0.115774   -0.052142  0.060115   \n",
       "global_num        -0.115774    1.000000    0.014039  0.000606   \n",
       "birth_year        -0.052142    0.014039    1.000000 -0.888650   \n",
       "age                0.060115    0.000606   -0.888650  1.000000   \n",
       "infection_order   -0.027281   -0.014964   -0.068835  0.066945   \n",
       "infected_by        0.296321   -0.052654    0.027017 -0.026566   \n",
       "contact_number    -0.046090   -0.042895    0.001434 -0.005302   \n",
       "n_age              0.052142   -0.014039   -1.000000  0.888650   \n",
       "\n",
       "                 infection_order  infected_by  contact_number     n_age  \n",
       "patient_id             -0.027281     0.296321       -0.046090  0.052142  \n",
       "global_num             -0.014964    -0.052654       -0.042895 -0.014039  \n",
       "birth_year             -0.068835     0.027017        0.001434 -1.000000  \n",
       "age                     0.066945    -0.026566       -0.005302  0.888650  \n",
       "infection_order         1.000000    -0.137447       -0.016014  0.068835  \n",
       "infected_by            -0.137447     1.000000       -0.021799 -0.027017  \n",
       "contact_number         -0.016014    -0.021799        1.000000 -0.001434  \n",
       "n_age                   0.068835    -0.027017       -0.001434  1.000000  "
      ]
     },
     "execution_count": 111,
     "metadata": {},
     "output_type": "execute_result"
    }
   ],
   "source": [
    "(df.corr())"
   ]
  },
  {
   "cell_type": "markdown",
   "metadata": {
    "colab_type": "text",
    "id": "2KtABW0USpOK"
   },
   "source": [
    "**<font color='teal'> Plot the boxplots to check for outliers. </font>**"
   ]
  },
  {
   "cell_type": "code",
   "execution_count": 171,
   "metadata": {},
   "outputs": [
    {
     "data": {
      "text/plain": [
       "<matplotlib.axes._subplots.AxesSubplot at 0x11be148e0>"
      ]
     },
     "execution_count": 171,
     "metadata": {},
     "output_type": "execute_result"
    },
    {
     "data": {
      "image/png": "[encoded data removed]",
      "text/plain": [
       "<Figure size 720x360 with 1 Axes>"
      ]
     },
     "metadata": {
      "needs_background": "light"
     },
     "output_type": "display_data"
    }
   ],
   "source": [
    "plt.figure(figsize=(10,5))\n",
    "#sns.boxplot(x='infection_case', y=\"n_age\",data=df, orient=\"v\" )\n",
    "sns.boxplot(x='infection_order', y=\"n_age\",data=df, orient=\"v\" )"
   ]
  },
  {
   "cell_type": "markdown",
   "metadata": {
    "colab_type": "text",
    "id": "2Z_NuqkNSpOM"
   },
   "source": [
    "**<font color='teal'> Create dummy features for object type features. </font>**"
   ]
  },
  {
   "cell_type": "code",
   "execution_count": 172,
   "metadata": {},
   "outputs": [
    {
     "data": {
      "text/plain": [
       "Index(['patient_id', 'global_num', 'sex', 'birth_year', 'age', 'country',\n",
       "       'province', 'city', 'infection_case', 'infection_order', 'infected_by',\n",
       "       'contact_number', 'state', 'n_age'],\n",
       "      dtype='object')"
      ]
     },
     "execution_count": 172,
     "metadata": {},
     "output_type": "execute_result"
    }
   ],
   "source": [
    "df.columns"
   ]
  },
  {
   "cell_type": "code",
   "execution_count": 191,
   "metadata": {},
   "outputs": [
    {
     "data": {
      "text/plain": [
       "patient_id           int64\n",
       "global_num         float64\n",
       "sex                 object\n",
       "birth_year         float64\n",
       "age                float64\n",
       "country             object\n",
       "province            object\n",
       "city                object\n",
       "infection_case      object\n",
       "infection_order    float64\n",
       "infected_by        float64\n",
       "contact_number     float64\n",
       "state               object\n",
       "n_age              float64\n",
       "dtype: object"
      ]
     },
     "execution_count": 191,
     "metadata": {},
     "output_type": "execute_result"
    }
   ],
   "source": [
    "df.dtypes"
   ]
  },
  {
   "cell_type": "code",
   "execution_count": 177,
   "metadata": {},
   "outputs": [
    {
     "name": "stdout",
     "output_type": "stream",
     "text": [
      "patient_id 2218\n",
      "global_num 1304\n",
      "sex 3\n",
      "birth_year 97\n",
      "age 12\n",
      "country 4\n",
      "province 17\n",
      "city 15\n",
      "infection_case 16\n",
      "infection_order 7\n",
      "infected_by 207\n",
      "contact_number 73\n",
      "state 3\n",
      "n_age 97\n"
     ]
    }
   ],
   "source": [
    "for col in df.columns:\n",
    "    print (col,df[col].nunique())"
   ]
  },
  {
   "cell_type": "code",
   "execution_count": 55,
   "metadata": {},
   "outputs": [],
   "source": [
    "top_15_city = df.city.value_counts().head(15).index"
   ]
  },
  {
   "cell_type": "code",
   "execution_count": 56,
   "metadata": {},
   "outputs": [],
   "source": [
    "top_15_city\n",
    "df['city'] = df['city'].apply(lambda x: x if x in top_15_city else 'Others' )"
   ]
  },
  {
   "cell_type": "code",
   "execution_count": 129,
   "metadata": {},
   "outputs": [
    {
     "data": {
      "text/plain": [
       "Others           932\n",
       "Gyeongsan-si     535\n",
       "Cheonan-si        98\n",
       "Seongnam-si       89\n",
       "Unknown           65\n",
       "Bonghwa-gun       60\n",
       "Gumi-si           59\n",
       "Chilgok-gun       49\n",
       "Andong-si         47\n",
       "Pohang-si         47\n",
       "Cheongdo-gun      43\n",
       "Sejong            41\n",
       "Bucheon-si        41\n",
       "Uiseong-gun       40\n",
       "Yecheon-gun       36\n",
       "Yeongcheon-si     36\n",
       "Name: city, dtype: int64"
      ]
     },
     "execution_count": 129,
     "metadata": {},
     "output_type": "execute_result"
    }
   ],
   "source": [
    "df['city'].value_counts()"
   ]
  },
  {
   "cell_type": "code",
   "execution_count": 57,
   "metadata": {},
   "outputs": [],
   "source": [
    "df['infection_case'] = df['infection_case'].str.replace(\"'\",\"\")"
   ]
  },
  {
   "cell_type": "code",
   "execution_count": 36,
   "metadata": {},
   "outputs": [
    {
     "data": {
      "text/plain": [
       "Unknown                             1275\n",
       "contact with patient                 530\n",
       "Guro-gu Call Center                  102\n",
       "Shincheonji Church                    86\n",
       "overseas inflow                       61\n",
       "Onchun Church                         33\n",
       "gym facility in Cheonan               30\n",
       "Ministry of Oceans and Fisheries      27\n",
       "Cheongdo Daenam Hospital              21\n",
       "Dongan Church                         17\n",
       "Eunpyeong St. Marys Hospital          14\n",
       "Seongdong-gu APT                      13\n",
       "gym facility in Sejong                 4\n",
       "Suyeong-gu Kindergarten                3\n",
       "Pilgrimage to Israel                   1\n",
       "River of Grace Community Church        1\n",
       "Name: infection_case, dtype: int64"
      ]
     },
     "execution_count": 36,
     "metadata": {},
     "output_type": "execute_result"
    }
   ],
   "source": [
    "df['infection_case'].value_counts()"
   ]
  },
  {
   "cell_type": "code",
   "execution_count": 181,
   "metadata": {},
   "outputs": [
    {
     "data": {
      "text/plain": [
       "patient_id           int64\n",
       "global_num         float64\n",
       "sex                 object\n",
       "birth_year         float64\n",
       "age                float64\n",
       "country             object\n",
       "province            object\n",
       "city                object\n",
       "infection_case      object\n",
       "infection_order    float64\n",
       "infected_by        float64\n",
       "contact_number     float64\n",
       "state               object\n",
       "n_age              float64\n",
       "dtype: object"
      ]
     },
     "execution_count": 181,
     "metadata": {},
     "output_type": "execute_result"
    }
   ],
   "source": [
    "df.dtypes"
   ]
  },
  {
   "cell_type": "markdown",
   "metadata": {},
   "source": [
    "## Converting Categorical data into Numerical columns"
   ]
  },
  {
   "cell_type": "code",
   "execution_count": 58,
   "metadata": {},
   "outputs": [],
   "source": [
    "df1 = pd.get_dummies(data = df,columns=['sex','country','province','city','infection_case'])"
   ]
  },
  {
   "cell_type": "code",
   "execution_count": 59,
   "metadata": {},
   "outputs": [
    {
     "data": {
      "text/html": [
       "<div>\n",
       "<style scoped>\n",
       "    .dataframe tbody tr th:only-of-type {\n",
       "        vertical-align: middle;\n",
       "    }\n",
       "\n",
       "    .dataframe tbody tr th {\n",
       "        vertical-align: top;\n",
       "    }\n",
       "\n",
       "    .dataframe thead th {\n",
       "        text-align: right;\n",
       "    }\n",
       "</style>\n",
       "<table border=\"1\" class=\"dataframe\">\n",
       "  <thead>\n",
       "    <tr style=\"text-align: right;\">\n",
       "      <th></th>\n",
       "      <th>patient_id</th>\n",
       "      <th>global_num</th>\n",
       "      <th>birth_year</th>\n",
       "      <th>age</th>\n",
       "      <th>infection_order</th>\n",
       "      <th>infected_by</th>\n",
       "      <th>contact_number</th>\n",
       "      <th>state</th>\n",
       "      <th>n_age</th>\n",
       "      <th>sex_Unknown</th>\n",
       "      <th>...</th>\n",
       "      <th>infection_case_Pilgrimage to Israel</th>\n",
       "      <th>infection_case_River of Grace Community Church</th>\n",
       "      <th>infection_case_Seongdong-gu APT</th>\n",
       "      <th>infection_case_Shincheonji Church</th>\n",
       "      <th>infection_case_Suyeong-gu Kindergarten</th>\n",
       "      <th>infection_case_Unknown</th>\n",
       "      <th>infection_case_contact with patient</th>\n",
       "      <th>infection_case_gym facility in Cheonan</th>\n",
       "      <th>infection_case_gym facility in Sejong</th>\n",
       "      <th>infection_case_overseas inflow</th>\n",
       "    </tr>\n",
       "  </thead>\n",
       "  <tbody>\n",
       "    <tr>\n",
       "      <th>0</th>\n",
       "      <td>1000000001</td>\n",
       "      <td>2.0</td>\n",
       "      <td>1964.0</td>\n",
       "      <td>50.0</td>\n",
       "      <td>1.0</td>\n",
       "      <td>2.600789e+09</td>\n",
       "      <td>75.0</td>\n",
       "      <td>released</td>\n",
       "      <td>57.0</td>\n",
       "      <td>0</td>\n",
       "      <td>...</td>\n",
       "      <td>0</td>\n",
       "      <td>0</td>\n",
       "      <td>0</td>\n",
       "      <td>0</td>\n",
       "      <td>0</td>\n",
       "      <td>0</td>\n",
       "      <td>0</td>\n",
       "      <td>0</td>\n",
       "      <td>0</td>\n",
       "      <td>1</td>\n",
       "    </tr>\n",
       "    <tr>\n",
       "      <th>1</th>\n",
       "      <td>1000000002</td>\n",
       "      <td>5.0</td>\n",
       "      <td>1987.0</td>\n",
       "      <td>30.0</td>\n",
       "      <td>1.0</td>\n",
       "      <td>2.600789e+09</td>\n",
       "      <td>31.0</td>\n",
       "      <td>released</td>\n",
       "      <td>34.0</td>\n",
       "      <td>0</td>\n",
       "      <td>...</td>\n",
       "      <td>0</td>\n",
       "      <td>0</td>\n",
       "      <td>0</td>\n",
       "      <td>0</td>\n",
       "      <td>0</td>\n",
       "      <td>0</td>\n",
       "      <td>0</td>\n",
       "      <td>0</td>\n",
       "      <td>0</td>\n",
       "      <td>1</td>\n",
       "    </tr>\n",
       "    <tr>\n",
       "      <th>2</th>\n",
       "      <td>1000000003</td>\n",
       "      <td>6.0</td>\n",
       "      <td>1964.0</td>\n",
       "      <td>50.0</td>\n",
       "      <td>2.0</td>\n",
       "      <td>2.002000e+09</td>\n",
       "      <td>17.0</td>\n",
       "      <td>released</td>\n",
       "      <td>57.0</td>\n",
       "      <td>0</td>\n",
       "      <td>...</td>\n",
       "      <td>0</td>\n",
       "      <td>0</td>\n",
       "      <td>0</td>\n",
       "      <td>0</td>\n",
       "      <td>0</td>\n",
       "      <td>0</td>\n",
       "      <td>1</td>\n",
       "      <td>0</td>\n",
       "      <td>0</td>\n",
       "      <td>0</td>\n",
       "    </tr>\n",
       "  </tbody>\n",
       "</table>\n",
       "<p>3 rows × 65 columns</p>\n",
       "</div>"
      ],
      "text/plain": [
       "   patient_id  global_num  birth_year   age  infection_order   infected_by  \\\n",
       "0  1000000001         2.0      1964.0  50.0              1.0  2.600789e+09   \n",
       "1  1000000002         5.0      1987.0  30.0              1.0  2.600789e+09   \n",
       "2  1000000003         6.0      1964.0  50.0              2.0  2.002000e+09   \n",
       "\n",
       "   contact_number     state  n_age  sex_Unknown  ...  \\\n",
       "0            75.0  released   57.0            0  ...   \n",
       "1            31.0  released   34.0            0  ...   \n",
       "2            17.0  released   57.0            0  ...   \n",
       "\n",
       "   infection_case_Pilgrimage to Israel  \\\n",
       "0                                    0   \n",
       "1                                    0   \n",
       "2                                    0   \n",
       "\n",
       "   infection_case_River of Grace Community Church  \\\n",
       "0                                               0   \n",
       "1                                               0   \n",
       "2                                               0   \n",
       "\n",
       "   infection_case_Seongdong-gu APT  infection_case_Shincheonji Church  \\\n",
       "0                                0                                  0   \n",
       "1                                0                                  0   \n",
       "2                                0                                  0   \n",
       "\n",
       "   infection_case_Suyeong-gu Kindergarten  infection_case_Unknown  \\\n",
       "0                                       0                       0   \n",
       "1                                       0                       0   \n",
       "2                                       0                       0   \n",
       "\n",
       "   infection_case_contact with patient  \\\n",
       "0                                    0   \n",
       "1                                    0   \n",
       "2                                    1   \n",
       "\n",
       "   infection_case_gym facility in Cheonan  \\\n",
       "0                                       0   \n",
       "1                                       0   \n",
       "2                                       0   \n",
       "\n",
       "   infection_case_gym facility in Sejong  infection_case_overseas inflow  \n",
       "0                                      0                               1  \n",
       "1                                      0                               1  \n",
       "2                                      0                               0  \n",
       "\n",
       "[3 rows x 65 columns]"
      ]
     },
     "execution_count": 59,
     "metadata": {},
     "output_type": "execute_result"
    }
   ],
   "source": [
    "df1.head(3)"
   ]
  },
  {
   "cell_type": "code",
   "execution_count": 61,
   "metadata": {},
   "outputs": [],
   "source": [
    "# I am loading the data having NULL values for state column for predictions\n",
    "predictions_df = df1[df1['state'].isnull()]"
   ]
  },
  {
   "cell_type": "code",
   "execution_count": 62,
   "metadata": {},
   "outputs": [
    {
     "data": {
      "text/html": [
       "<div>\n",
       "<style scoped>\n",
       "    .dataframe tbody tr th:only-of-type {\n",
       "        vertical-align: middle;\n",
       "    }\n",
       "\n",
       "    .dataframe tbody tr th {\n",
       "        vertical-align: top;\n",
       "    }\n",
       "\n",
       "    .dataframe thead th {\n",
       "        text-align: right;\n",
       "    }\n",
       "</style>\n",
       "<table border=\"1\" class=\"dataframe\">\n",
       "  <thead>\n",
       "    <tr style=\"text-align: right;\">\n",
       "      <th></th>\n",
       "      <th>patient_id</th>\n",
       "      <th>global_num</th>\n",
       "      <th>birth_year</th>\n",
       "      <th>age</th>\n",
       "      <th>infection_order</th>\n",
       "      <th>infected_by</th>\n",
       "      <th>contact_number</th>\n",
       "      <th>state</th>\n",
       "      <th>n_age</th>\n",
       "      <th>sex_Unknown</th>\n",
       "      <th>...</th>\n",
       "      <th>infection_case_Pilgrimage to Israel</th>\n",
       "      <th>infection_case_River of Grace Community Church</th>\n",
       "      <th>infection_case_Seongdong-gu APT</th>\n",
       "      <th>infection_case_Shincheonji Church</th>\n",
       "      <th>infection_case_Suyeong-gu Kindergarten</th>\n",
       "      <th>infection_case_Unknown</th>\n",
       "      <th>infection_case_contact with patient</th>\n",
       "      <th>infection_case_gym facility in Cheonan</th>\n",
       "      <th>infection_case_gym facility in Sejong</th>\n",
       "      <th>infection_case_overseas inflow</th>\n",
       "    </tr>\n",
       "  </thead>\n",
       "  <tbody>\n",
       "    <tr>\n",
       "      <th>802</th>\n",
       "      <td>2000000214</td>\n",
       "      <td>8168.000000</td>\n",
       "      <td>1967.0</td>\n",
       "      <td>40.500766</td>\n",
       "      <td>2.285714</td>\n",
       "      <td>2.000000e+09</td>\n",
       "      <td>2.000000</td>\n",
       "      <td>NaN</td>\n",
       "      <td>54.0</td>\n",
       "      <td>0</td>\n",
       "      <td>...</td>\n",
       "      <td>0</td>\n",
       "      <td>0</td>\n",
       "      <td>0</td>\n",
       "      <td>0</td>\n",
       "      <td>0</td>\n",
       "      <td>0</td>\n",
       "      <td>1</td>\n",
       "      <td>0</td>\n",
       "      <td>0</td>\n",
       "      <td>0</td>\n",
       "    </tr>\n",
       "    <tr>\n",
       "      <th>803</th>\n",
       "      <td>2000000215</td>\n",
       "      <td>8195.000000</td>\n",
       "      <td>1974.0</td>\n",
       "      <td>40.500766</td>\n",
       "      <td>2.285714</td>\n",
       "      <td>2.000000e+09</td>\n",
       "      <td>24.128954</td>\n",
       "      <td>NaN</td>\n",
       "      <td>47.0</td>\n",
       "      <td>0</td>\n",
       "      <td>...</td>\n",
       "      <td>0</td>\n",
       "      <td>0</td>\n",
       "      <td>0</td>\n",
       "      <td>0</td>\n",
       "      <td>0</td>\n",
       "      <td>0</td>\n",
       "      <td>1</td>\n",
       "      <td>0</td>\n",
       "      <td>0</td>\n",
       "      <td>0</td>\n",
       "    </tr>\n",
       "    <tr>\n",
       "      <th>804</th>\n",
       "      <td>2000000216</td>\n",
       "      <td>8212.000000</td>\n",
       "      <td>1963.0</td>\n",
       "      <td>40.500766</td>\n",
       "      <td>2.285714</td>\n",
       "      <td>2.600789e+09</td>\n",
       "      <td>11.000000</td>\n",
       "      <td>NaN</td>\n",
       "      <td>58.0</td>\n",
       "      <td>0</td>\n",
       "      <td>...</td>\n",
       "      <td>0</td>\n",
       "      <td>0</td>\n",
       "      <td>0</td>\n",
       "      <td>0</td>\n",
       "      <td>0</td>\n",
       "      <td>1</td>\n",
       "      <td>0</td>\n",
       "      <td>0</td>\n",
       "      <td>0</td>\n",
       "      <td>0</td>\n",
       "    </tr>\n",
       "    <tr>\n",
       "      <th>805</th>\n",
       "      <td>2000000217</td>\n",
       "      <td>8205.000000</td>\n",
       "      <td>1954.0</td>\n",
       "      <td>40.500766</td>\n",
       "      <td>2.285714</td>\n",
       "      <td>2.000000e+09</td>\n",
       "      <td>24.128954</td>\n",
       "      <td>NaN</td>\n",
       "      <td>67.0</td>\n",
       "      <td>0</td>\n",
       "      <td>...</td>\n",
       "      <td>0</td>\n",
       "      <td>0</td>\n",
       "      <td>0</td>\n",
       "      <td>0</td>\n",
       "      <td>0</td>\n",
       "      <td>0</td>\n",
       "      <td>1</td>\n",
       "      <td>0</td>\n",
       "      <td>0</td>\n",
       "      <td>0</td>\n",
       "    </tr>\n",
       "    <tr>\n",
       "      <th>806</th>\n",
       "      <td>2000000218</td>\n",
       "      <td>8184.000000</td>\n",
       "      <td>1992.0</td>\n",
       "      <td>40.500766</td>\n",
       "      <td>2.285714</td>\n",
       "      <td>2.000000e+09</td>\n",
       "      <td>24.128954</td>\n",
       "      <td>NaN</td>\n",
       "      <td>29.0</td>\n",
       "      <td>0</td>\n",
       "      <td>...</td>\n",
       "      <td>0</td>\n",
       "      <td>0</td>\n",
       "      <td>0</td>\n",
       "      <td>0</td>\n",
       "      <td>0</td>\n",
       "      <td>0</td>\n",
       "      <td>1</td>\n",
       "      <td>0</td>\n",
       "      <td>0</td>\n",
       "      <td>0</td>\n",
       "    </tr>\n",
       "    <tr>\n",
       "      <th>...</th>\n",
       "      <td>...</td>\n",
       "      <td>...</td>\n",
       "      <td>...</td>\n",
       "      <td>...</td>\n",
       "      <td>...</td>\n",
       "      <td>...</td>\n",
       "      <td>...</td>\n",
       "      <td>...</td>\n",
       "      <td>...</td>\n",
       "      <td>...</td>\n",
       "      <td>...</td>\n",
       "      <td>...</td>\n",
       "      <td>...</td>\n",
       "      <td>...</td>\n",
       "      <td>...</td>\n",
       "      <td>...</td>\n",
       "      <td>...</td>\n",
       "      <td>...</td>\n",
       "      <td>...</td>\n",
       "      <td>...</td>\n",
       "      <td>...</td>\n",
       "    </tr>\n",
       "    <tr>\n",
       "      <th>885</th>\n",
       "      <td>2000000297</td>\n",
       "      <td>8473.000000</td>\n",
       "      <td>1969.0</td>\n",
       "      <td>40.500766</td>\n",
       "      <td>2.285714</td>\n",
       "      <td>2.600789e+09</td>\n",
       "      <td>24.128954</td>\n",
       "      <td>NaN</td>\n",
       "      <td>52.0</td>\n",
       "      <td>0</td>\n",
       "      <td>...</td>\n",
       "      <td>0</td>\n",
       "      <td>0</td>\n",
       "      <td>0</td>\n",
       "      <td>0</td>\n",
       "      <td>0</td>\n",
       "      <td>0</td>\n",
       "      <td>1</td>\n",
       "      <td>0</td>\n",
       "      <td>0</td>\n",
       "      <td>0</td>\n",
       "    </tr>\n",
       "    <tr>\n",
       "      <th>886</th>\n",
       "      <td>2000000298</td>\n",
       "      <td>8503.000000</td>\n",
       "      <td>1969.0</td>\n",
       "      <td>40.500766</td>\n",
       "      <td>2.285714</td>\n",
       "      <td>2.000000e+09</td>\n",
       "      <td>24.128954</td>\n",
       "      <td>NaN</td>\n",
       "      <td>52.0</td>\n",
       "      <td>0</td>\n",
       "      <td>...</td>\n",
       "      <td>0</td>\n",
       "      <td>0</td>\n",
       "      <td>0</td>\n",
       "      <td>0</td>\n",
       "      <td>0</td>\n",
       "      <td>0</td>\n",
       "      <td>1</td>\n",
       "      <td>0</td>\n",
       "      <td>0</td>\n",
       "      <td>0</td>\n",
       "    </tr>\n",
       "    <tr>\n",
       "      <th>887</th>\n",
       "      <td>2000000299</td>\n",
       "      <td>4664.816591</td>\n",
       "      <td>1985.0</td>\n",
       "      <td>40.500766</td>\n",
       "      <td>2.285714</td>\n",
       "      <td>2.600789e+09</td>\n",
       "      <td>24.128954</td>\n",
       "      <td>NaN</td>\n",
       "      <td>36.0</td>\n",
       "      <td>0</td>\n",
       "      <td>...</td>\n",
       "      <td>0</td>\n",
       "      <td>0</td>\n",
       "      <td>0</td>\n",
       "      <td>0</td>\n",
       "      <td>0</td>\n",
       "      <td>0</td>\n",
       "      <td>0</td>\n",
       "      <td>0</td>\n",
       "      <td>0</td>\n",
       "      <td>1</td>\n",
       "    </tr>\n",
       "    <tr>\n",
       "      <th>888</th>\n",
       "      <td>2000000300</td>\n",
       "      <td>4664.816591</td>\n",
       "      <td>1989.0</td>\n",
       "      <td>40.500766</td>\n",
       "      <td>2.285714</td>\n",
       "      <td>2.600789e+09</td>\n",
       "      <td>24.128954</td>\n",
       "      <td>NaN</td>\n",
       "      <td>32.0</td>\n",
       "      <td>0</td>\n",
       "      <td>...</td>\n",
       "      <td>0</td>\n",
       "      <td>0</td>\n",
       "      <td>0</td>\n",
       "      <td>0</td>\n",
       "      <td>0</td>\n",
       "      <td>0</td>\n",
       "      <td>0</td>\n",
       "      <td>0</td>\n",
       "      <td>0</td>\n",
       "      <td>1</td>\n",
       "    </tr>\n",
       "    <tr>\n",
       "      <th>2213</th>\n",
       "      <td>6100000085</td>\n",
       "      <td>4664.816591</td>\n",
       "      <td>1990.0</td>\n",
       "      <td>30.000000</td>\n",
       "      <td>2.285714</td>\n",
       "      <td>2.600789e+09</td>\n",
       "      <td>24.128954</td>\n",
       "      <td>NaN</td>\n",
       "      <td>31.0</td>\n",
       "      <td>0</td>\n",
       "      <td>...</td>\n",
       "      <td>0</td>\n",
       "      <td>0</td>\n",
       "      <td>0</td>\n",
       "      <td>0</td>\n",
       "      <td>0</td>\n",
       "      <td>1</td>\n",
       "      <td>0</td>\n",
       "      <td>0</td>\n",
       "      <td>0</td>\n",
       "      <td>0</td>\n",
       "    </tr>\n",
       "  </tbody>\n",
       "</table>\n",
       "<p>88 rows × 65 columns</p>\n",
       "</div>"
      ],
      "text/plain": [
       "      patient_id   global_num  birth_year        age  infection_order  \\\n",
       "802   2000000214  8168.000000      1967.0  40.500766         2.285714   \n",
       "803   2000000215  8195.000000      1974.0  40.500766         2.285714   \n",
       "804   2000000216  8212.000000      1963.0  40.500766         2.285714   \n",
       "805   2000000217  8205.000000      1954.0  40.500766         2.285714   \n",
       "806   2000000218  8184.000000      1992.0  40.500766         2.285714   \n",
       "...          ...          ...         ...        ...              ...   \n",
       "885   2000000297  8473.000000      1969.0  40.500766         2.285714   \n",
       "886   2000000298  8503.000000      1969.0  40.500766         2.285714   \n",
       "887   2000000299  4664.816591      1985.0  40.500766         2.285714   \n",
       "888   2000000300  4664.816591      1989.0  40.500766         2.285714   \n",
       "2213  6100000085  4664.816591      1990.0  30.000000         2.285714   \n",
       "\n",
       "       infected_by  contact_number state  n_age  sex_Unknown  ...  \\\n",
       "802   2.000000e+09        2.000000   NaN   54.0            0  ...   \n",
       "803   2.000000e+09       24.128954   NaN   47.0            0  ...   \n",
       "804   2.600789e+09       11.000000   NaN   58.0            0  ...   \n",
       "805   2.000000e+09       24.128954   NaN   67.0            0  ...   \n",
       "806   2.000000e+09       24.128954   NaN   29.0            0  ...   \n",
       "...            ...             ...   ...    ...          ...  ...   \n",
       "885   2.600789e+09       24.128954   NaN   52.0            0  ...   \n",
       "886   2.000000e+09       24.128954   NaN   52.0            0  ...   \n",
       "887   2.600789e+09       24.128954   NaN   36.0            0  ...   \n",
       "888   2.600789e+09       24.128954   NaN   32.0            0  ...   \n",
       "2213  2.600789e+09       24.128954   NaN   31.0            0  ...   \n",
       "\n",
       "      infection_case_Pilgrimage to Israel  \\\n",
       "802                                     0   \n",
       "803                                     0   \n",
       "804                                     0   \n",
       "805                                     0   \n",
       "806                                     0   \n",
       "...                                   ...   \n",
       "885                                     0   \n",
       "886                                     0   \n",
       "887                                     0   \n",
       "888                                     0   \n",
       "2213                                    0   \n",
       "\n",
       "      infection_case_River of Grace Community Church  \\\n",
       "802                                                0   \n",
       "803                                                0   \n",
       "804                                                0   \n",
       "805                                                0   \n",
       "806                                                0   \n",
       "...                                              ...   \n",
       "885                                                0   \n",
       "886                                                0   \n",
       "887                                                0   \n",
       "888                                                0   \n",
       "2213                                               0   \n",
       "\n",
       "      infection_case_Seongdong-gu APT  infection_case_Shincheonji Church  \\\n",
       "802                                 0                                  0   \n",
       "803                                 0                                  0   \n",
       "804                                 0                                  0   \n",
       "805                                 0                                  0   \n",
       "806                                 0                                  0   \n",
       "...                               ...                                ...   \n",
       "885                                 0                                  0   \n",
       "886                                 0                                  0   \n",
       "887                                 0                                  0   \n",
       "888                                 0                                  0   \n",
       "2213                                0                                  0   \n",
       "\n",
       "      infection_case_Suyeong-gu Kindergarten  infection_case_Unknown  \\\n",
       "802                                        0                       0   \n",
       "803                                        0                       0   \n",
       "804                                        0                       1   \n",
       "805                                        0                       0   \n",
       "806                                        0                       0   \n",
       "...                                      ...                     ...   \n",
       "885                                        0                       0   \n",
       "886                                        0                       0   \n",
       "887                                        0                       0   \n",
       "888                                        0                       0   \n",
       "2213                                       0                       1   \n",
       "\n",
       "      infection_case_contact with patient  \\\n",
       "802                                     1   \n",
       "803                                     1   \n",
       "804                                     0   \n",
       "805                                     1   \n",
       "806                                     1   \n",
       "...                                   ...   \n",
       "885                                     1   \n",
       "886                                     1   \n",
       "887                                     0   \n",
       "888                                     0   \n",
       "2213                                    0   \n",
       "\n",
       "      infection_case_gym facility in Cheonan  \\\n",
       "802                                        0   \n",
       "803                                        0   \n",
       "804                                        0   \n",
       "805                                        0   \n",
       "806                                        0   \n",
       "...                                      ...   \n",
       "885                                        0   \n",
       "886                                        0   \n",
       "887                                        0   \n",
       "888                                        0   \n",
       "2213                                       0   \n",
       "\n",
       "      infection_case_gym facility in Sejong  infection_case_overseas inflow  \n",
       "802                                       0                               0  \n",
       "803                                       0                               0  \n",
       "804                                       0                               0  \n",
       "805                                       0                               0  \n",
       "806                                       0                               0  \n",
       "...                                     ...                             ...  \n",
       "885                                       0                               0  \n",
       "886                                       0                               0  \n",
       "887                                       0                               1  \n",
       "888                                       0                               1  \n",
       "2213                                      0                               0  \n",
       "\n",
       "[88 rows x 65 columns]"
      ]
     },
     "execution_count": 62,
     "metadata": {},
     "output_type": "execute_result"
    }
   ],
   "source": [
    "predictions_df"
   ]
  },
  {
   "cell_type": "code",
   "execution_count": 64,
   "metadata": {},
   "outputs": [
    {
     "data": {
      "text/plain": [
       "Index(['patient_id', 'global_num', 'birth_year', 'age', 'infection_order',\n",
       "       'infected_by', 'contact_number', 'n_age', 'sex_Unknown', 'sex_female',\n",
       "       'sex_male', 'country_China', 'country_Korea', 'country_Mongolia',\n",
       "       'country_Thailand', 'province_Busan', 'province_Chungcheongbuk-do',\n",
       "       'province_Chungcheongnam-do', 'province_Daegu', 'province_Daejeon',\n",
       "       'province_Gangwon-do', 'province_Gwangju', 'province_Gyeonggi-do',\n",
       "       'province_Gyeongsangbuk-do', 'province_Gyeongsangnam-do',\n",
       "       'province_Incheon', 'province_Jeju-do', 'province_Jeollabuk-do',\n",
       "       'province_Jeollanam-do', 'province_Sejong', 'province_Seoul',\n",
       "       'province_Ulsan', 'city_Andong-si', 'city_Bonghwa-gun',\n",
       "       'city_Bucheon-si', 'city_Cheonan-si', 'city_Cheongdo-gun',\n",
       "       'city_Chilgok-gun', 'city_Gumi-si', 'city_Gyeongsan-si', 'city_Others',\n",
       "       'city_Pohang-si', 'city_Sejong', 'city_Seongnam-si', 'city_Uiseong-gun',\n",
       "       'city_Unknown', 'city_Yecheon-gun', 'city_Yeongcheon-si',\n",
       "       'infection_case_Cheongdo Daenam Hospital',\n",
       "       'infection_case_Dongan Church',\n",
       "       'infection_case_Eunpyeong St. Marys Hospital',\n",
       "       'infection_case_Guro-gu Call Center',\n",
       "       'infection_case_Ministry of Oceans and Fisheries',\n",
       "       'infection_case_Onchun Church', 'infection_case_Pilgrimage to Israel',\n",
       "       'infection_case_River of Grace Community Church',\n",
       "       'infection_case_Seongdong-gu APT', 'infection_case_Shincheonji Church',\n",
       "       'infection_case_Suyeong-gu Kindergarten', 'infection_case_Unknown',\n",
       "       'infection_case_contact with patient',\n",
       "       'infection_case_gym facility in Cheonan',\n",
       "       'infection_case_gym facility in Sejong',\n",
       "       'infection_case_overseas inflow'],\n",
       "      dtype='object')"
      ]
     },
     "execution_count": 64,
     "metadata": {},
     "output_type": "execute_result"
    }
   ],
   "source": [
    "df1.columns"
   ]
  },
  {
   "cell_type": "code",
   "execution_count": 65,
   "metadata": {},
   "outputs": [],
   "source": [
    "df1 = df1.dropna()"
   ]
  },
  {
   "cell_type": "code",
   "execution_count": 67,
   "metadata": {},
   "outputs": [],
   "source": [
    "state_dict ={'isolated':1,'released':2,'deceased':3}\n",
    "df1['state'] = df['state'].map(state_dict)"
   ]
  },
  {
   "cell_type": "code",
   "execution_count": 68,
   "metadata": {},
   "outputs": [
    {
     "data": {
      "text/plain": [
       "1.0    1791\n",
       "2.0     307\n",
       "3.0      32\n",
       "Name: state, dtype: int64"
      ]
     },
     "execution_count": 68,
     "metadata": {},
     "output_type": "execute_result"
    }
   ],
   "source": [
    "df1['state'].value_counts()"
   ]
  },
  {
   "cell_type": "code",
   "execution_count": 125,
   "metadata": {},
   "outputs": [],
   "source": [
    "df2 = df1.corr()"
   ]
  },
  {
   "cell_type": "code",
   "execution_count": 126,
   "metadata": {},
   "outputs": [],
   "source": [
    "df2=df2[((df2['state']<= -0.1) | (df2['state']>= 0.1))]"
   ]
  },
  {
   "cell_type": "code",
   "execution_count": 131,
   "metadata": {},
   "outputs": [],
   "source": [
    "df2 = df2[[i for i in df2.index]]"
   ]
  },
  {
   "cell_type": "code",
   "execution_count": 132,
   "metadata": {},
   "outputs": [
    {
     "data": {
      "text/html": [
       "<div>\n",
       "<style scoped>\n",
       "    .dataframe tbody tr th:only-of-type {\n",
       "        vertical-align: middle;\n",
       "    }\n",
       "\n",
       "    .dataframe tbody tr th {\n",
       "        vertical-align: top;\n",
       "    }\n",
       "\n",
       "    .dataframe thead th {\n",
       "        text-align: right;\n",
       "    }\n",
       "</style>\n",
       "<table border=\"1\" class=\"dataframe\">\n",
       "  <thead>\n",
       "    <tr style=\"text-align: right;\">\n",
       "      <th></th>\n",
       "      <th>patient_id</th>\n",
       "      <th>global_num</th>\n",
       "      <th>country_China</th>\n",
       "      <th>country_Korea</th>\n",
       "      <th>province_Busan</th>\n",
       "      <th>province_Daegu</th>\n",
       "      <th>province_Gyeongsangbuk-do</th>\n",
       "      <th>city_Unknown</th>\n",
       "      <th>infection_case_Cheongdo Daenam Hospital</th>\n",
       "      <th>state</th>\n",
       "    </tr>\n",
       "  </thead>\n",
       "  <tbody>\n",
       "    <tr>\n",
       "      <th>patient_id</th>\n",
       "      <td>1.000000</td>\n",
       "      <td>-0.062686</td>\n",
       "      <td>-0.076447</td>\n",
       "      <td>0.070350</td>\n",
       "      <td>-0.304193</td>\n",
       "      <td>-0.230084</td>\n",
       "      <td>0.860736</td>\n",
       "      <td>-0.208605</td>\n",
       "      <td>0.076734</td>\n",
       "      <td>-0.133224</td>\n",
       "    </tr>\n",
       "    <tr>\n",
       "      <th>global_num</th>\n",
       "      <td>-0.062686</td>\n",
       "      <td>1.000000</td>\n",
       "      <td>-0.109749</td>\n",
       "      <td>0.110545</td>\n",
       "      <td>0.014441</td>\n",
       "      <td>-0.298853</td>\n",
       "      <td>-0.051062</td>\n",
       "      <td>-0.210741</td>\n",
       "      <td>-0.063677</td>\n",
       "      <td>-0.279861</td>\n",
       "    </tr>\n",
       "    <tr>\n",
       "      <th>country_China</th>\n",
       "      <td>-0.076447</td>\n",
       "      <td>-0.109749</td>\n",
       "      <td>1.000000</td>\n",
       "      <td>-0.912440</td>\n",
       "      <td>0.016992</td>\n",
       "      <td>-0.011990</td>\n",
       "      <td>-0.067975</td>\n",
       "      <td>0.027745</td>\n",
       "      <td>-0.006853</td>\n",
       "      <td>0.103074</td>\n",
       "    </tr>\n",
       "    <tr>\n",
       "      <th>country_Korea</th>\n",
       "      <td>0.070350</td>\n",
       "      <td>0.110545</td>\n",
       "      <td>-0.912440</td>\n",
       "      <td>1.000000</td>\n",
       "      <td>-0.012720</td>\n",
       "      <td>0.013141</td>\n",
       "      <td>0.061952</td>\n",
       "      <td>-0.023113</td>\n",
       "      <td>0.007511</td>\n",
       "      <td>-0.118982</td>\n",
       "    </tr>\n",
       "    <tr>\n",
       "      <th>province_Busan</th>\n",
       "      <td>-0.304193</td>\n",
       "      <td>0.014441</td>\n",
       "      <td>0.016992</td>\n",
       "      <td>-0.012720</td>\n",
       "      <td>1.000000</td>\n",
       "      <td>-0.038951</td>\n",
       "      <td>-0.220818</td>\n",
       "      <td>-0.026741</td>\n",
       "      <td>0.000094</td>\n",
       "      <td>0.102812</td>\n",
       "    </tr>\n",
       "    <tr>\n",
       "      <th>province_Daegu</th>\n",
       "      <td>-0.230084</td>\n",
       "      <td>-0.298853</td>\n",
       "      <td>-0.011990</td>\n",
       "      <td>0.013141</td>\n",
       "      <td>-0.038951</td>\n",
       "      <td>1.000000</td>\n",
       "      <td>-0.172788</td>\n",
       "      <td>0.645688</td>\n",
       "      <td>-0.017421</td>\n",
       "      <td>0.219478</td>\n",
       "    </tr>\n",
       "    <tr>\n",
       "      <th>province_Gyeongsangbuk-do</th>\n",
       "      <td>0.860736</td>\n",
       "      <td>-0.051062</td>\n",
       "      <td>-0.067975</td>\n",
       "      <td>0.061952</td>\n",
       "      <td>-0.220818</td>\n",
       "      <td>-0.172788</td>\n",
       "      <td>1.000000</td>\n",
       "      <td>-0.175594</td>\n",
       "      <td>0.091318</td>\n",
       "      <td>-0.172456</td>\n",
       "    </tr>\n",
       "    <tr>\n",
       "      <th>city_Unknown</th>\n",
       "      <td>-0.208605</td>\n",
       "      <td>-0.210741</td>\n",
       "      <td>0.027745</td>\n",
       "      <td>-0.023113</td>\n",
       "      <td>-0.026741</td>\n",
       "      <td>0.645688</td>\n",
       "      <td>-0.175594</td>\n",
       "      <td>1.000000</td>\n",
       "      <td>-0.017704</td>\n",
       "      <td>0.259719</td>\n",
       "    </tr>\n",
       "    <tr>\n",
       "      <th>infection_case_Cheongdo Daenam Hospital</th>\n",
       "      <td>0.076734</td>\n",
       "      <td>-0.063677</td>\n",
       "      <td>-0.006853</td>\n",
       "      <td>0.007511</td>\n",
       "      <td>0.000094</td>\n",
       "      <td>-0.017421</td>\n",
       "      <td>0.091318</td>\n",
       "      <td>-0.017704</td>\n",
       "      <td>1.000000</td>\n",
       "      <td>0.129246</td>\n",
       "    </tr>\n",
       "    <tr>\n",
       "      <th>state</th>\n",
       "      <td>-0.133224</td>\n",
       "      <td>-0.279861</td>\n",
       "      <td>0.103074</td>\n",
       "      <td>-0.118982</td>\n",
       "      <td>0.102812</td>\n",
       "      <td>0.219478</td>\n",
       "      <td>-0.172456</td>\n",
       "      <td>0.259719</td>\n",
       "      <td>0.129246</td>\n",
       "      <td>1.000000</td>\n",
       "    </tr>\n",
       "  </tbody>\n",
       "</table>\n",
       "</div>"
      ],
      "text/plain": [
       "                                         patient_id  global_num  \\\n",
       "patient_id                                 1.000000   -0.062686   \n",
       "global_num                                -0.062686    1.000000   \n",
       "country_China                             -0.076447   -0.109749   \n",
       "country_Korea                              0.070350    0.110545   \n",
       "province_Busan                            -0.304193    0.014441   \n",
       "province_Daegu                            -0.230084   -0.298853   \n",
       "province_Gyeongsangbuk-do                  0.860736   -0.051062   \n",
       "city_Unknown                              -0.208605   -0.210741   \n",
       "infection_case_Cheongdo Daenam Hospital    0.076734   -0.063677   \n",
       "state                                     -0.133224   -0.279861   \n",
       "\n",
       "                                         country_China  country_Korea  \\\n",
       "patient_id                                   -0.076447       0.070350   \n",
       "global_num                                   -0.109749       0.110545   \n",
       "country_China                                 1.000000      -0.912440   \n",
       "country_Korea                                -0.912440       1.000000   \n",
       "province_Busan                                0.016992      -0.012720   \n",
       "province_Daegu                               -0.011990       0.013141   \n",
       "province_Gyeongsangbuk-do                    -0.067975       0.061952   \n",
       "city_Unknown                                  0.027745      -0.023113   \n",
       "infection_case_Cheongdo Daenam Hospital      -0.006853       0.007511   \n",
       "state                                         0.103074      -0.118982   \n",
       "\n",
       "                                         province_Busan  province_Daegu  \\\n",
       "patient_id                                    -0.304193       -0.230084   \n",
       "global_num                                     0.014441       -0.298853   \n",
       "country_China                                  0.016992       -0.011990   \n",
       "country_Korea                                 -0.012720        0.013141   \n",
       "province_Busan                                 1.000000       -0.038951   \n",
       "province_Daegu                                -0.038951        1.000000   \n",
       "province_Gyeongsangbuk-do                     -0.220818       -0.172788   \n",
       "city_Unknown                                  -0.026741        0.645688   \n",
       "infection_case_Cheongdo Daenam Hospital        0.000094       -0.017421   \n",
       "state                                          0.102812        0.219478   \n",
       "\n",
       "                                         province_Gyeongsangbuk-do  \\\n",
       "patient_id                                                0.860736   \n",
       "global_num                                               -0.051062   \n",
       "country_China                                            -0.067975   \n",
       "country_Korea                                             0.061952   \n",
       "province_Busan                                           -0.220818   \n",
       "province_Daegu                                           -0.172788   \n",
       "province_Gyeongsangbuk-do                                 1.000000   \n",
       "city_Unknown                                             -0.175594   \n",
       "infection_case_Cheongdo Daenam Hospital                   0.091318   \n",
       "state                                                    -0.172456   \n",
       "\n",
       "                                         city_Unknown  \\\n",
       "patient_id                                  -0.208605   \n",
       "global_num                                  -0.210741   \n",
       "country_China                                0.027745   \n",
       "country_Korea                               -0.023113   \n",
       "province_Busan                              -0.026741   \n",
       "province_Daegu                               0.645688   \n",
       "province_Gyeongsangbuk-do                   -0.175594   \n",
       "city_Unknown                                 1.000000   \n",
       "infection_case_Cheongdo Daenam Hospital     -0.017704   \n",
       "state                                        0.259719   \n",
       "\n",
       "                                         infection_case_Cheongdo Daenam Hospital  \\\n",
       "patient_id                                                              0.076734   \n",
       "global_num                                                             -0.063677   \n",
       "country_China                                                          -0.006853   \n",
       "country_Korea                                                           0.007511   \n",
       "province_Busan                                                          0.000094   \n",
       "province_Daegu                                                         -0.017421   \n",
       "province_Gyeongsangbuk-do                                               0.091318   \n",
       "city_Unknown                                                           -0.017704   \n",
       "infection_case_Cheongdo Daenam Hospital                                 1.000000   \n",
       "state                                                                   0.129246   \n",
       "\n",
       "                                            state  \n",
       "patient_id                              -0.133224  \n",
       "global_num                              -0.279861  \n",
       "country_China                            0.103074  \n",
       "country_Korea                           -0.118982  \n",
       "province_Busan                           0.102812  \n",
       "province_Daegu                           0.219478  \n",
       "province_Gyeongsangbuk-do               -0.172456  \n",
       "city_Unknown                             0.259719  \n",
       "infection_case_Cheongdo Daenam Hospital  0.129246  \n",
       "state                                    1.000000  "
      ]
     },
     "execution_count": 132,
     "metadata": {},
     "output_type": "execute_result"
    }
   ],
   "source": [
    "df2"
   ]
  },
  {
   "cell_type": "code",
   "execution_count": 127,
   "metadata": {},
   "outputs": [
    {
     "data": {
      "text/html": [
       "<div>\n",
       "<style scoped>\n",
       "    .dataframe tbody tr th:only-of-type {\n",
       "        vertical-align: middle;\n",
       "    }\n",
       "\n",
       "    .dataframe tbody tr th {\n",
       "        vertical-align: top;\n",
       "    }\n",
       "\n",
       "    .dataframe thead th {\n",
       "        text-align: right;\n",
       "    }\n",
       "</style>\n",
       "<table border=\"1\" class=\"dataframe\">\n",
       "  <thead>\n",
       "    <tr style=\"text-align: right;\">\n",
       "      <th></th>\n",
       "      <th>patient_id</th>\n",
       "      <th>global_num</th>\n",
       "      <th>birth_year</th>\n",
       "      <th>age</th>\n",
       "      <th>infection_order</th>\n",
       "      <th>infected_by</th>\n",
       "      <th>contact_number</th>\n",
       "      <th>n_age</th>\n",
       "      <th>sex_Unknown</th>\n",
       "      <th>sex_female</th>\n",
       "      <th>...</th>\n",
       "      <th>infection_case_River of Grace Community Church</th>\n",
       "      <th>infection_case_Seongdong-gu APT</th>\n",
       "      <th>infection_case_Shincheonji Church</th>\n",
       "      <th>infection_case_Suyeong-gu Kindergarten</th>\n",
       "      <th>infection_case_Unknown</th>\n",
       "      <th>infection_case_contact with patient</th>\n",
       "      <th>infection_case_gym facility in Cheonan</th>\n",
       "      <th>infection_case_gym facility in Sejong</th>\n",
       "      <th>infection_case_overseas inflow</th>\n",
       "      <th>state</th>\n",
       "    </tr>\n",
       "  </thead>\n",
       "  <tbody>\n",
       "    <tr>\n",
       "      <th>patient_id</th>\n",
       "      <td>1.000000</td>\n",
       "      <td>-0.062686</td>\n",
       "      <td>-0.052151</td>\n",
       "      <td>0.061437</td>\n",
       "      <td>-2.776892e-02</td>\n",
       "      <td>0.279510</td>\n",
       "      <td>-0.047315</td>\n",
       "      <td>0.052151</td>\n",
       "      <td>0.233190</td>\n",
       "      <td>-0.002076</td>\n",
       "      <td>...</td>\n",
       "      <td>0.000040</td>\n",
       "      <td>-0.110408</td>\n",
       "      <td>-0.077307</td>\n",
       "      <td>-0.051204</td>\n",
       "      <td>0.628210</td>\n",
       "      <td>-0.336256</td>\n",
       "      <td>-0.006236</td>\n",
       "      <td>-0.047296</td>\n",
       "      <td>-0.190062</td>\n",
       "      <td>-0.133224</td>\n",
       "    </tr>\n",
       "    <tr>\n",
       "      <th>global_num</th>\n",
       "      <td>-0.062686</td>\n",
       "      <td>1.000000</td>\n",
       "      <td>0.014677</td>\n",
       "      <td>0.000657</td>\n",
       "      <td>-1.579938e-02</td>\n",
       "      <td>-0.007907</td>\n",
       "      <td>-0.044585</td>\n",
       "      <td>-0.014677</td>\n",
       "      <td>0.017494</td>\n",
       "      <td>0.038031</td>\n",
       "      <td>...</td>\n",
       "      <td>0.001403</td>\n",
       "      <td>-0.042977</td>\n",
       "      <td>-0.135545</td>\n",
       "      <td>0.002431</td>\n",
       "      <td>-0.118648</td>\n",
       "      <td>0.039395</td>\n",
       "      <td>0.007605</td>\n",
       "      <td>0.002808</td>\n",
       "      <td>0.008655</td>\n",
       "      <td>-0.279861</td>\n",
       "    </tr>\n",
       "    <tr>\n",
       "      <th>country_China</th>\n",
       "      <td>-0.076447</td>\n",
       "      <td>-0.109749</td>\n",
       "      <td>-0.004921</td>\n",
       "      <td>-0.005547</td>\n",
       "      <td>-9.579714e-02</td>\n",
       "      <td>-0.013229</td>\n",
       "      <td>0.139207</td>\n",
       "      <td>0.004921</td>\n",
       "      <td>-0.018562</td>\n",
       "      <td>0.010267</td>\n",
       "      <td>...</td>\n",
       "      <td>-0.001488</td>\n",
       "      <td>-0.005382</td>\n",
       "      <td>0.020804</td>\n",
       "      <td>-0.002579</td>\n",
       "      <td>-0.083380</td>\n",
       "      <td>0.014116</td>\n",
       "      <td>-0.008069</td>\n",
       "      <td>-0.002979</td>\n",
       "      <td>0.213874</td>\n",
       "      <td>0.103074</td>\n",
       "    </tr>\n",
       "    <tr>\n",
       "      <th>country_Korea</th>\n",
       "      <td>0.070350</td>\n",
       "      <td>0.110545</td>\n",
       "      <td>-0.005352</td>\n",
       "      <td>0.015501</td>\n",
       "      <td>8.749171e-02</td>\n",
       "      <td>0.012425</td>\n",
       "      <td>-0.127133</td>\n",
       "      <td>0.005352</td>\n",
       "      <td>0.020344</td>\n",
       "      <td>-0.008740</td>\n",
       "      <td>...</td>\n",
       "      <td>0.001631</td>\n",
       "      <td>0.005898</td>\n",
       "      <td>-0.016427</td>\n",
       "      <td>0.002827</td>\n",
       "      <td>0.065818</td>\n",
       "      <td>-0.006317</td>\n",
       "      <td>0.008843</td>\n",
       "      <td>0.003265</td>\n",
       "      <td>-0.193367</td>\n",
       "      <td>-0.118982</td>\n",
       "    </tr>\n",
       "    <tr>\n",
       "      <th>province_Busan</th>\n",
       "      <td>-0.304193</td>\n",
       "      <td>0.014441</td>\n",
       "      <td>0.046062</td>\n",
       "      <td>-0.048712</td>\n",
       "      <td>1.892233e-16</td>\n",
       "      <td>-0.127740</td>\n",
       "      <td>0.045847</td>\n",
       "      <td>-0.046062</td>\n",
       "      <td>-0.060301</td>\n",
       "      <td>0.004156</td>\n",
       "      <td>...</td>\n",
       "      <td>-0.004835</td>\n",
       "      <td>-0.017484</td>\n",
       "      <td>0.021570</td>\n",
       "      <td>0.168328</td>\n",
       "      <td>-0.176334</td>\n",
       "      <td>0.081852</td>\n",
       "      <td>-0.026212</td>\n",
       "      <td>-0.009678</td>\n",
       "      <td>-0.020494</td>\n",
       "      <td>0.102812</td>\n",
       "    </tr>\n",
       "    <tr>\n",
       "      <th>province_Daegu</th>\n",
       "      <td>-0.230084</td>\n",
       "      <td>-0.298853</td>\n",
       "      <td>-0.109363</td>\n",
       "      <td>0.097835</td>\n",
       "      <td>-2.654017e-17</td>\n",
       "      <td>-0.036812</td>\n",
       "      <td>0.078699</td>\n",
       "      <td>0.109363</td>\n",
       "      <td>-0.047185</td>\n",
       "      <td>0.021658</td>\n",
       "      <td>...</td>\n",
       "      <td>-0.003784</td>\n",
       "      <td>-0.013681</td>\n",
       "      <td>0.147207</td>\n",
       "      <td>-0.006557</td>\n",
       "      <td>0.064748</td>\n",
       "      <td>-0.084760</td>\n",
       "      <td>-0.020511</td>\n",
       "      <td>-0.007573</td>\n",
       "      <td>-0.027344</td>\n",
       "      <td>0.219478</td>\n",
       "    </tr>\n",
       "    <tr>\n",
       "      <th>province_Gyeongsangbuk-do</th>\n",
       "      <td>0.860736</td>\n",
       "      <td>-0.051062</td>\n",
       "      <td>-0.076215</td>\n",
       "      <td>0.081104</td>\n",
       "      <td>-1.057270e-15</td>\n",
       "      <td>0.095463</td>\n",
       "      <td>-0.028703</td>\n",
       "      <td>0.076215</td>\n",
       "      <td>0.258167</td>\n",
       "      <td>-0.016400</td>\n",
       "      <td>...</td>\n",
       "      <td>-0.021450</td>\n",
       "      <td>-0.077558</td>\n",
       "      <td>-0.145767</td>\n",
       "      <td>-0.037170</td>\n",
       "      <td>0.681296</td>\n",
       "      <td>-0.434218</td>\n",
       "      <td>-0.116279</td>\n",
       "      <td>-0.042930</td>\n",
       "      <td>-0.155014</td>\n",
       "      <td>-0.172456</td>\n",
       "    </tr>\n",
       "    <tr>\n",
       "      <th>city_Unknown</th>\n",
       "      <td>-0.208605</td>\n",
       "      <td>-0.210741</td>\n",
       "      <td>-0.117845</td>\n",
       "      <td>0.094972</td>\n",
       "      <td>1.249561e-16</td>\n",
       "      <td>-0.094655</td>\n",
       "      <td>0.156300</td>\n",
       "      <td>0.117845</td>\n",
       "      <td>-0.015441</td>\n",
       "      <td>-0.017206</td>\n",
       "      <td>...</td>\n",
       "      <td>-0.003845</td>\n",
       "      <td>-0.013903</td>\n",
       "      <td>0.074542</td>\n",
       "      <td>-0.006663</td>\n",
       "      <td>0.023776</td>\n",
       "      <td>-0.006685</td>\n",
       "      <td>-0.020844</td>\n",
       "      <td>-0.007696</td>\n",
       "      <td>-0.009933</td>\n",
       "      <td>0.259719</td>\n",
       "    </tr>\n",
       "    <tr>\n",
       "      <th>infection_case_Cheongdo Daenam Hospital</th>\n",
       "      <td>0.076734</td>\n",
       "      <td>-0.063677</td>\n",
       "      <td>-0.027997</td>\n",
       "      <td>0.043175</td>\n",
       "      <td>8.099249e-18</td>\n",
       "      <td>-0.002724</td>\n",
       "      <td>-0.002792</td>\n",
       "      <td>0.027997</td>\n",
       "      <td>-0.026970</td>\n",
       "      <td>-0.047887</td>\n",
       "      <td>...</td>\n",
       "      <td>-0.002163</td>\n",
       "      <td>-0.007820</td>\n",
       "      <td>-0.020468</td>\n",
       "      <td>-0.003748</td>\n",
       "      <td>-0.121144</td>\n",
       "      <td>-0.052299</td>\n",
       "      <td>-0.011724</td>\n",
       "      <td>-0.004328</td>\n",
       "      <td>-0.015629</td>\n",
       "      <td>0.129246</td>\n",
       "    </tr>\n",
       "    <tr>\n",
       "      <th>state</th>\n",
       "      <td>-0.133224</td>\n",
       "      <td>-0.279861</td>\n",
       "      <td>0.018369</td>\n",
       "      <td>-0.017853</td>\n",
       "      <td>5.542547e-03</td>\n",
       "      <td>-0.007223</td>\n",
       "      <td>0.001800</td>\n",
       "      <td>-0.018369</td>\n",
       "      <td>-0.099482</td>\n",
       "      <td>-0.011060</td>\n",
       "      <td>...</td>\n",
       "      <td>-0.009053</td>\n",
       "      <td>-0.018276</td>\n",
       "      <td>0.074475</td>\n",
       "      <td>0.044355</td>\n",
       "      <td>-0.075783</td>\n",
       "      <td>0.011096</td>\n",
       "      <td>0.028649</td>\n",
       "      <td>-0.018118</td>\n",
       "      <td>0.096602</td>\n",
       "      <td>1.000000</td>\n",
       "    </tr>\n",
       "  </tbody>\n",
       "</table>\n",
       "<p>10 rows × 65 columns</p>\n",
       "</div>"
      ],
      "text/plain": [
       "                                         patient_id  global_num  birth_year  \\\n",
       "patient_id                                 1.000000   -0.062686   -0.052151   \n",
       "global_num                                -0.062686    1.000000    0.014677   \n",
       "country_China                             -0.076447   -0.109749   -0.004921   \n",
       "country_Korea                              0.070350    0.110545   -0.005352   \n",
       "province_Busan                            -0.304193    0.014441    0.046062   \n",
       "province_Daegu                            -0.230084   -0.298853   -0.109363   \n",
       "province_Gyeongsangbuk-do                  0.860736   -0.051062   -0.076215   \n",
       "city_Unknown                              -0.208605   -0.210741   -0.117845   \n",
       "infection_case_Cheongdo Daenam Hospital    0.076734   -0.063677   -0.027997   \n",
       "state                                     -0.133224   -0.279861    0.018369   \n",
       "\n",
       "                                              age  infection_order  \\\n",
       "patient_id                               0.061437    -2.776892e-02   \n",
       "global_num                               0.000657    -1.579938e-02   \n",
       "country_China                           -0.005547    -9.579714e-02   \n",
       "country_Korea                            0.015501     8.749171e-02   \n",
       "province_Busan                          -0.048712     1.892233e-16   \n",
       "province_Daegu                           0.097835    -2.654017e-17   \n",
       "province_Gyeongsangbuk-do                0.081104    -1.057270e-15   \n",
       "city_Unknown                             0.094972     1.249561e-16   \n",
       "infection_case_Cheongdo Daenam Hospital  0.043175     8.099249e-18   \n",
       "state                                   -0.017853     5.542547e-03   \n",
       "\n",
       "                                         infected_by  contact_number  \\\n",
       "patient_id                                  0.279510       -0.047315   \n",
       "global_num                                 -0.007907       -0.044585   \n",
       "country_China                              -0.013229        0.139207   \n",
       "country_Korea                               0.012425       -0.127133   \n",
       "province_Busan                             -0.127740        0.045847   \n",
       "province_Daegu                             -0.036812        0.078699   \n",
       "province_Gyeongsangbuk-do                   0.095463       -0.028703   \n",
       "city_Unknown                               -0.094655        0.156300   \n",
       "infection_case_Cheongdo Daenam Hospital    -0.002724       -0.002792   \n",
       "state                                      -0.007223        0.001800   \n",
       "\n",
       "                                            n_age  sex_Unknown  sex_female  \\\n",
       "patient_id                               0.052151     0.233190   -0.002076   \n",
       "global_num                              -0.014677     0.017494    0.038031   \n",
       "country_China                            0.004921    -0.018562    0.010267   \n",
       "country_Korea                            0.005352     0.020344   -0.008740   \n",
       "province_Busan                          -0.046062    -0.060301    0.004156   \n",
       "province_Daegu                           0.109363    -0.047185    0.021658   \n",
       "province_Gyeongsangbuk-do                0.076215     0.258167   -0.016400   \n",
       "city_Unknown                             0.117845    -0.015441   -0.017206   \n",
       "infection_case_Cheongdo Daenam Hospital  0.027997    -0.026970   -0.047887   \n",
       "state                                   -0.018369    -0.099482   -0.011060   \n",
       "\n",
       "                                         ...  \\\n",
       "patient_id                               ...   \n",
       "global_num                               ...   \n",
       "country_China                            ...   \n",
       "country_Korea                            ...   \n",
       "province_Busan                           ...   \n",
       "province_Daegu                           ...   \n",
       "province_Gyeongsangbuk-do                ...   \n",
       "city_Unknown                             ...   \n",
       "infection_case_Cheongdo Daenam Hospital  ...   \n",
       "state                                    ...   \n",
       "\n",
       "                                         infection_case_River of Grace Community Church  \\\n",
       "patient_id                                                                     0.000040   \n",
       "global_num                                                                     0.001403   \n",
       "country_China                                                                 -0.001488   \n",
       "country_Korea                                                                  0.001631   \n",
       "province_Busan                                                                -0.004835   \n",
       "province_Daegu                                                                -0.003784   \n",
       "province_Gyeongsangbuk-do                                                     -0.021450   \n",
       "city_Unknown                                                                  -0.003845   \n",
       "infection_case_Cheongdo Daenam Hospital                                       -0.002163   \n",
       "state                                                                         -0.009053   \n",
       "\n",
       "                                         infection_case_Seongdong-gu APT  \\\n",
       "patient_id                                                     -0.110408   \n",
       "global_num                                                     -0.042977   \n",
       "country_China                                                  -0.005382   \n",
       "country_Korea                                                   0.005898   \n",
       "province_Busan                                                 -0.017484   \n",
       "province_Daegu                                                 -0.013681   \n",
       "province_Gyeongsangbuk-do                                      -0.077558   \n",
       "city_Unknown                                                   -0.013903   \n",
       "infection_case_Cheongdo Daenam Hospital                        -0.007820   \n",
       "state                                                          -0.018276   \n",
       "\n",
       "                                         infection_case_Shincheonji Church  \\\n",
       "patient_id                                                       -0.077307   \n",
       "global_num                                                       -0.135545   \n",
       "country_China                                                     0.020804   \n",
       "country_Korea                                                    -0.016427   \n",
       "province_Busan                                                    0.021570   \n",
       "province_Daegu                                                    0.147207   \n",
       "province_Gyeongsangbuk-do                                        -0.145767   \n",
       "city_Unknown                                                      0.074542   \n",
       "infection_case_Cheongdo Daenam Hospital                          -0.020468   \n",
       "state                                                             0.074475   \n",
       "\n",
       "                                         infection_case_Suyeong-gu Kindergarten  \\\n",
       "patient_id                                                            -0.051204   \n",
       "global_num                                                             0.002431   \n",
       "country_China                                                         -0.002579   \n",
       "country_Korea                                                          0.002827   \n",
       "province_Busan                                                         0.168328   \n",
       "province_Daegu                                                        -0.006557   \n",
       "province_Gyeongsangbuk-do                                             -0.037170   \n",
       "city_Unknown                                                          -0.006663   \n",
       "infection_case_Cheongdo Daenam Hospital                               -0.003748   \n",
       "state                                                                  0.044355   \n",
       "\n",
       "                                         infection_case_Unknown  \\\n",
       "patient_id                                             0.628210   \n",
       "global_num                                            -0.118648   \n",
       "country_China                                         -0.083380   \n",
       "country_Korea                                          0.065818   \n",
       "province_Busan                                        -0.176334   \n",
       "province_Daegu                                         0.064748   \n",
       "province_Gyeongsangbuk-do                              0.681296   \n",
       "city_Unknown                                           0.023776   \n",
       "infection_case_Cheongdo Daenam Hospital               -0.121144   \n",
       "state                                                 -0.075783   \n",
       "\n",
       "                                         infection_case_contact with patient  \\\n",
       "patient_id                                                         -0.336256   \n",
       "global_num                                                          0.039395   \n",
       "country_China                                                       0.014116   \n",
       "country_Korea                                                      -0.006317   \n",
       "province_Busan                                                      0.081852   \n",
       "province_Daegu                                                     -0.084760   \n",
       "province_Gyeongsangbuk-do                                          -0.434218   \n",
       "city_Unknown                                                       -0.006685   \n",
       "infection_case_Cheongdo Daenam Hospital                            -0.052299   \n",
       "state                                                               0.011096   \n",
       "\n",
       "                                         infection_case_gym facility in Cheonan  \\\n",
       "patient_id                                                            -0.006236   \n",
       "global_num                                                             0.007605   \n",
       "country_China                                                         -0.008069   \n",
       "country_Korea                                                          0.008843   \n",
       "province_Busan                                                        -0.026212   \n",
       "province_Daegu                                                        -0.020511   \n",
       "province_Gyeongsangbuk-do                                             -0.116279   \n",
       "city_Unknown                                                          -0.020844   \n",
       "infection_case_Cheongdo Daenam Hospital                               -0.011724   \n",
       "state                                                                  0.028649   \n",
       "\n",
       "                                         infection_case_gym facility in Sejong  \\\n",
       "patient_id                                                           -0.047296   \n",
       "global_num                                                            0.002808   \n",
       "country_China                                                        -0.002979   \n",
       "country_Korea                                                         0.003265   \n",
       "province_Busan                                                       -0.009678   \n",
       "province_Daegu                                                       -0.007573   \n",
       "province_Gyeongsangbuk-do                                            -0.042930   \n",
       "city_Unknown                                                         -0.007696   \n",
       "infection_case_Cheongdo Daenam Hospital                              -0.004328   \n",
       "state                                                                -0.018118   \n",
       "\n",
       "                                         infection_case_overseas inflow  \\\n",
       "patient_id                                                    -0.190062   \n",
       "global_num                                                     0.008655   \n",
       "country_China                                                  0.213874   \n",
       "country_Korea                                                 -0.193367   \n",
       "province_Busan                                                -0.020494   \n",
       "province_Daegu                                                -0.027344   \n",
       "province_Gyeongsangbuk-do                                     -0.155014   \n",
       "city_Unknown                                                  -0.009933   \n",
       "infection_case_Cheongdo Daenam Hospital                       -0.015629   \n",
       "state                                                          0.096602   \n",
       "\n",
       "                                            state  \n",
       "patient_id                              -0.133224  \n",
       "global_num                              -0.279861  \n",
       "country_China                            0.103074  \n",
       "country_Korea                           -0.118982  \n",
       "province_Busan                           0.102812  \n",
       "province_Daegu                           0.219478  \n",
       "province_Gyeongsangbuk-do               -0.172456  \n",
       "city_Unknown                             0.259719  \n",
       "infection_case_Cheongdo Daenam Hospital  0.129246  \n",
       "state                                    1.000000  \n",
       "\n",
       "[10 rows x 65 columns]"
      ]
     },
     "execution_count": 127,
     "metadata": {},
     "output_type": "execute_result"
    }
   ],
   "source": [
    "df2"
   ]
  },
  {
   "cell_type": "code",
   "execution_count": 133,
   "metadata": {},
   "outputs": [
    {
     "data": {
      "image/png": "[encoded data removed]",
      "text/plain": [
       "<Figure size 1440x1440 with 2 Axes>"
      ]
     },
     "metadata": {
      "needs_background": "light"
     },
     "output_type": "display_data"
    }
   ],
   "source": [
    "plt.figure(figsize=(20,20))\n",
    "_=sns.heatmap(df2,annot=True)"
   ]
  },
  {
   "cell_type": "code",
   "execution_count": 70,
   "metadata": {},
   "outputs": [],
   "source": [
    "features = [ 'age', 'infection_order',\n",
    "       'infected_by', 'contact_number', 'sex_Unknown', 'sex_female',\n",
    "       'sex_male', 'country_China', 'country_Korea', 'country_Mongolia',\n",
    "       'country_Thailand', 'province_Busan', 'province_Chungcheongbuk-do',\n",
    "       'province_Chungcheongnam-do', 'province_Daegu', 'province_Daejeon',\n",
    "       'province_Gangwon-do', 'province_Gwangju', 'province_Gyeonggi-do',\n",
    "       'province_Gyeongsangbuk-do', 'province_Gyeongsangnam-do',\n",
    "       'province_Incheon', 'province_Jeju-do', 'province_Jeollabuk-do',\n",
    "       'province_Jeollanam-do', 'province_Sejong', 'province_Seoul',\n",
    "       'province_Ulsan', 'city_Andong-si', 'city_Bonghwa-gun',\n",
    "       'city_Bucheon-si', 'city_Cheonan-si', 'city_Cheongdo-gun',\n",
    "       'city_Chilgok-gun', 'city_Gumi-si', 'city_Gyeongsan-si', 'city_Others',\n",
    "       'city_Pohang-si', 'city_Sejong', 'city_Seongnam-si', 'city_Uiseong-gun',\n",
    "       'city_Unknown', 'city_Yeongcheon-si',\n",
    "       'infection_case_Cheongdo Daenam Hospital',\n",
    "       'infection_case_Dongan Church',\n",
    "       'infection_case_Eunpyeong St. Marys Hospital',\n",
    "       'infection_case_Guro-gu Call Center',\n",
    "       'infection_case_Ministry of Oceans and Fisheries',\n",
    "       'infection_case_Onchun Church', 'infection_case_Pilgrimage to Israel',\n",
    "       'infection_case_River of Grace Community Church',\n",
    "       'infection_case_Seongdong-gu APT', 'infection_case_Shincheonji Church',\n",
    "       'infection_case_Suyeong-gu Kindergarten', 'infection_case_Unknown',\n",
    "       'infection_case_contact with patient',\n",
    "       'infection_case_gym facility in Cheonan',\n",
    "       'infection_case_gym facility in Sejong',\n",
    "       'infection_case_overseas inflow']"
   ]
  },
  {
   "cell_type": "code",
   "execution_count": 69,
   "metadata": {},
   "outputs": [
    {
     "data": {
      "text/plain": [
       "Index(['patient_id', 'global_num', 'birth_year', 'age', 'infection_order',\n",
       "       'infected_by', 'contact_number', 'n_age', 'sex_Unknown', 'sex_female',\n",
       "       'sex_male', 'country_China', 'country_Korea', 'country_Mongolia',\n",
       "       'country_Thailand', 'province_Busan', 'province_Chungcheongbuk-do',\n",
       "       'province_Chungcheongnam-do', 'province_Daegu', 'province_Daejeon',\n",
       "       'province_Gangwon-do', 'province_Gwangju', 'province_Gyeonggi-do',\n",
       "       'province_Gyeongsangbuk-do', 'province_Gyeongsangnam-do',\n",
       "       'province_Incheon', 'province_Jeju-do', 'province_Jeollabuk-do',\n",
       "       'province_Jeollanam-do', 'province_Sejong', 'province_Seoul',\n",
       "       'province_Ulsan', 'city_Andong-si', 'city_Bonghwa-gun',\n",
       "       'city_Bucheon-si', 'city_Cheonan-si', 'city_Cheongdo-gun',\n",
       "       'city_Chilgok-gun', 'city_Gumi-si', 'city_Gyeongsan-si', 'city_Others',\n",
       "       'city_Pohang-si', 'city_Sejong', 'city_Seongnam-si', 'city_Uiseong-gun',\n",
       "       'city_Unknown', 'city_Yecheon-gun', 'city_Yeongcheon-si',\n",
       "       'infection_case_Cheongdo Daenam Hospital',\n",
       "       'infection_case_Dongan Church',\n",
       "       'infection_case_Eunpyeong St. Marys Hospital',\n",
       "       'infection_case_Guro-gu Call Center',\n",
       "       'infection_case_Ministry of Oceans and Fisheries',\n",
       "       'infection_case_Onchun Church', 'infection_case_Pilgrimage to Israel',\n",
       "       'infection_case_River of Grace Community Church',\n",
       "       'infection_case_Seongdong-gu APT', 'infection_case_Shincheonji Church',\n",
       "       'infection_case_Suyeong-gu Kindergarten', 'infection_case_Unknown',\n",
       "       'infection_case_contact with patient',\n",
       "       'infection_case_gym facility in Cheonan',\n",
       "       'infection_case_gym facility in Sejong',\n",
       "       'infection_case_overseas inflow', 'state'],\n",
       "      dtype='object')"
      ]
     },
     "execution_count": 69,
     "metadata": {},
     "output_type": "execute_result"
    }
   ],
   "source": [
    "df1.columns"
   ]
  },
  {
   "cell_type": "code",
   "execution_count": 79,
   "metadata": {},
   "outputs": [
    {
     "data": {
      "text/plain": [
       "patient_id                                 0\n",
       "global_num                                 0\n",
       "birth_year                                 0\n",
       "age                                        0\n",
       "infection_order                            0\n",
       "                                          ..\n",
       "infection_case_contact with patient        0\n",
       "infection_case_gym facility in Cheonan     0\n",
       "infection_case_gym facility in Sejong      0\n",
       "infection_case_overseas inflow             0\n",
       "state                                     88\n",
       "Length: 65, dtype: int64"
      ]
     },
     "execution_count": 79,
     "metadata": {},
     "output_type": "execute_result"
    }
   ],
   "source": [
    "df1.isnull().sum()"
   ]
  },
  {
   "cell_type": "code",
   "execution_count": 80,
   "metadata": {},
   "outputs": [],
   "source": [
    "df1 = df1.dropna()"
   ]
  },
  {
   "cell_type": "code",
   "execution_count": 81,
   "metadata": {},
   "outputs": [],
   "source": [
    "X= df1[features]\n",
    "y= df1['state']"
   ]
  },
  {
   "cell_type": "code",
   "execution_count": 82,
   "metadata": {},
   "outputs": [
    {
     "data": {
      "text/plain": [
       "patient_id                                0\n",
       "global_num                                0\n",
       "birth_year                                0\n",
       "age                                       0\n",
       "infection_order                           0\n",
       "                                         ..\n",
       "infection_case_contact with patient       0\n",
       "infection_case_gym facility in Cheonan    0\n",
       "infection_case_gym facility in Sejong     0\n",
       "infection_case_overseas inflow            0\n",
       "state                                     0\n",
       "Length: 65, dtype: int64"
      ]
     },
     "execution_count": 82,
     "metadata": {},
     "output_type": "execute_result"
    }
   ],
   "source": [
    "df1.isnull().sum()"
   ]
  },
  {
   "cell_type": "markdown",
   "metadata": {
    "colab_type": "text",
    "id": "0uTSQY_liDHj"
   },
   "source": [
    "### Split the data into test and train subsamples"
   ]
  },
  {
   "cell_type": "code",
   "execution_count": 83,
   "metadata": {
    "colab": {},
    "colab_type": "code",
    "id": "BSkPut0gguds"
   },
   "outputs": [],
   "source": [
    "from sklearn.model_selection import train_test_split\n",
    "\n",
    "# dont forget to define your X and y\n",
    "\n",
    "X_train, X_test, y_train, y_test = train_test_split(X, y, test_size=.2, random_state=1)"
   ]
  },
  {
   "cell_type": "markdown",
   "metadata": {
    "colab_type": "text",
    "id": "TcrOg3y7gRtG"
   },
   "source": [
    "### Scale data to prep for model creation"
   ]
  },
  {
   "cell_type": "code",
   "execution_count": 84,
   "metadata": {
    "colab": {},
    "colab_type": "code",
    "id": "IZL-q-KtAYI6"
   },
   "outputs": [],
   "source": [
    "#scale data\n",
    "from sklearn import preprocessing\n",
    "import numpy as np\n",
    "# build scaler based on training data and apply it to test data to then also scale the test data\n",
    "scaler = preprocessing.StandardScaler().fit(X_train)\n",
    "X_train_scaled=scaler.transform(X_train)\n",
    "X_test_scaled=scaler.transform(X_test)"
   ]
  },
  {
   "cell_type": "code",
   "execution_count": 86,
   "metadata": {},
   "outputs": [
    {
     "data": {
      "text/plain": [
       "0"
      ]
     },
     "execution_count": 86,
     "metadata": {},
     "output_type": "execute_result"
    }
   ],
   "source": [
    "y_train.isnull().sum()"
   ]
  },
  {
   "cell_type": "code",
   "execution_count": 87,
   "metadata": {
    "colab": {},
    "colab_type": "code",
    "id": "ZSOICugNSpOR"
   },
   "outputs": [],
   "source": [
    "from sklearn.metrics import precision_recall_curve\n",
    "from sklearn.metrics import f1_score\n",
    "from sklearn.metrics import auc\n",
    "from sklearn.linear_model import LogisticRegression\n",
    "from matplotlib import pyplot\n",
    "from sklearn.metrics import precision_recall_curve\n",
    "from sklearn.metrics import f1_score\n",
    "from sklearn.metrics import auc\n",
    "from sklearn.linear_model import LogisticRegression\n",
    "from sklearn.metrics import classification_report,confusion_matrix,roc_curve,roc_auc_score\n",
    "from sklearn.metrics import accuracy_score,log_loss\n",
    "from matplotlib import pyplot"
   ]
  },
  {
   "cell_type": "markdown",
   "metadata": {
    "colab_type": "text",
    "id": "vzrLoM58SpOT"
   },
   "source": [
    "### Fit Random Forest Classifier\n",
    "The fit model shows an overall accuracy of 80% which is great and indicates our model was effectively able to identify the status of a patients in the South Korea dataset."
   ]
  },
  {
   "cell_type": "code",
   "execution_count": 88,
   "metadata": {},
   "outputs": [],
   "source": [
    "from sklearn.ensemble import RandomForestClassifier\n",
    "clf = RandomForestClassifier(n_estimators=300, random_state = 1,n_jobs=-1)\n",
    "model_res = clf.fit(X_train_scaled, y_train)\n",
    "y_pred = model_res.predict(X_test_scaled)\n",
    "y_pred_prob = model_res.predict_proba(X_test_scaled)\n",
    "lr_probs = y_pred_prob[:,1]\n",
    "ac = accuracy_score(y_test, y_pred)"
   ]
  },
  {
   "cell_type": "code",
   "execution_count": 89,
   "metadata": {},
   "outputs": [
    {
     "data": {
      "text/plain": [
       "0.8497652582159625"
      ]
     },
     "execution_count": 89,
     "metadata": {},
     "output_type": "execute_result"
    }
   ],
   "source": [
    "ac"
   ]
  },
  {
   "cell_type": "code",
   "execution_count": 90,
   "metadata": {
    "colab": {},
    "colab_type": "code",
    "id": "b9jQyje3SpOU"
   },
   "outputs": [
    {
     "name": "stdout",
     "output_type": "stream",
     "text": [
      "Random Forest: Accuracy=0.850\n",
      "Random Forest: f1-score=0.836\n"
     ]
    }
   ],
   "source": [
    "from sklearn.ensemble import RandomForestClassifier\n",
    "clf = RandomForestClassifier(n_estimators=300, random_state = 1,n_jobs=-1)\n",
    "model_res = clf.fit(X_train_scaled, y_train)\n",
    "y_pred = model_res.predict(X_test_scaled)\n",
    "y_pred_prob = model_res.predict_proba(X_test_scaled)\n",
    "lr_probs = y_pred_prob[:,1]\n",
    "ac = accuracy_score(y_test, y_pred)\n",
    "\n",
    "f1 = f1_score(y_test, y_pred, average='weighted')\n",
    "cm = confusion_matrix(y_test, y_pred)\n",
    "\n",
    "print('Random Forest: Accuracy=%.3f' % (ac))\n",
    "\n",
    "print('Random Forest: f1-score=%.3f' % (f1))"
   ]
  },
  {
   "cell_type": "markdown",
   "metadata": {
    "colab_type": "text",
    "id": "QYdW02QQSpOW"
   },
   "source": [
    "### Create Confusion Matrix Plots\n",
    "Confusion matrices are great ways to review your model performance for a multi-class classification problem. Being able to identify which class the misclassified observations end up in is a great way to determine if you need to build additional features to improve your overall model. In the example below we plot a regular counts confusion matrix as well as a weighted percent confusion matrix. The percent confusion matrix is particulary helpful when you have unbalanced class sizes."
   ]
  },
  {
   "cell_type": "code",
   "execution_count": 91,
   "metadata": {
    "colab": {},
    "colab_type": "code",
    "id": "wSWGVZU6SpOW"
   },
   "outputs": [],
   "source": [
    "class_names=['isolated','released','missing','deceased'] # name  of classes"
   ]
  },
  {
   "cell_type": "code",
   "execution_count": 92,
   "metadata": {
    "colab": {},
    "colab_type": "code",
    "id": "GjnV5ugJSpOb"
   },
   "outputs": [
    {
     "name": "stdout",
     "output_type": "stream",
     "text": [
      "Confusion matrix, without normalization\n",
      "[[344  21   0]\n",
      " [ 39  15   0]\n",
      " [  4   0   3]]\n",
      "Normalized confusion matrix\n",
      "[[0.94 0.06 0.  ]\n",
      " [0.72 0.28 0.  ]\n",
      " [0.57 0.   0.43]]\n"
     ]
    },
    {
     "data": {
      "image/png": "[encoded data removed]",
      "text/plain": [
       "<Figure size 432x288 with 2 Axes>"
      ]
     },
     "metadata": {
      "needs_background": "light"
     },
     "output_type": "display_data"
    },
    {
     "data": {
      "image/png": "[encoded data removed]",
      "text/plain": [
       "<Figure size 432x288 with 2 Axes>"
      ]
     },
     "metadata": {
      "needs_background": "light"
     },
     "output_type": "display_data"
    }
   ],
   "source": [
    "import itertools\n",
    "import numpy as np\n",
    "import matplotlib.pyplot as plt\n",
    "\n",
    "from sklearn import svm, datasets\n",
    "from sklearn.model_selection import train_test_split\n",
    "from sklearn.metrics import confusion_matrix\n",
    "\n",
    "def plot_confusion_matrix(cm, classes,\n",
    "                          normalize=False,\n",
    "                          title='Confusion matrix',\n",
    "                          cmap=plt.cm.Blues):\n",
    "    \"\"\"\n",
    "    This function prints and plots the confusion matrix.\n",
    "    Normalization can be applied by setting `normalize=True`.\n",
    "    \"\"\"\n",
    "    if normalize:\n",
    "        cm = cm.astype('float') / cm.sum(axis=1)[:, np.newaxis]\n",
    "        print(\"Normalized confusion matrix\")\n",
    "    else:\n",
    "        print('Confusion matrix, without normalization')\n",
    "\n",
    "    print(cm)\n",
    "\n",
    "    plt.imshow(cm, interpolation='nearest', cmap=cmap)\n",
    "    plt.title(title)\n",
    "    plt.colorbar()\n",
    "    tick_marks = np.arange(len(classes))\n",
    "    plt.xticks(tick_marks, classes, rotation=45)\n",
    "    plt.yticks(tick_marks, classes)\n",
    "\n",
    "    fmt = '.2f' if normalize else 'd'\n",
    "    thresh = cm.max() / 2.\n",
    "    for i, j in itertools.product(range(cm.shape[0]), range(cm.shape[1])):\n",
    "        plt.text(j, i, format(cm[i, j], fmt),\n",
    "                 horizontalalignment=\"center\",\n",
    "                 color=\"white\" if cm[i, j] > thresh else \"black\")\n",
    "\n",
    "    plt.ylabel('True label')\n",
    "    plt.xlabel('Predicted label')\n",
    "    plt.tight_layout()\n",
    "\n",
    "\n",
    "# Compute confusion matrix\n",
    "cnf_matrix = confusion_matrix(y_test, y_pred)\n",
    "np.set_printoptions(precision=2)\n",
    "\n",
    "# Plot non-normalized confusion matrix\n",
    "plt.figure()\n",
    "plot_confusion_matrix(cnf_matrix, classes=class_names,\n",
    "                      title='Confusion matrix, without normalization')\n",
    "#plt.savefig('figures/RF_cm_multi_class.png')\n",
    "\n",
    "# Plot normalized confusion matrix\n",
    "plt.figure()\n",
    "plot_confusion_matrix(cnf_matrix, classes=class_names, normalize=True,\n",
    "                      title='Normalized confusion matrix')\n",
    "#plt.savefig('figures/RF_cm_proportion_multi_class.png', bbox_inches=\"tight\")\n",
    "plt.show()"
   ]
  },
  {
   "cell_type": "markdown",
   "metadata": {
    "colab_type": "text",
    "id": "Z7PtbV4LSpOc"
   },
   "source": [
    "### Plot feature importances\n",
    "The random forest algorithm can be used as a regression or classification model. In either case it tends to be a bit of a black box, where understanding what's happening under the hood can be difficult. Plotting the feature importances is one way that you can gain a perspective on which features are driving the model predictions."
   ]
  },
  {
   "cell_type": "code",
   "execution_count": 93,
   "metadata": {
    "colab": {},
    "colab_type": "code",
    "id": "T1xpGOCVSpOc"
   },
   "outputs": [
    {
     "name": "stdout",
     "output_type": "stream",
     "text": [
      "30\n"
     ]
    },
    {
     "data": {
      "image/png": "[encoded data removed]",
      "text/plain": [
       "<Figure size 720x720 with 1 Axes>"
      ]
     },
     "metadata": {
      "needs_background": "light"
     },
     "output_type": "display_data"
    }
   ],
   "source": [
    "feature_importance = clf.feature_importances_\n",
    "# make importances relative to max importance\n",
    "feature_importance = 100.0 * (feature_importance / feature_importance.max())[:30]\n",
    "sorted_idx = np.argsort(feature_importance)[:30]\n",
    "\n",
    "pos = np.arange(sorted_idx.shape[0]) + .5\n",
    "print(pos.size)\n",
    "sorted_idx.size\n",
    "plt.figure(figsize=(10,10))\n",
    "plt.barh(pos, feature_importance[sorted_idx], align='center')\n",
    "plt.yticks(pos, X.columns[sorted_idx])\n",
    "plt.xlabel('Relative Importance')\n",
    "plt.title('Variable Importance')\n",
    "plt.show()"
   ]
  },
  {
   "cell_type": "markdown",
   "metadata": {
    "colab_type": "text",
    "id": "Ys_mI5GsSpOe"
   },
   "source": [
    "The popularity of random forest is primarily due to how well it performs in a multitude of data situations. It tends to handle highly correlated features well, where as a linear regression model would not. In this case study we demonstrate the performance ability even with only a few features and almost all of them being highly correlated with each other.\n",
    "Random Forest is also used as an efficient way to investigate the importance of a set of features with a large data set. Consider random forest to be one of your first choices when building a decision tree, especially for multiclass classifications."
   ]
  },
  {
   "cell_type": "code",
   "execution_count": 94,
   "metadata": {},
   "outputs": [
    {
     "data": {
      "text/plain": [
       "array([1.00e+02, 1.89e+01, 3.45e+01, 5.96e+01, 1.63e+00, 1.22e+01,\n",
       "       1.20e+01, 3.39e+00, 2.77e+00, 0.00e+00, 2.39e-02, 6.52e+00,\n",
       "       1.40e+00, 2.60e+00, 7.64e+00, 2.95e+00, 2.87e+00, 2.11e+00,\n",
       "       5.88e+00, 7.53e+00, 9.87e+00, 1.35e+00, 1.54e+00, 1.35e+00,\n",
       "       6.47e-02, 1.02e+00, 5.42e+00, 5.00e+00, 2.34e-01, 3.06e-01])"
      ]
     },
     "execution_count": 94,
     "metadata": {},
     "output_type": "execute_result"
    }
   ],
   "source": [
    "feature_importance\n"
   ]
  },
  {
   "cell_type": "code",
   "execution_count": 100,
   "metadata": {},
   "outputs": [],
   "source": [
    "feature_df = pd.DataFrame(clf.feature_importances_,index = features)\n",
    "feature_df = feature_df.reset_index()"
   ]
  },
  {
   "cell_type": "code",
   "execution_count": 102,
   "metadata": {},
   "outputs": [],
   "source": [
    "feature_df.columns= ['Column_name','feature_importance_value']"
   ]
  },
  {
   "cell_type": "code",
   "execution_count": 105,
   "metadata": {},
   "outputs": [
    {
     "data": {
      "text/html": [
       "<div>\n",
       "<style scoped>\n",
       "    .dataframe tbody tr th:only-of-type {\n",
       "        vertical-align: middle;\n",
       "    }\n",
       "\n",
       "    .dataframe tbody tr th {\n",
       "        vertical-align: top;\n",
       "    }\n",
       "\n",
       "    .dataframe thead th {\n",
       "        text-align: right;\n",
       "    }\n",
       "</style>\n",
       "<table border=\"1\" class=\"dataframe\">\n",
       "  <thead>\n",
       "    <tr style=\"text-align: right;\">\n",
       "      <th></th>\n",
       "      <th>Column_name</th>\n",
       "      <th>feature_importance_value</th>\n",
       "    </tr>\n",
       "  </thead>\n",
       "  <tbody>\n",
       "    <tr>\n",
       "      <th>0</th>\n",
       "      <td>age</td>\n",
       "      <td>0.248335</td>\n",
       "    </tr>\n",
       "    <tr>\n",
       "      <th>3</th>\n",
       "      <td>contact_number</td>\n",
       "      <td>0.147908</td>\n",
       "    </tr>\n",
       "    <tr>\n",
       "      <th>2</th>\n",
       "      <td>infected_by</td>\n",
       "      <td>0.085717</td>\n",
       "    </tr>\n",
       "    <tr>\n",
       "      <th>1</th>\n",
       "      <td>infection_order</td>\n",
       "      <td>0.046985</td>\n",
       "    </tr>\n",
       "    <tr>\n",
       "      <th>5</th>\n",
       "      <td>sex_female</td>\n",
       "      <td>0.030278</td>\n",
       "    </tr>\n",
       "    <tr>\n",
       "      <th>6</th>\n",
       "      <td>sex_male</td>\n",
       "      <td>0.029826</td>\n",
       "    </tr>\n",
       "    <tr>\n",
       "      <th>54</th>\n",
       "      <td>infection_case_Unknown</td>\n",
       "      <td>0.026645</td>\n",
       "    </tr>\n",
       "    <tr>\n",
       "      <th>55</th>\n",
       "      <td>infection_case_contact with patient</td>\n",
       "      <td>0.025802</td>\n",
       "    </tr>\n",
       "    <tr>\n",
       "      <th>20</th>\n",
       "      <td>province_Gyeongsangnam-do</td>\n",
       "      <td>0.024520</td>\n",
       "    </tr>\n",
       "    <tr>\n",
       "      <th>41</th>\n",
       "      <td>city_Unknown</td>\n",
       "      <td>0.019959</td>\n",
       "    </tr>\n",
       "    <tr>\n",
       "      <th>14</th>\n",
       "      <td>province_Daegu</td>\n",
       "      <td>0.018964</td>\n",
       "    </tr>\n",
       "    <tr>\n",
       "      <th>52</th>\n",
       "      <td>infection_case_Shincheonji Church</td>\n",
       "      <td>0.018729</td>\n",
       "    </tr>\n",
       "    <tr>\n",
       "      <th>19</th>\n",
       "      <td>province_Gyeongsangbuk-do</td>\n",
       "      <td>0.018689</td>\n",
       "    </tr>\n",
       "    <tr>\n",
       "      <th>36</th>\n",
       "      <td>city_Others</td>\n",
       "      <td>0.017203</td>\n",
       "    </tr>\n",
       "    <tr>\n",
       "      <th>11</th>\n",
       "      <td>province_Busan</td>\n",
       "      <td>0.016185</td>\n",
       "    </tr>\n",
       "    <tr>\n",
       "      <th>58</th>\n",
       "      <td>infection_case_overseas inflow</td>\n",
       "      <td>0.015912</td>\n",
       "    </tr>\n",
       "    <tr>\n",
       "      <th>18</th>\n",
       "      <td>province_Gyeonggi-do</td>\n",
       "      <td>0.014600</td>\n",
       "    </tr>\n",
       "    <tr>\n",
       "      <th>26</th>\n",
       "      <td>province_Seoul</td>\n",
       "      <td>0.013462</td>\n",
       "    </tr>\n",
       "    <tr>\n",
       "      <th>27</th>\n",
       "      <td>province_Ulsan</td>\n",
       "      <td>0.012408</td>\n",
       "    </tr>\n",
       "    <tr>\n",
       "      <th>33</th>\n",
       "      <td>city_Chilgok-gun</td>\n",
       "      <td>0.009855</td>\n",
       "    </tr>\n",
       "    <tr>\n",
       "      <th>46</th>\n",
       "      <td>infection_case_Guro-gu Call Center</td>\n",
       "      <td>0.009742</td>\n",
       "    </tr>\n",
       "    <tr>\n",
       "      <th>48</th>\n",
       "      <td>infection_case_Onchun Church</td>\n",
       "      <td>0.009197</td>\n",
       "    </tr>\n",
       "    <tr>\n",
       "      <th>43</th>\n",
       "      <td>infection_case_Cheongdo Daenam Hospital</td>\n",
       "      <td>0.008690</td>\n",
       "    </tr>\n",
       "    <tr>\n",
       "      <th>42</th>\n",
       "      <td>city_Yeongcheon-si</td>\n",
       "      <td>0.008441</td>\n",
       "    </tr>\n",
       "    <tr>\n",
       "      <th>7</th>\n",
       "      <td>country_China</td>\n",
       "      <td>0.008415</td>\n",
       "    </tr>\n",
       "    <tr>\n",
       "      <th>45</th>\n",
       "      <td>infection_case_Eunpyeong St. Marys Hospital</td>\n",
       "      <td>0.008154</td>\n",
       "    </tr>\n",
       "    <tr>\n",
       "      <th>31</th>\n",
       "      <td>city_Cheonan-si</td>\n",
       "      <td>0.008021</td>\n",
       "    </tr>\n",
       "    <tr>\n",
       "      <th>15</th>\n",
       "      <td>province_Daejeon</td>\n",
       "      <td>0.007323</td>\n",
       "    </tr>\n",
       "    <tr>\n",
       "      <th>35</th>\n",
       "      <td>city_Gyeongsan-si</td>\n",
       "      <td>0.007317</td>\n",
       "    </tr>\n",
       "    <tr>\n",
       "      <th>16</th>\n",
       "      <td>province_Gangwon-do</td>\n",
       "      <td>0.007128</td>\n",
       "    </tr>\n",
       "    <tr>\n",
       "      <th>8</th>\n",
       "      <td>country_Korea</td>\n",
       "      <td>0.006871</td>\n",
       "    </tr>\n",
       "    <tr>\n",
       "      <th>13</th>\n",
       "      <td>province_Chungcheongnam-do</td>\n",
       "      <td>0.006461</td>\n",
       "    </tr>\n",
       "    <tr>\n",
       "      <th>17</th>\n",
       "      <td>province_Gwangju</td>\n",
       "      <td>0.005250</td>\n",
       "    </tr>\n",
       "    <tr>\n",
       "      <th>51</th>\n",
       "      <td>infection_case_Seongdong-gu APT</td>\n",
       "      <td>0.004070</td>\n",
       "    </tr>\n",
       "    <tr>\n",
       "      <th>4</th>\n",
       "      <td>sex_Unknown</td>\n",
       "      <td>0.004048</td>\n",
       "    </tr>\n",
       "    <tr>\n",
       "      <th>56</th>\n",
       "      <td>infection_case_gym facility in Cheonan</td>\n",
       "      <td>0.003979</td>\n",
       "    </tr>\n",
       "    <tr>\n",
       "      <th>34</th>\n",
       "      <td>city_Gumi-si</td>\n",
       "      <td>0.003936</td>\n",
       "    </tr>\n",
       "    <tr>\n",
       "      <th>22</th>\n",
       "      <td>province_Jeju-do</td>\n",
       "      <td>0.003821</td>\n",
       "    </tr>\n",
       "    <tr>\n",
       "      <th>49</th>\n",
       "      <td>infection_case_Pilgrimage to Israel</td>\n",
       "      <td>0.003796</td>\n",
       "    </tr>\n",
       "    <tr>\n",
       "      <th>12</th>\n",
       "      <td>province_Chungcheongbuk-do</td>\n",
       "      <td>0.003477</td>\n",
       "    </tr>\n",
       "    <tr>\n",
       "      <th>21</th>\n",
       "      <td>province_Incheon</td>\n",
       "      <td>0.003353</td>\n",
       "    </tr>\n",
       "    <tr>\n",
       "      <th>23</th>\n",
       "      <td>province_Jeollabuk-do</td>\n",
       "      <td>0.003350</td>\n",
       "    </tr>\n",
       "    <tr>\n",
       "      <th>37</th>\n",
       "      <td>city_Pohang-si</td>\n",
       "      <td>0.003135</td>\n",
       "    </tr>\n",
       "    <tr>\n",
       "      <th>44</th>\n",
       "      <td>infection_case_Dongan Church</td>\n",
       "      <td>0.002633</td>\n",
       "    </tr>\n",
       "    <tr>\n",
       "      <th>38</th>\n",
       "      <td>city_Sejong</td>\n",
       "      <td>0.002548</td>\n",
       "    </tr>\n",
       "    <tr>\n",
       "      <th>25</th>\n",
       "      <td>province_Sejong</td>\n",
       "      <td>0.002528</td>\n",
       "    </tr>\n",
       "    <tr>\n",
       "      <th>32</th>\n",
       "      <td>city_Cheongdo-gun</td>\n",
       "      <td>0.002399</td>\n",
       "    </tr>\n",
       "    <tr>\n",
       "      <th>30</th>\n",
       "      <td>city_Bucheon-si</td>\n",
       "      <td>0.002040</td>\n",
       "    </tr>\n",
       "    <tr>\n",
       "      <th>40</th>\n",
       "      <td>city_Uiseong-gun</td>\n",
       "      <td>0.001773</td>\n",
       "    </tr>\n",
       "    <tr>\n",
       "      <th>53</th>\n",
       "      <td>infection_case_Suyeong-gu Kindergarten</td>\n",
       "      <td>0.001563</td>\n",
       "    </tr>\n",
       "    <tr>\n",
       "      <th>47</th>\n",
       "      <td>infection_case_Ministry of Oceans and Fisheries</td>\n",
       "      <td>0.001233</td>\n",
       "    </tr>\n",
       "    <tr>\n",
       "      <th>39</th>\n",
       "      <td>city_Seongnam-si</td>\n",
       "      <td>0.001190</td>\n",
       "    </tr>\n",
       "    <tr>\n",
       "      <th>29</th>\n",
       "      <td>city_Bonghwa-gun</td>\n",
       "      <td>0.000761</td>\n",
       "    </tr>\n",
       "    <tr>\n",
       "      <th>28</th>\n",
       "      <td>city_Andong-si</td>\n",
       "      <td>0.000582</td>\n",
       "    </tr>\n",
       "    <tr>\n",
       "      <th>50</th>\n",
       "      <td>infection_case_River of Grace Community Church</td>\n",
       "      <td>0.000449</td>\n",
       "    </tr>\n",
       "    <tr>\n",
       "      <th>24</th>\n",
       "      <td>province_Jeollanam-do</td>\n",
       "      <td>0.000161</td>\n",
       "    </tr>\n",
       "    <tr>\n",
       "      <th>57</th>\n",
       "      <td>infection_case_gym facility in Sejong</td>\n",
       "      <td>0.000124</td>\n",
       "    </tr>\n",
       "    <tr>\n",
       "      <th>10</th>\n",
       "      <td>country_Thailand</td>\n",
       "      <td>0.000059</td>\n",
       "    </tr>\n",
       "    <tr>\n",
       "      <th>9</th>\n",
       "      <td>country_Mongolia</td>\n",
       "      <td>0.000000</td>\n",
       "    </tr>\n",
       "  </tbody>\n",
       "</table>\n",
       "</div>"
      ],
      "text/plain": [
       "                                        Column_name  feature_importance_value\n",
       "0                                               age                  0.248335\n",
       "3                                    contact_number                  0.147908\n",
       "2                                       infected_by                  0.085717\n",
       "1                                   infection_order                  0.046985\n",
       "5                                        sex_female                  0.030278\n",
       "6                                          sex_male                  0.029826\n",
       "54                           infection_case_Unknown                  0.026645\n",
       "55              infection_case_contact with patient                  0.025802\n",
       "20                        province_Gyeongsangnam-do                  0.024520\n",
       "41                                     city_Unknown                  0.019959\n",
       "14                                   province_Daegu                  0.018964\n",
       "52                infection_case_Shincheonji Church                  0.018729\n",
       "19                        province_Gyeongsangbuk-do                  0.018689\n",
       "36                                      city_Others                  0.017203\n",
       "11                                   province_Busan                  0.016185\n",
       "58                   infection_case_overseas inflow                  0.015912\n",
       "18                             province_Gyeonggi-do                  0.014600\n",
       "26                                   province_Seoul                  0.013462\n",
       "27                                   province_Ulsan                  0.012408\n",
       "33                                 city_Chilgok-gun                  0.009855\n",
       "46               infection_case_Guro-gu Call Center                  0.009742\n",
       "48                     infection_case_Onchun Church                  0.009197\n",
       "43          infection_case_Cheongdo Daenam Hospital                  0.008690\n",
       "42                               city_Yeongcheon-si                  0.008441\n",
       "7                                     country_China                  0.008415\n",
       "45      infection_case_Eunpyeong St. Marys Hospital                  0.008154\n",
       "31                                  city_Cheonan-si                  0.008021\n",
       "15                                 province_Daejeon                  0.007323\n",
       "35                                city_Gyeongsan-si                  0.007317\n",
       "16                              province_Gangwon-do                  0.007128\n",
       "8                                     country_Korea                  0.006871\n",
       "13                       province_Chungcheongnam-do                  0.006461\n",
       "17                                 province_Gwangju                  0.005250\n",
       "51                  infection_case_Seongdong-gu APT                  0.004070\n",
       "4                                       sex_Unknown                  0.004048\n",
       "56           infection_case_gym facility in Cheonan                  0.003979\n",
       "34                                     city_Gumi-si                  0.003936\n",
       "22                                 province_Jeju-do                  0.003821\n",
       "49              infection_case_Pilgrimage to Israel                  0.003796\n",
       "12                       province_Chungcheongbuk-do                  0.003477\n",
       "21                                 province_Incheon                  0.003353\n",
       "23                            province_Jeollabuk-do                  0.003350\n",
       "37                                   city_Pohang-si                  0.003135\n",
       "44                     infection_case_Dongan Church                  0.002633\n",
       "38                                      city_Sejong                  0.002548\n",
       "25                                  province_Sejong                  0.002528\n",
       "32                                city_Cheongdo-gun                  0.002399\n",
       "30                                  city_Bucheon-si                  0.002040\n",
       "40                                 city_Uiseong-gun                  0.001773\n",
       "53           infection_case_Suyeong-gu Kindergarten                  0.001563\n",
       "47  infection_case_Ministry of Oceans and Fisheries                  0.001233\n",
       "39                                 city_Seongnam-si                  0.001190\n",
       "29                                 city_Bonghwa-gun                  0.000761\n",
       "28                                   city_Andong-si                  0.000582\n",
       "50   infection_case_River of Grace Community Church                  0.000449\n",
       "24                            province_Jeollanam-do                  0.000161\n",
       "57            infection_case_gym facility in Sejong                  0.000124\n",
       "10                                 country_Thailand                  0.000059\n",
       "9                                  country_Mongolia                  0.000000"
      ]
     },
     "execution_count": 105,
     "metadata": {},
     "output_type": "execute_result"
    }
   ],
   "source": [
    "feature_df.sort_values(by='feature_importance_value',ascending=False)"
   ]
  },
  {
   "cell_type": "code",
   "execution_count": null,
   "metadata": {},
   "outputs": [],
   "source": []
  }
 ],
 "metadata": {
  "colab": {
   "collapsed_sections": [
    "FXGd_NbdB5kn"
   ],
   "name": "RandomForest_casestudy_covid19.ipynb",
   "provenance": []
  },
  "kernelspec": {
   "display_name": "Python 3",
   "language": "python",
   "name": "python3"
  },
  "language_info": {
   "codemirror_mode": {
    "name": "ipython",
    "version": 3
   },
   "file_extension": ".py",
   "mimetype": "text/x-python",
   "name": "python",
   "nbconvert_exporter": "python",
   "pygments_lexer": "ipython3",
   "version": "3.8.3"
  }
 },
 "nbformat": 4,
 "nbformat_minor": 4
}
