{
 "cells": [
  {
   "cell_type": "markdown",
   "metadata": {},
   "source": [
    "Framingham Heart study dataset\n",
    "Dataset is downloaded from https://www.kaggle.com/amanajmera1/framingham-heart-study-dataset"
   ]
  },
  {
   "cell_type": "code",
   "execution_count": 66,
   "metadata": {},
   "outputs": [],
   "source": [
    "import numpy as np\n",
    "import pandas as pd\n",
    "import matplotlib.pyplot as plt\n",
    "import seaborn as sns\n",
    "from sklearn.model_selection import train_test_split\n",
    "from sklearn.preprocessing import StandardScaler\n",
    "from sklearn.metrics import accuracy_score \n",
    "from sklearn.linear_model import LogisticRegression\n",
    "from sklearn.model_selection import train_test_split\n",
    "import statsmodels.api as sm\n",
    "from sklearn.metrics import confusion_matrix,classification_report, accuracy_score"
   ]
  },
  {
   "cell_type": "code",
   "execution_count": 67,
   "metadata": {},
   "outputs": [],
   "source": [
    "# in this dataset, we are trying to predict the TenYearCHD(Coronary Heart Disease) , person likely to develop CHD or not\n",
    "df1 = pd.read_csv('framingham.csv')\n"
   ]
  },
  {
   "cell_type": "code",
   "execution_count": 4,
   "metadata": {},
   "outputs": [
    {
     "data": {
      "text/html": [
       "<div>\n",
       "<style scoped>\n",
       "    .dataframe tbody tr th:only-of-type {\n",
       "        vertical-align: middle;\n",
       "    }\n",
       "\n",
       "    .dataframe tbody tr th {\n",
       "        vertical-align: top;\n",
       "    }\n",
       "\n",
       "    .dataframe thead th {\n",
       "        text-align: right;\n",
       "    }\n",
       "</style>\n",
       "<table border=\"1\" class=\"dataframe\">\n",
       "  <thead>\n",
       "    <tr style=\"text-align: right;\">\n",
       "      <th></th>\n",
       "      <th>male</th>\n",
       "      <th>age</th>\n",
       "      <th>education</th>\n",
       "      <th>currentSmoker</th>\n",
       "      <th>cigsPerDay</th>\n",
       "      <th>BPMeds</th>\n",
       "      <th>prevalentStroke</th>\n",
       "      <th>prevalentHyp</th>\n",
       "      <th>diabetes</th>\n",
       "      <th>totChol</th>\n",
       "      <th>sysBP</th>\n",
       "      <th>diaBP</th>\n",
       "      <th>BMI</th>\n",
       "      <th>heartRate</th>\n",
       "      <th>glucose</th>\n",
       "      <th>TenYearCHD</th>\n",
       "    </tr>\n",
       "  </thead>\n",
       "  <tbody>\n",
       "    <tr>\n",
       "      <th>0</th>\n",
       "      <td>1</td>\n",
       "      <td>39</td>\n",
       "      <td>4.0</td>\n",
       "      <td>0</td>\n",
       "      <td>0.0</td>\n",
       "      <td>0.0</td>\n",
       "      <td>0</td>\n",
       "      <td>0</td>\n",
       "      <td>0</td>\n",
       "      <td>195.0</td>\n",
       "      <td>106.0</td>\n",
       "      <td>70.0</td>\n",
       "      <td>26.97</td>\n",
       "      <td>80.0</td>\n",
       "      <td>77.0</td>\n",
       "      <td>0</td>\n",
       "    </tr>\n",
       "    <tr>\n",
       "      <th>1</th>\n",
       "      <td>0</td>\n",
       "      <td>46</td>\n",
       "      <td>2.0</td>\n",
       "      <td>0</td>\n",
       "      <td>0.0</td>\n",
       "      <td>0.0</td>\n",
       "      <td>0</td>\n",
       "      <td>0</td>\n",
       "      <td>0</td>\n",
       "      <td>250.0</td>\n",
       "      <td>121.0</td>\n",
       "      <td>81.0</td>\n",
       "      <td>28.73</td>\n",
       "      <td>95.0</td>\n",
       "      <td>76.0</td>\n",
       "      <td>0</td>\n",
       "    </tr>\n",
       "    <tr>\n",
       "      <th>2</th>\n",
       "      <td>1</td>\n",
       "      <td>48</td>\n",
       "      <td>1.0</td>\n",
       "      <td>1</td>\n",
       "      <td>20.0</td>\n",
       "      <td>0.0</td>\n",
       "      <td>0</td>\n",
       "      <td>0</td>\n",
       "      <td>0</td>\n",
       "      <td>245.0</td>\n",
       "      <td>127.5</td>\n",
       "      <td>80.0</td>\n",
       "      <td>25.34</td>\n",
       "      <td>75.0</td>\n",
       "      <td>70.0</td>\n",
       "      <td>0</td>\n",
       "    </tr>\n",
       "    <tr>\n",
       "      <th>3</th>\n",
       "      <td>0</td>\n",
       "      <td>61</td>\n",
       "      <td>3.0</td>\n",
       "      <td>1</td>\n",
       "      <td>30.0</td>\n",
       "      <td>0.0</td>\n",
       "      <td>0</td>\n",
       "      <td>1</td>\n",
       "      <td>0</td>\n",
       "      <td>225.0</td>\n",
       "      <td>150.0</td>\n",
       "      <td>95.0</td>\n",
       "      <td>28.58</td>\n",
       "      <td>65.0</td>\n",
       "      <td>103.0</td>\n",
       "      <td>1</td>\n",
       "    </tr>\n",
       "    <tr>\n",
       "      <th>4</th>\n",
       "      <td>0</td>\n",
       "      <td>46</td>\n",
       "      <td>3.0</td>\n",
       "      <td>1</td>\n",
       "      <td>23.0</td>\n",
       "      <td>0.0</td>\n",
       "      <td>0</td>\n",
       "      <td>0</td>\n",
       "      <td>0</td>\n",
       "      <td>285.0</td>\n",
       "      <td>130.0</td>\n",
       "      <td>84.0</td>\n",
       "      <td>23.10</td>\n",
       "      <td>85.0</td>\n",
       "      <td>85.0</td>\n",
       "      <td>0</td>\n",
       "    </tr>\n",
       "  </tbody>\n",
       "</table>\n",
       "</div>"
      ],
      "text/plain": [
       "   male  age  education  currentSmoker  cigsPerDay  BPMeds  prevalentStroke  \\\n",
       "0     1   39        4.0              0         0.0     0.0                0   \n",
       "1     0   46        2.0              0         0.0     0.0                0   \n",
       "2     1   48        1.0              1        20.0     0.0                0   \n",
       "3     0   61        3.0              1        30.0     0.0                0   \n",
       "4     0   46        3.0              1        23.0     0.0                0   \n",
       "\n",
       "   prevalentHyp  diabetes  totChol  sysBP  diaBP    BMI  heartRate  glucose  \\\n",
       "0             0         0    195.0  106.0   70.0  26.97       80.0     77.0   \n",
       "1             0         0    250.0  121.0   81.0  28.73       95.0     76.0   \n",
       "2             0         0    245.0  127.5   80.0  25.34       75.0     70.0   \n",
       "3             1         0    225.0  150.0   95.0  28.58       65.0    103.0   \n",
       "4             0         0    285.0  130.0   84.0  23.10       85.0     85.0   \n",
       "\n",
       "   TenYearCHD  \n",
       "0           0  \n",
       "1           0  \n",
       "2           0  \n",
       "3           1  \n",
       "4           0  "
      ]
     },
     "execution_count": 4,
     "metadata": {},
     "output_type": "execute_result"
    }
   ],
   "source": [
    "df1.head()"
   ]
  },
  {
   "cell_type": "code",
   "execution_count": 69,
   "metadata": {},
   "outputs": [
    {
     "data": {
      "text/plain": [
       "(4240, 16)"
      ]
     },
     "execution_count": 69,
     "metadata": {},
     "output_type": "execute_result"
    }
   ],
   "source": [
    "df1.shape # (4240, 16)\n",
    "#df1.columns"
   ]
  },
  {
   "cell_type": "code",
   "execution_count": 70,
   "metadata": {},
   "outputs": [
    {
     "data": {
      "text/plain": [
       "0    3596\n",
       "1     644\n",
       "Name: TenYearCHD, dtype: int64"
      ]
     },
     "execution_count": 70,
     "metadata": {},
     "output_type": "execute_result"
    }
   ],
   "source": [
    "df1['TenYearCHD'].value_counts()"
   ]
  },
  {
   "cell_type": "markdown",
   "metadata": {},
   "source": [
    "# Dataset seems to be a imbalanced dataset"
   ]
  },
  {
   "cell_type": "code",
   "execution_count": 71,
   "metadata": {},
   "outputs": [],
   "source": [
    "# Only 18%  of data are having values 1, this shows the dataset is Imbalanced dataset"
   ]
  },
  {
   "cell_type": "markdown",
   "metadata": {},
   "source": [
    "# All the columns are already pre-processed and in numeric format, so no need to cleaning the data"
   ]
  },
  {
   "cell_type": "code",
   "execution_count": 72,
   "metadata": {},
   "outputs": [
    {
     "name": "stdout",
     "output_type": "stream",
     "text": [
      "education 105\n",
      "cigsPerDay 29\n",
      "BPMeds 53\n",
      "totChol 50\n",
      "BMI 19\n",
      "heartRate 1\n",
      "glucose 388\n"
     ]
    }
   ],
   "source": [
    "# Finding columns with NAs\n",
    "col_with_nulls =[]\n",
    "for col_name in df1.columns:\n",
    "    if df1[col_name].isnull().sum()> 0:\n",
    "        col_with_nulls.append(col_name) \n",
    "        print (col_name,df1[col_name].isnull().sum())"
   ]
  },
  {
   "cell_type": "code",
   "execution_count": 8,
   "metadata": {},
   "outputs": [
    {
     "data": {
      "text/plain": [
       "75.0     193\n",
       "77.0     167\n",
       "73.0     156\n",
       "80.0     153\n",
       "70.0     152\n",
       "        ... \n",
       "297.0      1\n",
       "167.0      1\n",
       "202.0      1\n",
       "235.0      1\n",
       "274.0      1\n",
       "Name: glucose, Length: 143, dtype: int64"
      ]
     },
     "execution_count": 8,
     "metadata": {},
     "output_type": "execute_result"
    }
   ],
   "source": [
    "df1['glucose'].value_counts()"
   ]
  },
  {
   "cell_type": "code",
   "execution_count": 73,
   "metadata": {},
   "outputs": [],
   "source": [
    "# Filling NAs for the above columns       \n",
    "# For the 'Education' column having null value\n",
    "\n",
    "df1['education'].fillna(1,inplace=True) # Since 1 is the most people educational level , filled NAs with 1\n",
    "df1['cigsPerDay'].fillna(0,inplace=True) # if the cigsperday is NA, then filling that with 0(assuming that they wont smoke)\n",
    "df1['BPMeds'].fillna(df1['BPMeds'].value_counts().sort_values(ascending=False).index[0],inplace=True) # if BPMeds is NA, so assum those people wont take BP Medicine\n",
    "# df1['BPMeds'].value_counts().sort_values(ascending=False).index[0] -> gives the element with most values\n",
    "df1['totChol'].fillna(df1['totChol'].median(),inplace=True) # filling the missing totchol with median value\n",
    "df1['BMI'].fillna(df1['BMI'].median(),inplace=True) # filling the missing BMI with median value\n",
    "df1['heartRate'].fillna(df1['heartRate'].value_counts().sort_values(ascending=False).index[0],inplace=True) # filling the missing BMI with median value\n",
    "df1['glucose'].fillna(df1['glucose'].median(),inplace=True) # filling the missing BMI with median value\n"
   ]
  },
  {
   "cell_type": "code",
   "execution_count": 83,
   "metadata": {},
   "outputs": [],
   "source": [
    "# Finding columns with NAs\n",
    "col_with_nulls =[]\n",
    "for col_name in df1.columns:\n",
    "    if df1[col_name].isnull().sum()> 0:\n",
    "        col_with_nulls.append(col_name) \n",
    "        print (col_name,df1[col_name].isnull().sum())"
   ]
  },
  {
   "cell_type": "markdown",
   "metadata": {},
   "source": [
    "# Now, there are no NAs in the dataset\n"
   ]
  },
  {
   "cell_type": "markdown",
   "metadata": {},
   "source": [
    "# Balancing the dataset"
   ]
  },
  {
   "cell_type": "code",
   "execution_count": 84,
   "metadata": {},
   "outputs": [],
   "source": [
    "y = df1['TenYearCHD']\n",
    "X = df1.drop(['TenYearCHD'],axis= 1)"
   ]
  },
  {
   "cell_type": "code",
   "execution_count": 85,
   "metadata": {},
   "outputs": [],
   "source": [
    "from imblearn.combine import SMOTETomek"
   ]
  },
  {
   "cell_type": "code",
   "execution_count": 86,
   "metadata": {},
   "outputs": [],
   "source": [
    "# Implementing Oversampling for Handling Imbalanced \n",
    "smk = SMOTETomek(random_state=42)\n",
    "X_res,y_res=smk.fit_sample(X,y)"
   ]
  },
  {
   "cell_type": "code",
   "execution_count": 95,
   "metadata": {},
   "outputs": [],
   "source": [
    "y_res = pd.DataFrame(y_res,columns=['TenYearCHD'])"
   ]
  },
  {
   "cell_type": "code",
   "execution_count": 96,
   "metadata": {},
   "outputs": [
    {
     "data": {
      "text/plain": [
       "((7132, 15), (7132, 1))"
      ]
     },
     "execution_count": 96,
     "metadata": {},
     "output_type": "execute_result"
    }
   ],
   "source": [
    "X_res.shape,y_res.shape"
   ]
  },
  {
   "cell_type": "code",
   "execution_count": 97,
   "metadata": {},
   "outputs": [],
   "source": [
    "# Merging the data after balancing\n",
    "df2 = pd.concat([y_res,X_res],axis=1)"
   ]
  },
  {
   "cell_type": "code",
   "execution_count": 99,
   "metadata": {},
   "outputs": [
    {
     "data": {
      "text/plain": [
       "(7132, 16)"
      ]
     },
     "execution_count": 99,
     "metadata": {},
     "output_type": "execute_result"
    }
   ],
   "source": [
    "df2.shape"
   ]
  },
  {
   "cell_type": "code",
   "execution_count": 100,
   "metadata": {},
   "outputs": [
    {
     "data": {
      "text/plain": [
       "1    3566\n",
       "0    3566\n",
       "Name: TenYearCHD, dtype: int64"
      ]
     },
     "execution_count": 100,
     "metadata": {},
     "output_type": "execute_result"
    }
   ],
   "source": [
    "df2['TenYearCHD'].value_counts()"
   ]
  },
  {
   "cell_type": "markdown",
   "metadata": {},
   "source": [
    "# Feature Selection\n",
    "sns.heatmap(df1.corr(),annot=True)"
   ]
  },
  {
   "cell_type": "markdown",
   "metadata": {},
   "source": [
    "# Running OLS Regression Results to identify Important features"
   ]
  },
  {
   "cell_type": "code",
   "execution_count": 101,
   "metadata": {},
   "outputs": [
    {
     "data": {
      "text/html": [
       "<table class=\"simpletable\">\n",
       "<caption>OLS Regression Results</caption>\n",
       "<tr>\n",
       "  <th>Dep. Variable:</th>       <td>TenYearCHD</td>    <th>  R-squared (uncentered):</th>      <td>   0.575</td>\n",
       "</tr>\n",
       "<tr>\n",
       "  <th>Model:</th>                   <td>OLS</td>       <th>  Adj. R-squared (uncentered):</th> <td>   0.574</td>\n",
       "</tr>\n",
       "<tr>\n",
       "  <th>Method:</th>             <td>Least Squares</td>  <th>  F-statistic:       </th>          <td>   642.5</td>\n",
       "</tr>\n",
       "<tr>\n",
       "  <th>Date:</th>             <td>Sat, 21 Nov 2020</td> <th>  Prob (F-statistic):</th>           <td>  0.00</td> \n",
       "</tr>\n",
       "<tr>\n",
       "  <th>Time:</th>                 <td>16:05:09</td>     <th>  Log-Likelihood:    </th>          <td> -4594.8</td>\n",
       "</tr>\n",
       "<tr>\n",
       "  <th>No. Observations:</th>      <td>  7132</td>      <th>  AIC:               </th>          <td>   9220.</td>\n",
       "</tr>\n",
       "<tr>\n",
       "  <th>Df Residuals:</th>          <td>  7117</td>      <th>  BIC:               </th>          <td>   9323.</td>\n",
       "</tr>\n",
       "<tr>\n",
       "  <th>Df Model:</th>              <td>    15</td>      <th>                     </th>              <td> </td>   \n",
       "</tr>\n",
       "<tr>\n",
       "  <th>Covariance Type:</th>      <td>nonrobust</td>    <th>                     </th>              <td> </td>   \n",
       "</tr>\n",
       "</table>\n",
       "<table class=\"simpletable\">\n",
       "<tr>\n",
       "         <td></td>            <th>coef</th>     <th>std err</th>      <th>t</th>      <th>P>|t|</th>  <th>[0.025</th>    <th>0.975]</th>  \n",
       "</tr>\n",
       "<tr>\n",
       "  <th>male</th>            <td>   -0.0977</td> <td>    0.012</td> <td>   -7.916</td> <td> 0.000</td> <td>   -0.122</td> <td>   -0.073</td>\n",
       "</tr>\n",
       "<tr>\n",
       "  <th>age</th>             <td>    0.0109</td> <td>    0.001</td> <td>   15.241</td> <td> 0.000</td> <td>    0.009</td> <td>    0.012</td>\n",
       "</tr>\n",
       "<tr>\n",
       "  <th>education</th>       <td>   -0.0271</td> <td>    0.006</td> <td>   -4.781</td> <td> 0.000</td> <td>   -0.038</td> <td>   -0.016</td>\n",
       "</tr>\n",
       "<tr>\n",
       "  <th>currentSmoker</th>   <td>   -0.2457</td> <td>    0.018</td> <td>  -13.799</td> <td> 0.000</td> <td>   -0.281</td> <td>   -0.211</td>\n",
       "</tr>\n",
       "<tr>\n",
       "  <th>cigsPerDay</th>      <td>    0.0145</td> <td>    0.001</td> <td>   19.085</td> <td> 0.000</td> <td>    0.013</td> <td>    0.016</td>\n",
       "</tr>\n",
       "<tr>\n",
       "  <th>BPMeds</th>          <td>    0.1418</td> <td>    0.032</td> <td>    4.486</td> <td> 0.000</td> <td>    0.080</td> <td>    0.204</td>\n",
       "</tr>\n",
       "<tr>\n",
       "  <th>prevalentStroke</th> <td>   -0.1549</td> <td>    0.097</td> <td>   -1.602</td> <td> 0.109</td> <td>   -0.344</td> <td>    0.035</td>\n",
       "</tr>\n",
       "<tr>\n",
       "  <th>prevalentHyp</th>    <td>   -0.0438</td> <td>    0.015</td> <td>   -2.883</td> <td> 0.004</td> <td>   -0.074</td> <td>   -0.014</td>\n",
       "</tr>\n",
       "<tr>\n",
       "  <th>diabetes</th>        <td>   -0.0238</td> <td>    0.047</td> <td>   -0.504</td> <td> 0.615</td> <td>   -0.116</td> <td>    0.069</td>\n",
       "</tr>\n",
       "<tr>\n",
       "  <th>totChol</th>         <td>   -0.0002</td> <td>    0.000</td> <td>   -1.783</td> <td> 0.075</td> <td>   -0.000</td> <td> 2.22e-05</td>\n",
       "</tr>\n",
       "<tr>\n",
       "  <th>sysBP</th>           <td>    0.0030</td> <td>    0.000</td> <td>    6.281</td> <td> 0.000</td> <td>    0.002</td> <td>    0.004</td>\n",
       "</tr>\n",
       "<tr>\n",
       "  <th>diaBP</th>           <td>    0.0004</td> <td>    0.001</td> <td>    0.512</td> <td> 0.609</td> <td>   -0.001</td> <td>    0.002</td>\n",
       "</tr>\n",
       "<tr>\n",
       "  <th>BMI</th>             <td>   -0.0059</td> <td>    0.001</td> <td>   -4.111</td> <td> 0.000</td> <td>   -0.009</td> <td>   -0.003</td>\n",
       "</tr>\n",
       "<tr>\n",
       "  <th>heartRate</th>       <td>   -0.0038</td> <td>    0.000</td> <td>   -8.195</td> <td> 0.000</td> <td>   -0.005</td> <td>   -0.003</td>\n",
       "</tr>\n",
       "<tr>\n",
       "  <th>glucose</th>         <td>    0.0009</td> <td>    0.000</td> <td>    3.426</td> <td> 0.001</td> <td>    0.000</td> <td>    0.001</td>\n",
       "</tr>\n",
       "</table>\n",
       "<table class=\"simpletable\">\n",
       "<tr>\n",
       "  <th>Omnibus:</th>       <td>42037.749</td> <th>  Durbin-Watson:     </th> <td>   0.844</td> \n",
       "</tr>\n",
       "<tr>\n",
       "  <th>Prob(Omnibus):</th>  <td> 0.000</td>   <th>  Jarque-Bera (JB):  </th> <td> 683.486</td> \n",
       "</tr>\n",
       "<tr>\n",
       "  <th>Skew:</th>           <td>-0.017</td>   <th>  Prob(JB):          </th> <td>3.83e-149</td>\n",
       "</tr>\n",
       "<tr>\n",
       "  <th>Kurtosis:</th>       <td> 1.484</td>   <th>  Cond. No.          </th> <td>5.63e+03</td> \n",
       "</tr>\n",
       "</table><br/><br/>Warnings:<br/>[1] Standard Errors assume that the covariance matrix of the errors is correctly specified.<br/>[2] The condition number is large, 5.63e+03. This might indicate that there are<br/>strong multicollinearity or other numerical problems."
      ],
      "text/plain": [
       "<class 'statsmodels.iolib.summary.Summary'>\n",
       "\"\"\"\n",
       "                                 OLS Regression Results                                \n",
       "=======================================================================================\n",
       "Dep. Variable:             TenYearCHD   R-squared (uncentered):                   0.575\n",
       "Model:                            OLS   Adj. R-squared (uncentered):              0.574\n",
       "Method:                 Least Squares   F-statistic:                              642.5\n",
       "Date:                Sat, 21 Nov 2020   Prob (F-statistic):                        0.00\n",
       "Time:                        16:05:09   Log-Likelihood:                         -4594.8\n",
       "No. Observations:                7132   AIC:                                      9220.\n",
       "Df Residuals:                    7117   BIC:                                      9323.\n",
       "Df Model:                          15                                                  \n",
       "Covariance Type:            nonrobust                                                  \n",
       "===================================================================================\n",
       "                      coef    std err          t      P>|t|      [0.025      0.975]\n",
       "-----------------------------------------------------------------------------------\n",
       "male               -0.0977      0.012     -7.916      0.000      -0.122      -0.073\n",
       "age                 0.0109      0.001     15.241      0.000       0.009       0.012\n",
       "education          -0.0271      0.006     -4.781      0.000      -0.038      -0.016\n",
       "currentSmoker      -0.2457      0.018    -13.799      0.000      -0.281      -0.211\n",
       "cigsPerDay          0.0145      0.001     19.085      0.000       0.013       0.016\n",
       "BPMeds              0.1418      0.032      4.486      0.000       0.080       0.204\n",
       "prevalentStroke    -0.1549      0.097     -1.602      0.109      -0.344       0.035\n",
       "prevalentHyp       -0.0438      0.015     -2.883      0.004      -0.074      -0.014\n",
       "diabetes           -0.0238      0.047     -0.504      0.615      -0.116       0.069\n",
       "totChol            -0.0002      0.000     -1.783      0.075      -0.000    2.22e-05\n",
       "sysBP               0.0030      0.000      6.281      0.000       0.002       0.004\n",
       "diaBP               0.0004      0.001      0.512      0.609      -0.001       0.002\n",
       "BMI                -0.0059      0.001     -4.111      0.000      -0.009      -0.003\n",
       "heartRate          -0.0038      0.000     -8.195      0.000      -0.005      -0.003\n",
       "glucose             0.0009      0.000      3.426      0.001       0.000       0.001\n",
       "==============================================================================\n",
       "Omnibus:                    42037.749   Durbin-Watson:                   0.844\n",
       "Prob(Omnibus):                  0.000   Jarque-Bera (JB):              683.486\n",
       "Skew:                          -0.017   Prob(JB):                    3.83e-149\n",
       "Kurtosis:                       1.484   Cond. No.                     5.63e+03\n",
       "==============================================================================\n",
       "\n",
       "Warnings:\n",
       "[1] Standard Errors assume that the covariance matrix of the errors is correctly specified.\n",
       "[2] The condition number is large, 5.63e+03. This might indicate that there are\n",
       "strong multicollinearity or other numerical problems.\n",
       "\"\"\""
      ]
     },
     "execution_count": 101,
     "metadata": {},
     "output_type": "execute_result"
    }
   ],
   "source": [
    "#using statsmodels\n",
    "\n",
    "est = sm.OLS(df2['TenYearCHD'],df2.drop(['TenYearCHD'],axis= 1))\n",
    "est2 = est.fit()\n",
    "est2.summary()"
   ]
  },
  {
   "cell_type": "code",
   "execution_count": 102,
   "metadata": {},
   "outputs": [
    {
     "data": {
      "text/plain": [
       "<matplotlib.axes._subplots.AxesSubplot at 0x10baec610>"
      ]
     },
     "execution_count": 102,
     "metadata": {},
     "output_type": "execute_result"
    },
    {
     "data": {
      "image/png": "[encoded data removed]",
      "text/plain": [
       "<Figure size 1440x720 with 2 Axes>"
      ]
     },
     "metadata": {
      "needs_background": "light"
     },
     "output_type": "display_data"
    }
   ],
   "source": [
    "plt.figure(figsize=(20,10))\n",
    "sns.heatmap(df2.corr(),annot=True)"
   ]
  },
  {
   "cell_type": "code",
   "execution_count": 104,
   "metadata": {},
   "outputs": [],
   "source": [
    "# Based on OLS regression results and co-relation matrix, selecting only below columns for the model\n",
    "df3 = df2[['TenYearCHD', 'male', 'age', 'cigsPerDay','BPMeds', 'prevalentHyp', 'totChol','sysBP', 'BMI', 'heartRate', 'glucose']]"
   ]
  },
  {
   "cell_type": "markdown",
   "metadata": {},
   "source": [
    "# Based on OLS Regression Results, For 95% confidence, the columns p_value < alpha , we are removing those columns for the model\n",
    "# Columns like Education,CurrentSmoker,prevalentStroke,totChol,glucose can be removd from the model as their 'p>[t]' values are > 0.05"
   ]
  },
  {
   "cell_type": "code",
   "execution_count": 105,
   "metadata": {},
   "outputs": [
    {
     "data": {
      "text/plain": [
       "Index(['TenYearCHD', 'male', 'age', 'cigsPerDay', 'BPMeds', 'prevalentHyp',\n",
       "       'totChol', 'sysBP', 'BMI', 'heartRate', 'glucose'],\n",
       "      dtype='object')"
      ]
     },
     "execution_count": 105,
     "metadata": {},
     "output_type": "execute_result"
    }
   ],
   "source": [
    "df3.columns"
   ]
  },
  {
   "cell_type": "markdown",
   "metadata": {},
   "source": [
    "# Feature Scaling (Standard Scaler)\n",
    "Scaling needs to be performed on this dataset as the columns('totChol', 'sysBP',\n",
    "       'diaBP', 'BMI', 'heartRate') are in different units of measurements"
   ]
  },
  {
   "cell_type": "markdown",
   "metadata": {},
   "source": [
    "model = LogisticRegression()\n",
    "model.fit(X, y)\n",
    "predicted_classes = model.predict(X)\n",
    "accuracy = accuracy_score(y.flatten(),predicted_classes)\n",
    "parameters = model.coef_"
   ]
  },
  {
   "cell_type": "code",
   "execution_count": 106,
   "metadata": {},
   "outputs": [],
   "source": [
    "scaler= StandardScaler()\n",
    "scaled_X_data = scaler.fit_transform(df3[['male', 'age', 'cigsPerDay','BPMeds', 'prevalentHyp', 'totChol','sysBP', 'BMI', 'heartRate', 'glucose']])\n"
   ]
  },
  {
   "cell_type": "code",
   "execution_count": 107,
   "metadata": {},
   "outputs": [],
   "source": [
    "scaled_X_data = pd.DataFrame(scaled_X_data,columns= ['male', 'age', 'cigsPerDay','BPMeds', 'prevalentHyp', 'totChol','sysBP', 'BMI', 'heartRate', 'glucose'] )"
   ]
  },
  {
   "cell_type": "code",
   "execution_count": 108,
   "metadata": {},
   "outputs": [
    {
     "data": {
      "text/html": [
       "<div>\n",
       "<style scoped>\n",
       "    .dataframe tbody tr th:only-of-type {\n",
       "        vertical-align: middle;\n",
       "    }\n",
       "\n",
       "    .dataframe tbody tr th {\n",
       "        vertical-align: top;\n",
       "    }\n",
       "\n",
       "    .dataframe thead th {\n",
       "        text-align: right;\n",
       "    }\n",
       "</style>\n",
       "<table border=\"1\" class=\"dataframe\">\n",
       "  <thead>\n",
       "    <tr style=\"text-align: right;\">\n",
       "      <th></th>\n",
       "      <th>male</th>\n",
       "      <th>age</th>\n",
       "      <th>cigsPerDay</th>\n",
       "      <th>BPMeds</th>\n",
       "      <th>prevalentHyp</th>\n",
       "      <th>totChol</th>\n",
       "      <th>sysBP</th>\n",
       "      <th>BMI</th>\n",
       "      <th>heartRate</th>\n",
       "      <th>glucose</th>\n",
       "    </tr>\n",
       "  </thead>\n",
       "  <tbody>\n",
       "    <tr>\n",
       "      <th>0</th>\n",
       "      <td>1.270201</td>\n",
       "      <td>-1.491159</td>\n",
       "      <td>-0.794863</td>\n",
       "      <td>-0.235504</td>\n",
       "      <td>-0.709041</td>\n",
       "      <td>-0.999939</td>\n",
       "      <td>-1.290540</td>\n",
       "      <td>0.229956</td>\n",
       "      <td>0.339352</td>\n",
       "      <td>-0.232487</td>\n",
       "    </tr>\n",
       "    <tr>\n",
       "      <th>1</th>\n",
       "      <td>-0.787277</td>\n",
       "      <td>-0.635582</td>\n",
       "      <td>-0.794863</td>\n",
       "      <td>-0.235504</td>\n",
       "      <td>-0.709041</td>\n",
       "      <td>0.232920</td>\n",
       "      <td>-0.656542</td>\n",
       "      <td>0.673551</td>\n",
       "      <td>1.641140</td>\n",
       "      <td>-0.265120</td>\n",
       "    </tr>\n",
       "    <tr>\n",
       "      <th>2</th>\n",
       "      <td>1.270201</td>\n",
       "      <td>-0.391131</td>\n",
       "      <td>0.876779</td>\n",
       "      <td>-0.235504</td>\n",
       "      <td>-0.709041</td>\n",
       "      <td>0.120842</td>\n",
       "      <td>-0.381809</td>\n",
       "      <td>-0.180873</td>\n",
       "      <td>-0.094578</td>\n",
       "      <td>-0.460918</td>\n",
       "    </tr>\n",
       "    <tr>\n",
       "      <th>3</th>\n",
       "      <td>-0.787277</td>\n",
       "      <td>1.197798</td>\n",
       "      <td>1.712600</td>\n",
       "      <td>-0.235504</td>\n",
       "      <td>1.410356</td>\n",
       "      <td>-0.327470</td>\n",
       "      <td>0.569189</td>\n",
       "      <td>0.635745</td>\n",
       "      <td>-0.962437</td>\n",
       "      <td>0.615971</td>\n",
       "    </tr>\n",
       "    <tr>\n",
       "      <th>4</th>\n",
       "      <td>-0.787277</td>\n",
       "      <td>-0.635582</td>\n",
       "      <td>1.127525</td>\n",
       "      <td>-0.235504</td>\n",
       "      <td>-0.709041</td>\n",
       "      <td>1.017466</td>\n",
       "      <td>-0.276142</td>\n",
       "      <td>-0.745448</td>\n",
       "      <td>0.773281</td>\n",
       "      <td>0.028577</td>\n",
       "    </tr>\n",
       "  </tbody>\n",
       "</table>\n",
       "</div>"
      ],
      "text/plain": [
       "       male       age  cigsPerDay    BPMeds  prevalentHyp   totChol     sysBP  \\\n",
       "0  1.270201 -1.491159   -0.794863 -0.235504     -0.709041 -0.999939 -1.290540   \n",
       "1 -0.787277 -0.635582   -0.794863 -0.235504     -0.709041  0.232920 -0.656542   \n",
       "2  1.270201 -0.391131    0.876779 -0.235504     -0.709041  0.120842 -0.381809   \n",
       "3 -0.787277  1.197798    1.712600 -0.235504      1.410356 -0.327470  0.569189   \n",
       "4 -0.787277 -0.635582    1.127525 -0.235504     -0.709041  1.017466 -0.276142   \n",
       "\n",
       "        BMI  heartRate   glucose  \n",
       "0  0.229956   0.339352 -0.232487  \n",
       "1  0.673551   1.641140 -0.265120  \n",
       "2 -0.180873  -0.094578 -0.460918  \n",
       "3  0.635745  -0.962437  0.615971  \n",
       "4 -0.745448   0.773281  0.028577  "
      ]
     },
     "execution_count": 108,
     "metadata": {},
     "output_type": "execute_result"
    }
   ],
   "source": [
    "scaled_X_data.head()"
   ]
  },
  {
   "cell_type": "code",
   "execution_count": 109,
   "metadata": {},
   "outputs": [
    {
     "data": {
      "text/plain": [
       "male            0\n",
       "age             0\n",
       "cigsPerDay      0\n",
       "BPMeds          0\n",
       "prevalentHyp    0\n",
       "totChol         0\n",
       "sysBP           0\n",
       "BMI             0\n",
       "heartRate       0\n",
       "glucose         0\n",
       "dtype: int64"
      ]
     },
     "execution_count": 109,
     "metadata": {},
     "output_type": "execute_result"
    }
   ],
   "source": [
    "scaled_X_data.isnull().sum()"
   ]
  },
  {
   "cell_type": "code",
   "execution_count": 115,
   "metadata": {},
   "outputs": [
    {
     "data": {
      "text/plain": [
       "((7132, 10),\n",
       " Index(['male', 'age', 'cigsPerDay', 'BPMeds', 'prevalentHyp', 'totChol',\n",
       "        'sysBP', 'BMI', 'heartRate', 'glucose'],\n",
       "       dtype='object'))"
      ]
     },
     "execution_count": 115,
     "metadata": {},
     "output_type": "execute_result"
    }
   ],
   "source": [
    "scaled_X_data.shape,scaled_X_data.columns\n"
   ]
  },
  {
   "cell_type": "code",
   "execution_count": 113,
   "metadata": {},
   "outputs": [
    {
     "data": {
      "text/plain": [
       "male            0\n",
       "age             0\n",
       "cigsPerDay      0\n",
       "BPMeds          0\n",
       "prevalentHyp    0\n",
       "totChol         0\n",
       "sysBP           0\n",
       "BMI             0\n",
       "heartRate       0\n",
       "glucose         0\n",
       "dtype: int64"
      ]
     },
     "execution_count": 113,
     "metadata": {},
     "output_type": "execute_result"
    }
   ],
   "source": [
    "scaled_X_data.isnull().sum()"
   ]
  },
  {
   "cell_type": "code",
   "execution_count": 121,
   "metadata": {},
   "outputs": [],
   "source": [
    "y_data = pd.DataFrame(df3['TenYearCHD'],columns=['TenYearCHD'])"
   ]
  },
  {
   "cell_type": "code",
   "execution_count": 122,
   "metadata": {},
   "outputs": [
    {
     "data": {
      "text/plain": [
       "(7132, 1)"
      ]
     },
     "execution_count": 122,
     "metadata": {},
     "output_type": "execute_result"
    }
   ],
   "source": [
    "y_data.shape"
   ]
  },
  {
   "cell_type": "code",
   "execution_count": 123,
   "metadata": {},
   "outputs": [],
   "source": [
    "#pd.concat([dataset[['Id', 'SalePrice']].reset_index(drop=True),pd.DataFrame(scaler.transform(dataset[feature_scale]), columns=feature_scale)],axis=1)\n",
    "final_data = pd.concat([y_data,scaled_X_data],axis=1)\n"
   ]
  },
  {
   "cell_type": "code",
   "execution_count": 124,
   "metadata": {},
   "outputs": [
    {
     "data": {
      "text/plain": [
       "(7132, 11)"
      ]
     },
     "execution_count": 124,
     "metadata": {},
     "output_type": "execute_result"
    }
   ],
   "source": [
    "final_data.shape"
   ]
  },
  {
   "cell_type": "code",
   "execution_count": 125,
   "metadata": {},
   "outputs": [
    {
     "data": {
      "text/plain": [
       "TenYearCHD      0\n",
       "male            0\n",
       "age             0\n",
       "cigsPerDay      0\n",
       "BPMeds          0\n",
       "prevalentHyp    0\n",
       "totChol         0\n",
       "sysBP           0\n",
       "BMI             0\n",
       "heartRate       0\n",
       "glucose         0\n",
       "dtype: int64"
      ]
     },
     "execution_count": 125,
     "metadata": {},
     "output_type": "execute_result"
    }
   ],
   "source": [
    "final_data.isnull().sum()"
   ]
  },
  {
   "cell_type": "code",
   "execution_count": 126,
   "metadata": {},
   "outputs": [
    {
     "data": {
      "text/html": [
       "<div>\n",
       "<style scoped>\n",
       "    .dataframe tbody tr th:only-of-type {\n",
       "        vertical-align: middle;\n",
       "    }\n",
       "\n",
       "    .dataframe tbody tr th {\n",
       "        vertical-align: top;\n",
       "    }\n",
       "\n",
       "    .dataframe thead th {\n",
       "        text-align: right;\n",
       "    }\n",
       "</style>\n",
       "<table border=\"1\" class=\"dataframe\">\n",
       "  <thead>\n",
       "    <tr style=\"text-align: right;\">\n",
       "      <th></th>\n",
       "      <th>TenYearCHD</th>\n",
       "      <th>male</th>\n",
       "      <th>age</th>\n",
       "      <th>cigsPerDay</th>\n",
       "      <th>BPMeds</th>\n",
       "      <th>prevalentHyp</th>\n",
       "      <th>totChol</th>\n",
       "      <th>sysBP</th>\n",
       "      <th>BMI</th>\n",
       "      <th>heartRate</th>\n",
       "      <th>glucose</th>\n",
       "    </tr>\n",
       "  </thead>\n",
       "  <tbody>\n",
       "    <tr>\n",
       "      <th>0</th>\n",
       "      <td>0</td>\n",
       "      <td>1.270201</td>\n",
       "      <td>-1.491159</td>\n",
       "      <td>-0.794863</td>\n",
       "      <td>-0.235504</td>\n",
       "      <td>-0.709041</td>\n",
       "      <td>-0.999939</td>\n",
       "      <td>-1.290540</td>\n",
       "      <td>0.229956</td>\n",
       "      <td>0.339352</td>\n",
       "      <td>-0.232487</td>\n",
       "    </tr>\n",
       "    <tr>\n",
       "      <th>1</th>\n",
       "      <td>0</td>\n",
       "      <td>-0.787277</td>\n",
       "      <td>-0.635582</td>\n",
       "      <td>-0.794863</td>\n",
       "      <td>-0.235504</td>\n",
       "      <td>-0.709041</td>\n",
       "      <td>0.232920</td>\n",
       "      <td>-0.656542</td>\n",
       "      <td>0.673551</td>\n",
       "      <td>1.641140</td>\n",
       "      <td>-0.265120</td>\n",
       "    </tr>\n",
       "    <tr>\n",
       "      <th>2</th>\n",
       "      <td>0</td>\n",
       "      <td>1.270201</td>\n",
       "      <td>-0.391131</td>\n",
       "      <td>0.876779</td>\n",
       "      <td>-0.235504</td>\n",
       "      <td>-0.709041</td>\n",
       "      <td>0.120842</td>\n",
       "      <td>-0.381809</td>\n",
       "      <td>-0.180873</td>\n",
       "      <td>-0.094578</td>\n",
       "      <td>-0.460918</td>\n",
       "    </tr>\n",
       "    <tr>\n",
       "      <th>3</th>\n",
       "      <td>1</td>\n",
       "      <td>-0.787277</td>\n",
       "      <td>1.197798</td>\n",
       "      <td>1.712600</td>\n",
       "      <td>-0.235504</td>\n",
       "      <td>1.410356</td>\n",
       "      <td>-0.327470</td>\n",
       "      <td>0.569189</td>\n",
       "      <td>0.635745</td>\n",
       "      <td>-0.962437</td>\n",
       "      <td>0.615971</td>\n",
       "    </tr>\n",
       "    <tr>\n",
       "      <th>4</th>\n",
       "      <td>0</td>\n",
       "      <td>-0.787277</td>\n",
       "      <td>-0.635582</td>\n",
       "      <td>1.127525</td>\n",
       "      <td>-0.235504</td>\n",
       "      <td>-0.709041</td>\n",
       "      <td>1.017466</td>\n",
       "      <td>-0.276142</td>\n",
       "      <td>-0.745448</td>\n",
       "      <td>0.773281</td>\n",
       "      <td>0.028577</td>\n",
       "    </tr>\n",
       "  </tbody>\n",
       "</table>\n",
       "</div>"
      ],
      "text/plain": [
       "   TenYearCHD      male       age  cigsPerDay    BPMeds  prevalentHyp  \\\n",
       "0           0  1.270201 -1.491159   -0.794863 -0.235504     -0.709041   \n",
       "1           0 -0.787277 -0.635582   -0.794863 -0.235504     -0.709041   \n",
       "2           0  1.270201 -0.391131    0.876779 -0.235504     -0.709041   \n",
       "3           1 -0.787277  1.197798    1.712600 -0.235504      1.410356   \n",
       "4           0 -0.787277 -0.635582    1.127525 -0.235504     -0.709041   \n",
       "\n",
       "    totChol     sysBP       BMI  heartRate   glucose  \n",
       "0 -0.999939 -1.290540  0.229956   0.339352 -0.232487  \n",
       "1  0.232920 -0.656542  0.673551   1.641140 -0.265120  \n",
       "2  0.120842 -0.381809 -0.180873  -0.094578 -0.460918  \n",
       "3 -0.327470  0.569189  0.635745  -0.962437  0.615971  \n",
       "4  1.017466 -0.276142 -0.745448   0.773281  0.028577  "
      ]
     },
     "execution_count": 126,
     "metadata": {},
     "output_type": "execute_result"
    }
   ],
   "source": [
    "final_data.head()\n"
   ]
  },
  {
   "cell_type": "code",
   "execution_count": 127,
   "metadata": {},
   "outputs": [],
   "source": [
    "# Finding columns with NAs in final_data\n",
    "col_with_nulls =[]\n",
    "for col_name in final_data.columns:\n",
    "    if final_data[col_name].isnull().sum()> 0:\n",
    "        col_with_nulls.append(col_name) \n",
    "        print (col_name,final_data[col_name].isnull().sum())"
   ]
  },
  {
   "cell_type": "code",
   "execution_count": 59,
   "metadata": {},
   "outputs": [],
   "source": [
    "final_data = final_data.dropna()"
   ]
  },
  {
   "cell_type": "code",
   "execution_count": 128,
   "metadata": {},
   "outputs": [
    {
     "data": {
      "text/plain": [
       "(7132, 11)"
      ]
     },
     "execution_count": 128,
     "metadata": {},
     "output_type": "execute_result"
    }
   ],
   "source": [
    "final_data.shape"
   ]
  },
  {
   "cell_type": "markdown",
   "metadata": {},
   "source": [
    "# Model Building"
   ]
  },
  {
   "cell_type": "code",
   "execution_count": 132,
   "metadata": {},
   "outputs": [],
   "source": [
    "final_data_x = final_data.drop(['TenYearCHD'],axis= 1)\n",
    "final_data_y = final_data['TenYearCHD']"
   ]
  },
  {
   "cell_type": "code",
   "execution_count": 133,
   "metadata": {},
   "outputs": [],
   "source": [
    "# Cross Validation \n",
    "X_train, X_test, y_train, y_test = train_test_split(final_data_x, \n",
    "                                                    final_data_y, test_size=0.30, \n",
    "                                                    random_state=101)\n"
   ]
  },
  {
   "cell_type": "code",
   "execution_count": 134,
   "metadata": {},
   "outputs": [
    {
     "data": {
      "text/plain": [
       "LogisticRegression()"
      ]
     },
     "execution_count": 134,
     "metadata": {},
     "output_type": "execute_result"
    }
   ],
   "source": [
    "model = LogisticRegression()\n",
    "model.fit(X_train, y_train)\n"
   ]
  },
  {
   "cell_type": "code",
   "execution_count": 136,
   "metadata": {},
   "outputs": [],
   "source": [
    "y_pred = model.predict(X_test)"
   ]
  },
  {
   "cell_type": "code",
   "execution_count": 138,
   "metadata": {},
   "outputs": [
    {
     "data": {
      "text/plain": [
       "(2140,)"
      ]
     },
     "execution_count": 138,
     "metadata": {},
     "output_type": "execute_result"
    }
   ],
   "source": [
    "y_pred.shape"
   ]
  },
  {
   "cell_type": "markdown",
   "metadata": {},
   "source": [
    "# Evaluating Performance of the model"
   ]
  },
  {
   "cell_type": "code",
   "execution_count": 139,
   "metadata": {},
   "outputs": [
    {
     "name": "stdout",
     "output_type": "stream",
     "text": [
      "Confusion Matrix : \n",
      " [[725 337]\n",
      " [365 713]]\n"
     ]
    }
   ],
   "source": [
    "cm = confusion_matrix(y_test, y_pred) \n",
    "  \n",
    "print (\"Confusion Matrix : \\n\", cm) "
   ]
  },
  {
   "cell_type": "code",
   "execution_count": 142,
   "metadata": {},
   "outputs": [
    {
     "name": "stdout",
     "output_type": "stream",
     "text": [
      "Classification Report : \n",
      "               precision    recall  f1-score   support\n",
      "\n",
      "           0       0.67      0.68      0.67      1062\n",
      "           1       0.68      0.66      0.67      1078\n",
      "\n",
      "    accuracy                           0.67      2140\n",
      "   macro avg       0.67      0.67      0.67      2140\n",
      "weighted avg       0.67      0.67      0.67      2140\n",
      "\n"
     ]
    }
   ],
   "source": [
    "cr = classification_report(y_test,y_pred)\n",
    "print (\"Classification Report : \\n\", cr) "
   ]
  },
  {
   "cell_type": "code",
   "execution_count": 140,
   "metadata": {},
   "outputs": [
    {
     "name": "stdout",
     "output_type": "stream",
     "text": [
      "Accuracy :  0.6719626168224299\n"
     ]
    }
   ],
   "source": [
    "print (\"Accuracy : \", accuracy_score(y_test, y_pred)) "
   ]
  },
  {
   "cell_type": "code",
   "execution_count": 141,
   "metadata": {},
   "outputs": [
    {
     "name": "stdout",
     "output_type": "stream",
     "text": [
      "Average precision-recall score: 0.62\n"
     ]
    }
   ],
   "source": [
    "from sklearn.metrics import average_precision_score\n",
    "average_precision = average_precision_score(y_test, y_pred)\n",
    "\n",
    "print('Average precision-recall score: {0:0.2f}'.format( average_precision))"
   ]
  }
 ],
 "metadata": {
  "kernelspec": {
   "display_name": "Python 3",
   "language": "python",
   "name": "python3"
  },
  "language_info": {
   "codemirror_mode": {
    "name": "ipython",
    "version": 3
   },
   "file_extension": ".py",
   "mimetype": "text/x-python",
   "name": "python",
   "nbconvert_exporter": "python",
   "pygments_lexer": "ipython3",
   "version": "3.8.3"
  }
 },
 "nbformat": 4,
 "nbformat_minor": 4
}
